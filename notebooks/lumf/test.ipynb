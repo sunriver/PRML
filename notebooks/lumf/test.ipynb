{
 "cells": [
  {
   "cell_type": "code",
   "execution_count": 1,
   "metadata": {
    "ExecuteTime": {
     "end_time": "2019-06-18T07:41:49.041201Z",
     "start_time": "2019-06-18T07:41:47.931086Z"
    }
   },
   "outputs": [
    {
     "name": "stdout",
     "output_type": "stream",
     "text": [
      "import module ....\n"
     ]
    }
   ],
   "source": [
    "#import module\n",
    "%matplotlib inline\n",
    "import numpy as np\n",
    "import pandas as pd\n",
    "import matplotlib.pyplot as plt\n",
    "\n",
    "from prml import nn\n",
    "\n",
    "print(\"import module ....\")"
   ]
  },
  {
   "cell_type": "code",
   "execution_count": 2,
   "metadata": {
    "ExecuteTime": {
     "end_time": "2019-06-18T07:41:50.477924Z",
     "start_time": "2019-06-18T07:41:50.470409Z"
    }
   },
   "outputs": [],
   "source": [
    "#define model\n",
    "class RegressionNetwork(nn.Network):\n",
    "    def __init__(self, n_input, n_hidden, n_output):\n",
    "        super().__init__()\n",
    "        with self.set_parameter():\n",
    "            self.w1 = nn.random.truncnormal(-2, 2, 1, (n_input, n_hidden))\n",
    "            self.b1 = np.arange(n_hidden)\n",
    "            print(\"inite w1=\", self.w1)\n",
    "            self.w2 = nn.random.truncnormal(-2, 2, 1, (n_hidden, n_output))\n",
    "            \n",
    "            print(\"inite w2=\", self.w2)\n",
    "            self.b2 = np.zeros(n_output)\n",
    "            \n",
    "            \n",
    "    def __call__(self, x):\n",
    "#         print(\"x=\" , x)\n",
    "        h = nn.tanh(x @ self.w1 + self.b1)\n",
    "#         print(\"x.shape=\", x.shape, \"h.shape=\", h.shape, \"w2.shape=\", self.w2.shape)\n",
    "#         h = nn.tanh(np.dot(x, self.w1) + self.b1)\n",
    "#         h = nn.tanh(x.dot(self.w1)) + self.b1\n",
    "        y = h @ self.w2 + self.b2\n",
    "        return y\n",
    "        \n",
    "        \n",
    "        \n",
    "    "
   ]
  },
  {
   "cell_type": "code",
   "execution_count": 9,
   "metadata": {
    "ExecuteTime": {
     "end_time": "2019-06-18T07:54:38.480766Z",
     "start_time": "2019-06-18T07:54:37.517436Z"
    }
   },
   "outputs": [
    {
     "name": "stdout",
     "output_type": "stream",
     "text": [
      "inite w1= Array(shape=(1, 3), dtype=float32)\n",
      "inite w2= Array(shape=(3, 1), dtype=float32)\n"
     ]
    },
    {
     "data": {
      "text/plain": [
       "[<matplotlib.lines.Line2D at 0x1230d27b8>]"
      ]
     },
     "execution_count": 9,
     "metadata": {},
     "output_type": "execute_result"
    },
    {
     "data": {
      "image/png": "[encoded data removed]",
      "text/plain": [
       "<Figure size 432x288 with 1 Axes>"
      ]
     },
     "metadata": {
      "needs_background": "light"
     },
     "output_type": "display_data"
    },
    {
     "data": {
      "image/png": "[encoded data removed]",
      "text/plain": [
       "<Figure size 432x288 with 1 Axes>"
      ]
     },
     "metadata": {
      "needs_background": "light"
     },
     "output_type": "display_data"
    }
   ],
   "source": [
    "#prepare data and train model\n",
    "def create_batch_data(batch_size):\n",
    "   x = np.random.randint(1, 500, size = batch_size )[:, None] * 2\n",
    "   y = x  - 50\n",
    "   return x, y\n",
    "\n",
    "batch_size = 50\n",
    "\n",
    "iterat_count = 1000\n",
    "\n",
    "model = RegressionNetwork(1, 3, 1)\n",
    "optimizer = nn.optimizer.Adam(model.parameter, 0.1)\n",
    "x_train, y_train = create_batch_data(batch_size)\n",
    "# print(x_train)\n",
    "loss_set = []\n",
    "for i in range(iterat_count): \n",
    "    loss = nn.square(y_train - model(x_train)).sum()\n",
    "    loss_set.append(loss.value)\n",
    "    optimizer.minimize(loss)\n",
    "    \n",
    "\n",
    "# print(\"w1.value=\", model.w1.value, \"b1.value=\",  model.b1)  \n",
    "\n",
    "# print(\"w2.value=\", model.w2.value, \"b2.value=\",  model.b2) \n",
    "\n",
    "x_test = np.random.randint(1, 500, size = 10)[:, None] * 2\n",
    "# print(\"x_test=\", x_test)\n",
    "\n",
    "y_test = model(x_test).value\n",
    "\n",
    "# print(\"x_test\", x_test)\n",
    "# print(\"y_test=\", y_test)\n",
    "\n",
    "\n",
    "# print(x_test.flatten(), y_test)\n",
    "\n",
    "#show fit function\n",
    "plt.figure()\n",
    "\n",
    "plt.scatter(x_train, y_train)\n",
    "plt.scatter(x_test, y_test)\n",
    "\n",
    "#show loss trend\n",
    "plt.figure()\n",
    "plt.xlabel(\"batch_time\")\n",
    "plt.ylabel(\"loss\")\n",
    "plt.plot(np.linspace(0, iterat_count, len(loss_set)), loss_set)\n",
    "    "
   ]
  },
  {
   "cell_type": "code",
   "execution_count": null,
   "metadata": {},
   "outputs": [],
   "source": []
  }
 ],
 "metadata": {
  "kernelspec": {
   "display_name": "Python 3",
   "language": "python",
   "name": "python3"
  },
  "language_info": {
   "codemirror_mode": {
    "name": "ipython",
    "version": 3
   },
   "file_extension": ".py",
   "mimetype": "text/x-python",
   "name": "python",
   "nbconvert_exporter": "python",
   "pygments_lexer": "ipython3",
   "version": "3.7.2"
  },
  "toc": {
   "base_numbering": 1,
   "nav_menu": {},
   "number_sections": true,
   "sideBar": true,
   "skip_h1_title": false,
   "title_cell": "Table of Contents",
   "title_sidebar": "Contents",
   "toc_cell": false,
   "toc_position": {},
   "toc_section_display": true,
   "toc_window_display": true
  },
  "varInspector": {
   "cols": {
    "lenName": 16,
    "lenType": 16,
    "lenVar": 40
   },
   "kernels_config": {
    "python": {
     "delete_cmd_postfix": "",
     "delete_cmd_prefix": "del ",
     "library": "var_list.py",
     "varRefreshCmd": "print(var_dic_list())"
    },
    "r": {
     "delete_cmd_postfix": ") ",
     "delete_cmd_prefix": "rm(",
     "library": "var_list.r",
     "varRefreshCmd": "cat(var_dic_list()) "
    }
   },
   "position": {
    "height": "471px",
    "left": "743px",
    "right": "20px",
    "top": "115px",
    "width": "667px"
   },
   "types_to_exclude": [
    "module",
    "function",
    "builtin_function_or_method",
    "instance",
    "_Feature"
   ],
   "window_display": false
  }
 },
 "nbformat": 4,
 "nbformat_minor": 2
}
