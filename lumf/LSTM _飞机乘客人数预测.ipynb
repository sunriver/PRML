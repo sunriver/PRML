{
 "cells": [
  {
   "cell_type": "markdown",
   "metadata": {},
   "source": [
    "# import lib"
   ]
  },
  {
   "cell_type": "code",
   "execution_count": 25,
   "metadata": {
    "ExecuteTime": {
     "end_time": "2019-07-05T03:28:51.342017Z",
     "start_time": "2019-07-05T03:28:50.894327Z"
    }
   },
   "outputs": [
    {
     "name": "stdout",
     "output_type": "stream",
     "text": [
      "1.13.1\n"
     ]
    }
   ],
   "source": [
    "import tensorflow as tf\n",
    "\n",
    "import tensorflow.keras as keras\n",
    "\n",
    "from sklearn.preprocessing import MinMaxScaler\n",
    "\n",
    "import pandas as pd\n",
    "import numpy as np\n",
    "\n",
    "\n",
    "import matplotlib.pyplot as plt\n",
    "%matplotlib inline\n",
    "\n",
    "\n",
    "\n",
    "np.random.seed(7)\n",
    "\n",
    "import pixiedust\n",
    "print(tf.__version__)\n"
   ]
  },
  {
   "cell_type": "markdown",
   "metadata": {},
   "source": [
    "# load data"
   ]
  },
  {
   "cell_type": "code",
   "execution_count": 26,
   "metadata": {
    "ExecuteTime": {
     "end_time": "2019-07-05T03:28:53.512633Z",
     "start_time": "2019-07-05T03:28:53.264431Z"
    }
   },
   "outputs": [
    {
     "data": {
      "text/plain": [
       "[<matplotlib.lines.Line2D at 0x12d021e48>]"
      ]
     },
     "execution_count": 26,
     "metadata": {},
     "output_type": "execute_result"
    },
    {
     "data": {
      "image/png": "[encoded data removed]",
      "text/plain": [
       "<Figure size 432x288 with 1 Axes>"
      ]
     },
     "metadata": {
      "needs_background": "light"
     },
     "output_type": "display_data"
    }
   ],
   "source": [
    "\n",
    "#data set from url below\n",
    "TRAIN_URL = \"https://raw.githubusercontent.com/jbrownlee/Datasets/master/airline-passengers.csv\"\n",
    "# path_file = tf.keras.utils.get_file(data_url)\n",
    "\n",
    "#keras util 参看https://www.jianshu.com/p/9c87a961b720\n",
    "train_path = tf.keras.utils.get_file(fname=TRAIN_URL.split('/')[-1],\n",
    "                                         origin=TRAIN_URL)\n",
    "dataframe = pd.read_csv(train_path, usecols=[1])\n",
    "\n",
    "dataframe.head(10)\n",
    "\n",
    "\n",
    "dataset = dataframe.values\n",
    "# 将整型变为float\n",
    "dataset = dataset.astype('float32')\n",
    "\n",
    "\n",
    "plt.plot(dataset)\n",
    "\n",
    "\n",
    "# plt.plot(data_csv_values)"
   ]
  },
  {
   "cell_type": "code",
   "execution_count": 27,
   "metadata": {
    "ExecuteTime": {
     "end_time": "2019-07-05T03:28:56.931313Z",
     "start_time": "2019-07-05T03:28:56.921183Z"
    }
   },
   "outputs": [],
   "source": [
    "#data normalization\n",
    "scaler = MinMaxScaler(feature_range=(0, 1))\n",
    "dataset = scaler.fit_transform(dataset)"
   ]
  },
  {
   "cell_type": "markdown",
   "metadata": {},
   "source": [
    "# process data"
   ]
  },
  {
   "cell_type": "code",
   "execution_count": 28,
   "metadata": {
    "ExecuteTime": {
     "end_time": "2019-07-05T03:28:59.070922Z",
     "start_time": "2019-07-05T03:28:59.054383Z"
    }
   },
   "outputs": [],
   "source": [
    "#dataset shape = (all_sample_num,1)\n",
    "#\n",
    "def create_seq_data(dataset, steps = 1):\n",
    "    sub_sample_num = len(dataset) - steps - 1 #-1表示序号i 从0开始，而不是从1开始\n",
    "    dataX= []\n",
    "    dataY = []\n",
    "    for i in range(sub_sample_num):\n",
    "        dataset_x = dataset[i:(i + steps), 0]\n",
    "        dataset_y = dataset[i + steps, 0]\n",
    "        dataX.append(dataset_x)\n",
    "        dataY.append(dataset_y)\n",
    "    return np.array(dataX), np.array(dataY)\n",
    "        \n",
    "\n",
    "#return (x, y)\n",
    "train_size = int(len(dataset) * 0.7)\n",
    "test_size = len(dataset) - train_size\n",
    "\n",
    "#dataset shape(all_sample_num, 1)\n",
    "dataset_train_origin = dataset[0:train_size,:]\n",
    "dataset_test_origin = dataset[train_size : len(dataset), :]\n",
    "\n",
    "time_step = 2\n",
    "\n",
    "#shape(train_size, time_step)\n",
    "trainX, trainY = create_seq_data(dataset_train_origin, steps = time_step) \n",
    "#reshape(train_size, time_step, features = 1)\n",
    "# trainX = tf.reshape(trainX, [trainX.shape[0], 1, trainX.shape[1]]) #return Tensor\n",
    "trainX = np.reshape(trainX, (trainX.shape[0], 1, trainX.shape[1])) #return numpy narray\n",
    "\n",
    "testX, testY = create_seq_data(dataset_test_origin, steps = time_step)\n",
    "\n",
    "# testX = tf.reshape(testX, [testX.shape[0], 1, testX.shape[1]])                    \n",
    "testX = np.reshape(testX, (testX.shape[0], 1, testX.shape[1]))\n",
    "\n",
    "# dataset_train = create_seq_data(dataset_train_origin, steps = time_step)\n",
    "# trainX_tuple, trainY_tuple = zip(*dataset_train)\n",
    "# trainX, trainY = list(trainX_tuple), list(trainY_tuple)\n",
    "\n",
    "\n",
    "# dataset_test = create_seq_data(dataset_test_origin, steps = time_step)\n",
    "# testX_tuple, testY_tuple = zip(*dataset_test)\n",
    "# testX, testY = list(testX_tuple), list(testY_tuple)\n",
    "\n",
    "\n",
    "\n",
    "#print x,y\n",
    "# for (x, y) in dataset_seq:\n",
    "#     print(x, \"----\")\n",
    "#     print(y)\n",
    "\n",
    "        "
   ]
  },
  {
   "cell_type": "markdown",
   "metadata": {},
   "source": [
    "# define model"
   ]
  },
  {
   "cell_type": "code",
   "execution_count": 29,
   "metadata": {
    "ExecuteTime": {
     "end_time": "2019-07-05T03:29:04.636635Z",
     "start_time": "2019-07-05T03:29:04.202161Z"
    },
    "scrolled": true
   },
   "outputs": [
    {
     "name": "stdout",
     "output_type": "stream",
     "text": [
      "_________________________________________________________________\n",
      "Layer (type)                 Output Shape              Param #   \n",
      "=================================================================\n",
      "lstm_2 (LSTM)                (None, 4)                 112       \n",
      "_________________________________________________________________\n",
      "dense_2 (Dense)              (None, 1)                 5         \n",
      "=================================================================\n",
      "Total params: 117\n",
      "Trainable params: 117\n",
      "Non-trainable params: 0\n",
      "_________________________________________________________________\n"
     ]
    }
   ],
   "source": [
    "batch_size = 1\n",
    "epochs = 100\n",
    "model = keras.Sequential()\n",
    "model.add(keras.layers.LSTM(4, input_shape=(batch_size, time_step)))\n",
    "model.add(keras.layers.Dense(1))\n",
    "model.compile(loss=\"mean_squared_error\", optimizer=\"adam\", metrics=['mean_absolute_error'])\n",
    "\n",
    "model.summary()\n",
    "# model.compile()\n",
    "\n",
    "# model.compile(optimizer='adam', )"
   ]
  },
  {
   "cell_type": "markdown",
   "metadata": {},
   "source": [
    "# train model"
   ]
  },
  {
   "cell_type": "code",
   "execution_count": 30,
   "metadata": {
    "ExecuteTime": {
     "end_time": "2019-07-05T03:29:25.173327Z",
     "start_time": "2019-07-05T03:29:09.551635Z"
    },
    "pixiedust": {
     "displayParams": {}
    },
    "scrolled": true
   },
   "outputs": [
    {
     "name": "stdout",
     "output_type": "stream",
     "text": [
      "Epoch 1/100\n",
      "50/50 [==============================] - 1s 16ms/step - loss: 0.0286 - mean_absolute_error: 0.1368 - val_loss: 0.1065 - val_mean_absolute_error: 0.3163\n",
      "Epoch 2/100\n",
      "50/50 [==============================] - 0s 3ms/step - loss: 0.0128 - mean_absolute_error: 0.0876 - val_loss: 0.0634 - val_mean_absolute_error: 0.2395\n",
      "Epoch 3/100\n",
      "50/50 [==============================] - 0s 3ms/step - loss: 0.0084 - mean_absolute_error: 0.0730 - val_loss: 0.0448 - val_mean_absolute_error: 0.1977\n",
      "Epoch 4/100\n",
      "50/50 [==============================] - 0s 3ms/step - loss: 0.0074 - mean_absolute_error: 0.0697 - val_loss: 0.0374 - val_mean_absolute_error: 0.1786\n",
      "Epoch 5/100\n",
      "50/50 [==============================] - 0s 3ms/step - loss: 0.0068 - mean_absolute_error: 0.0669 - val_loss: 0.0326 - val_mean_absolute_error: 0.1655\n",
      "Epoch 6/100\n",
      "50/50 [==============================] - 0s 3ms/step - loss: 0.0062 - mean_absolute_error: 0.0636 - val_loss: 0.0281 - val_mean_absolute_error: 0.1518\n",
      "Epoch 7/100\n",
      "50/50 [==============================] - 0s 3ms/step - loss: 0.0055 - mean_absolute_error: 0.0601 - val_loss: 0.0235 - val_mean_absolute_error: 0.1366\n",
      "Epoch 8/100\n",
      "50/50 [==============================] - 0s 3ms/step - loss: 0.0049 - mean_absolute_error: 0.0563 - val_loss: 0.0191 - val_mean_absolute_error: 0.1206\n",
      "Epoch 9/100\n",
      "50/50 [==============================] - 0s 2ms/step - loss: 0.0042 - mean_absolute_error: 0.0524 - val_loss: 0.0151 - val_mean_absolute_error: 0.1043\n",
      "Epoch 10/100\n",
      "50/50 [==============================] - 0s 2ms/step - loss: 0.0037 - mean_absolute_error: 0.0486 - val_loss: 0.0117 - val_mean_absolute_error: 0.0893\n",
      "Epoch 11/100\n",
      "50/50 [==============================] - 0s 2ms/step - loss: 0.0031 - mean_absolute_error: 0.0451 - val_loss: 0.0090 - val_mean_absolute_error: 0.0789\n",
      "Epoch 12/100\n",
      "50/50 [==============================] - 0s 3ms/step - loss: 0.0027 - mean_absolute_error: 0.0419 - val_loss: 0.0071 - val_mean_absolute_error: 0.0723\n",
      "Epoch 13/100\n",
      "50/50 [==============================] - 0s 2ms/step - loss: 0.0024 - mean_absolute_error: 0.0389 - val_loss: 0.0060 - val_mean_absolute_error: 0.0682\n",
      "Epoch 14/100\n",
      "50/50 [==============================] - 0s 2ms/step - loss: 0.0022 - mean_absolute_error: 0.0367 - val_loss: 0.0055 - val_mean_absolute_error: 0.0648\n",
      "Epoch 15/100\n",
      "50/50 [==============================] - 0s 2ms/step - loss: 0.0020 - mean_absolute_error: 0.0354 - val_loss: 0.0055 - val_mean_absolute_error: 0.0631\n",
      "Epoch 16/100\n",
      "50/50 [==============================] - 0s 2ms/step - loss: 0.0019 - mean_absolute_error: 0.0346 - val_loss: 0.0056 - val_mean_absolute_error: 0.0623\n",
      "Epoch 17/100\n",
      "50/50 [==============================] - 0s 2ms/step - loss: 0.0019 - mean_absolute_error: 0.0341 - val_loss: 0.0058 - val_mean_absolute_error: 0.0628\n",
      "Epoch 18/100\n",
      "50/50 [==============================] - 0s 2ms/step - loss: 0.0018 - mean_absolute_error: 0.0338 - val_loss: 0.0059 - val_mean_absolute_error: 0.0638\n",
      "Epoch 19/100\n",
      "50/50 [==============================] - 0s 2ms/step - loss: 0.0018 - mean_absolute_error: 0.0337 - val_loss: 0.0060 - val_mean_absolute_error: 0.0644\n",
      "Epoch 20/100\n",
      "50/50 [==============================] - 0s 3ms/step - loss: 0.0018 - mean_absolute_error: 0.0337 - val_loss: 0.0061 - val_mean_absolute_error: 0.0648\n",
      "Epoch 21/100\n",
      "50/50 [==============================] - 0s 2ms/step - loss: 0.0018 - mean_absolute_error: 0.0336 - val_loss: 0.0061 - val_mean_absolute_error: 0.0650\n",
      "Epoch 22/100\n",
      "50/50 [==============================] - 0s 4ms/step - loss: 0.0018 - mean_absolute_error: 0.0336 - val_loss: 0.0061 - val_mean_absolute_error: 0.0650\n",
      "Epoch 23/100\n",
      "50/50 [==============================] - 0s 2ms/step - loss: 0.0018 - mean_absolute_error: 0.0335 - val_loss: 0.0061 - val_mean_absolute_error: 0.0649\n",
      "Epoch 24/100\n",
      "50/50 [==============================] - 0s 2ms/step - loss: 0.0018 - mean_absolute_error: 0.0334 - val_loss: 0.0061 - val_mean_absolute_error: 0.0649\n",
      "Epoch 25/100\n",
      "50/50 [==============================] - 0s 2ms/step - loss: 0.0018 - mean_absolute_error: 0.0333 - val_loss: 0.0060 - val_mean_absolute_error: 0.0648\n",
      "Epoch 26/100\n",
      "50/50 [==============================] - 0s 2ms/step - loss: 0.0017 - mean_absolute_error: 0.0332 - val_loss: 0.0060 - val_mean_absolute_error: 0.0647\n",
      "Epoch 27/100\n",
      "50/50 [==============================] - 0s 3ms/step - loss: 0.0017 - mean_absolute_error: 0.0331 - val_loss: 0.0060 - val_mean_absolute_error: 0.0646\n",
      "Epoch 28/100\n",
      "50/50 [==============================] - 0s 3ms/step - loss: 0.0017 - mean_absolute_error: 0.0330 - val_loss: 0.0059 - val_mean_absolute_error: 0.0645\n",
      "Epoch 29/100\n",
      "50/50 [==============================] - 0s 3ms/step - loss: 0.0017 - mean_absolute_error: 0.0329 - val_loss: 0.0059 - val_mean_absolute_error: 0.0644\n",
      "Epoch 30/100\n",
      "50/50 [==============================] - 0s 3ms/step - loss: 0.0017 - mean_absolute_error: 0.0327 - val_loss: 0.0058 - val_mean_absolute_error: 0.0643\n",
      "Epoch 31/100\n",
      "50/50 [==============================] - 0s 3ms/step - loss: 0.0017 - mean_absolute_error: 0.0326 - val_loss: 0.0058 - val_mean_absolute_error: 0.0641\n",
      "Epoch 32/100\n",
      "50/50 [==============================] - 0s 3ms/step - loss: 0.0017 - mean_absolute_error: 0.0325 - val_loss: 0.0057 - val_mean_absolute_error: 0.0640\n",
      "Epoch 33/100\n",
      "50/50 [==============================] - 0s 3ms/step - loss: 0.0017 - mean_absolute_error: 0.0324 - val_loss: 0.0057 - val_mean_absolute_error: 0.0639\n",
      "Epoch 34/100\n",
      "50/50 [==============================] - 0s 2ms/step - loss: 0.0016 - mean_absolute_error: 0.0323 - val_loss: 0.0056 - val_mean_absolute_error: 0.0637\n",
      "Epoch 35/100\n",
      "50/50 [==============================] - 0s 3ms/step - loss: 0.0016 - mean_absolute_error: 0.0322 - val_loss: 0.0056 - val_mean_absolute_error: 0.0636\n",
      "Epoch 36/100\n",
      "50/50 [==============================] - 0s 2ms/step - loss: 0.0016 - mean_absolute_error: 0.0321 - val_loss: 0.0056 - val_mean_absolute_error: 0.0634\n",
      "Epoch 37/100\n",
      "50/50 [==============================] - 0s 3ms/step - loss: 0.0016 - mean_absolute_error: 0.0320 - val_loss: 0.0055 - val_mean_absolute_error: 0.0632\n",
      "Epoch 38/100\n",
      "50/50 [==============================] - 0s 3ms/step - loss: 0.0016 - mean_absolute_error: 0.0319 - val_loss: 0.0055 - val_mean_absolute_error: 0.0631\n",
      "Epoch 39/100\n",
      "50/50 [==============================] - 0s 3ms/step - loss: 0.0016 - mean_absolute_error: 0.0318 - val_loss: 0.0054 - val_mean_absolute_error: 0.0629\n",
      "Epoch 40/100\n",
      "50/50 [==============================] - 0s 3ms/step - loss: 0.0016 - mean_absolute_error: 0.0317 - val_loss: 0.0054 - val_mean_absolute_error: 0.0627\n",
      "Epoch 41/100\n",
      "50/50 [==============================] - 0s 3ms/step - loss: 0.0016 - mean_absolute_error: 0.0316 - val_loss: 0.0053 - val_mean_absolute_error: 0.0625\n",
      "Epoch 42/100\n",
      "50/50 [==============================] - 0s 3ms/step - loss: 0.0016 - mean_absolute_error: 0.0315 - val_loss: 0.0053 - val_mean_absolute_error: 0.0623\n",
      "Epoch 43/100\n",
      "50/50 [==============================] - 0s 3ms/step - loss: 0.0015 - mean_absolute_error: 0.0314 - val_loss: 0.0052 - val_mean_absolute_error: 0.0621\n",
      "Epoch 44/100\n",
      "50/50 [==============================] - 0s 3ms/step - loss: 0.0015 - mean_absolute_error: 0.0313 - val_loss: 0.0052 - val_mean_absolute_error: 0.0619\n",
      "Epoch 45/100\n",
      "50/50 [==============================] - 0s 3ms/step - loss: 0.0015 - mean_absolute_error: 0.0312 - val_loss: 0.0051 - val_mean_absolute_error: 0.0617\n",
      "Epoch 46/100\n",
      "50/50 [==============================] - 0s 3ms/step - loss: 0.0015 - mean_absolute_error: 0.0311 - val_loss: 0.0051 - val_mean_absolute_error: 0.0615\n",
      "Epoch 47/100\n",
      "50/50 [==============================] - 0s 3ms/step - loss: 0.0015 - mean_absolute_error: 0.0311 - val_loss: 0.0050 - val_mean_absolute_error: 0.0613\n",
      "Epoch 48/100\n",
      "50/50 [==============================] - 0s 3ms/step - loss: 0.0015 - mean_absolute_error: 0.0311 - val_loss: 0.0050 - val_mean_absolute_error: 0.0610\n",
      "Epoch 49/100\n",
      "50/50 [==============================] - 0s 3ms/step - loss: 0.0015 - mean_absolute_error: 0.0310 - val_loss: 0.0050 - val_mean_absolute_error: 0.0608\n",
      "Epoch 50/100\n",
      "50/50 [==============================] - 0s 3ms/step - loss: 0.0015 - mean_absolute_error: 0.0310 - val_loss: 0.0049 - val_mean_absolute_error: 0.0605\n",
      "Epoch 51/100\n"
     ]
    },
    {
     "name": "stdout",
     "output_type": "stream",
     "text": [
      "50/50 [==============================] - 0s 3ms/step - loss: 0.0015 - mean_absolute_error: 0.0310 - val_loss: 0.0049 - val_mean_absolute_error: 0.0603\n",
      "Epoch 52/100\n",
      "50/50 [==============================] - 0s 2ms/step - loss: 0.0015 - mean_absolute_error: 0.0310 - val_loss: 0.0048 - val_mean_absolute_error: 0.0600\n",
      "Epoch 53/100\n",
      "50/50 [==============================] - 0s 3ms/step - loss: 0.0015 - mean_absolute_error: 0.0309 - val_loss: 0.0048 - val_mean_absolute_error: 0.0597\n",
      "Epoch 54/100\n",
      "50/50 [==============================] - 0s 3ms/step - loss: 0.0015 - mean_absolute_error: 0.0309 - val_loss: 0.0048 - val_mean_absolute_error: 0.0595\n",
      "Epoch 55/100\n",
      "50/50 [==============================] - 0s 3ms/step - loss: 0.0015 - mean_absolute_error: 0.0309 - val_loss: 0.0047 - val_mean_absolute_error: 0.0594\n",
      "Epoch 56/100\n",
      "50/50 [==============================] - 0s 3ms/step - loss: 0.0014 - mean_absolute_error: 0.0309 - val_loss: 0.0047 - val_mean_absolute_error: 0.0592\n",
      "Epoch 57/100\n",
      "50/50 [==============================] - 0s 3ms/step - loss: 0.0014 - mean_absolute_error: 0.0309 - val_loss: 0.0047 - val_mean_absolute_error: 0.0591\n",
      "Epoch 58/100\n",
      "50/50 [==============================] - 0s 2ms/step - loss: 0.0014 - mean_absolute_error: 0.0309 - val_loss: 0.0046 - val_mean_absolute_error: 0.0589\n",
      "Epoch 59/100\n",
      "50/50 [==============================] - 0s 3ms/step - loss: 0.0014 - mean_absolute_error: 0.0309 - val_loss: 0.0046 - val_mean_absolute_error: 0.0587\n",
      "Epoch 60/100\n",
      "50/50 [==============================] - 0s 3ms/step - loss: 0.0014 - mean_absolute_error: 0.0309 - val_loss: 0.0046 - val_mean_absolute_error: 0.0586\n",
      "Epoch 61/100\n",
      "50/50 [==============================] - 0s 2ms/step - loss: 0.0014 - mean_absolute_error: 0.0309 - val_loss: 0.0045 - val_mean_absolute_error: 0.0585\n",
      "Epoch 62/100\n",
      "50/50 [==============================] - 0s 4ms/step - loss: 0.0014 - mean_absolute_error: 0.0309 - val_loss: 0.0045 - val_mean_absolute_error: 0.0583\n",
      "Epoch 63/100\n",
      "50/50 [==============================] - 0s 2ms/step - loss: 0.0014 - mean_absolute_error: 0.0309 - val_loss: 0.0045 - val_mean_absolute_error: 0.0582\n",
      "Epoch 64/100\n",
      "50/50 [==============================] - 0s 3ms/step - loss: 0.0014 - mean_absolute_error: 0.0309 - val_loss: 0.0045 - val_mean_absolute_error: 0.0580\n",
      "Epoch 65/100\n",
      "50/50 [==============================] - 0s 3ms/step - loss: 0.0014 - mean_absolute_error: 0.0309 - val_loss: 0.0044 - val_mean_absolute_error: 0.0579\n",
      "Epoch 66/100\n",
      "50/50 [==============================] - 0s 3ms/step - loss: 0.0014 - mean_absolute_error: 0.0309 - val_loss: 0.0044 - val_mean_absolute_error: 0.0577\n",
      "Epoch 67/100\n",
      "50/50 [==============================] - 0s 2ms/step - loss: 0.0014 - mean_absolute_error: 0.0309 - val_loss: 0.0044 - val_mean_absolute_error: 0.0575\n",
      "Epoch 68/100\n",
      "50/50 [==============================] - 0s 3ms/step - loss: 0.0014 - mean_absolute_error: 0.0309 - val_loss: 0.0044 - val_mean_absolute_error: 0.0573\n",
      "Epoch 69/100\n",
      "50/50 [==============================] - 0s 2ms/step - loss: 0.0014 - mean_absolute_error: 0.0309 - val_loss: 0.0043 - val_mean_absolute_error: 0.0572\n",
      "Epoch 70/100\n",
      "50/50 [==============================] - 0s 2ms/step - loss: 0.0014 - mean_absolute_error: 0.0309 - val_loss: 0.0043 - val_mean_absolute_error: 0.0570\n",
      "Epoch 71/100\n",
      "50/50 [==============================] - 0s 2ms/step - loss: 0.0014 - mean_absolute_error: 0.0309 - val_loss: 0.0043 - val_mean_absolute_error: 0.0568\n",
      "Epoch 72/100\n",
      "50/50 [==============================] - 0s 3ms/step - loss: 0.0014 - mean_absolute_error: 0.0309 - val_loss: 0.0042 - val_mean_absolute_error: 0.0566\n",
      "Epoch 73/100\n",
      "50/50 [==============================] - 0s 3ms/step - loss: 0.0014 - mean_absolute_error: 0.0309 - val_loss: 0.0042 - val_mean_absolute_error: 0.0563\n",
      "Epoch 74/100\n",
      "50/50 [==============================] - 0s 3ms/step - loss: 0.0014 - mean_absolute_error: 0.0309 - val_loss: 0.0042 - val_mean_absolute_error: 0.0561\n",
      "Epoch 75/100\n",
      "50/50 [==============================] - 0s 2ms/step - loss: 0.0014 - mean_absolute_error: 0.0309 - val_loss: 0.0042 - val_mean_absolute_error: 0.0559\n",
      "Epoch 76/100\n",
      "50/50 [==============================] - 0s 3ms/step - loss: 0.0014 - mean_absolute_error: 0.0309 - val_loss: 0.0041 - val_mean_absolute_error: 0.0557\n",
      "Epoch 77/100\n",
      "50/50 [==============================] - 0s 2ms/step - loss: 0.0014 - mean_absolute_error: 0.0309 - val_loss: 0.0041 - val_mean_absolute_error: 0.0555\n",
      "Epoch 78/100\n",
      "50/50 [==============================] - 0s 3ms/step - loss: 0.0014 - mean_absolute_error: 0.0309 - val_loss: 0.0041 - val_mean_absolute_error: 0.0552\n",
      "Epoch 79/100\n",
      "50/50 [==============================] - 0s 2ms/step - loss: 0.0014 - mean_absolute_error: 0.0309 - val_loss: 0.0041 - val_mean_absolute_error: 0.0550\n",
      "Epoch 80/100\n",
      "50/50 [==============================] - 0s 3ms/step - loss: 0.0014 - mean_absolute_error: 0.0309 - val_loss: 0.0040 - val_mean_absolute_error: 0.0547\n",
      "Epoch 81/100\n",
      "50/50 [==============================] - 0s 3ms/step - loss: 0.0014 - mean_absolute_error: 0.0309 - val_loss: 0.0040 - val_mean_absolute_error: 0.0545\n",
      "Epoch 82/100\n",
      "50/50 [==============================] - 0s 3ms/step - loss: 0.0014 - mean_absolute_error: 0.0309 - val_loss: 0.0040 - val_mean_absolute_error: 0.0542\n",
      "Epoch 83/100\n",
      "50/50 [==============================] - 0s 2ms/step - loss: 0.0014 - mean_absolute_error: 0.0309 - val_loss: 0.0039 - val_mean_absolute_error: 0.0540\n",
      "Epoch 84/100\n",
      "50/50 [==============================] - 0s 3ms/step - loss: 0.0014 - mean_absolute_error: 0.0309 - val_loss: 0.0039 - val_mean_absolute_error: 0.0537\n",
      "Epoch 85/100\n",
      "50/50 [==============================] - 0s 3ms/step - loss: 0.0014 - mean_absolute_error: 0.0309 - val_loss: 0.0039 - val_mean_absolute_error: 0.0534\n",
      "Epoch 86/100\n",
      "50/50 [==============================] - 0s 3ms/step - loss: 0.0014 - mean_absolute_error: 0.0309 - val_loss: 0.0039 - val_mean_absolute_error: 0.0531\n",
      "Epoch 87/100\n",
      "50/50 [==============================] - 0s 3ms/step - loss: 0.0014 - mean_absolute_error: 0.0309 - val_loss: 0.0038 - val_mean_absolute_error: 0.0528\n",
      "Epoch 88/100\n",
      "50/50 [==============================] - 0s 3ms/step - loss: 0.0014 - mean_absolute_error: 0.0309 - val_loss: 0.0038 - val_mean_absolute_error: 0.0525\n",
      "Epoch 89/100\n",
      "50/50 [==============================] - 0s 3ms/step - loss: 0.0014 - mean_absolute_error: 0.0309 - val_loss: 0.0038 - val_mean_absolute_error: 0.0522\n",
      "Epoch 90/100\n",
      "50/50 [==============================] - 0s 3ms/step - loss: 0.0014 - mean_absolute_error: 0.0309 - val_loss: 0.0038 - val_mean_absolute_error: 0.0519\n",
      "Epoch 91/100\n",
      "50/50 [==============================] - 0s 3ms/step - loss: 0.0014 - mean_absolute_error: 0.0309 - val_loss: 0.0037 - val_mean_absolute_error: 0.0516\n",
      "Epoch 92/100\n",
      "50/50 [==============================] - 0s 3ms/step - loss: 0.0014 - mean_absolute_error: 0.0309 - val_loss: 0.0037 - val_mean_absolute_error: 0.0513\n",
      "Epoch 93/100\n",
      "50/50 [==============================] - 0s 2ms/step - loss: 0.0014 - mean_absolute_error: 0.0309 - val_loss: 0.0037 - val_mean_absolute_error: 0.0509\n",
      "Epoch 94/100\n",
      "50/50 [==============================] - 0s 3ms/step - loss: 0.0014 - mean_absolute_error: 0.0309 - val_loss: 0.0037 - val_mean_absolute_error: 0.0506\n",
      "Epoch 95/100\n",
      "50/50 [==============================] - 0s 3ms/step - loss: 0.0014 - mean_absolute_error: 0.0309 - val_loss: 0.0036 - val_mean_absolute_error: 0.0503\n",
      "Epoch 96/100\n",
      "50/50 [==============================] - 0s 3ms/step - loss: 0.0014 - mean_absolute_error: 0.0308 - val_loss: 0.0036 - val_mean_absolute_error: 0.0499\n",
      "Epoch 97/100\n",
      "50/50 [==============================] - 0s 3ms/step - loss: 0.0014 - mean_absolute_error: 0.0308 - val_loss: 0.0036 - val_mean_absolute_error: 0.0496\n",
      "Epoch 98/100\n",
      "50/50 [==============================] - 0s 3ms/step - loss: 0.0014 - mean_absolute_error: 0.0308 - val_loss: 0.0036 - val_mean_absolute_error: 0.0492\n",
      "Epoch 99/100\n",
      "50/50 [==============================] - 0s 3ms/step - loss: 0.0014 - mean_absolute_error: 0.0308 - val_loss: 0.0036 - val_mean_absolute_error: 0.0488\n",
      "Epoch 100/100\n",
      "50/50 [==============================] - 0s 3ms/step - loss: 0.0014 - mean_absolute_error: 0.0308 - val_loss: 0.0036 - val_mean_absolute_error: 0.0485\n"
     ]
    }
   ],
   "source": [
    "# %%pixie_debugger\n",
    "history = model.fit(trainX, trainY, epochs=100, validation_split = 0.2, batch_size=1, verbose=1, steps_per_epoch=50)\n"
   ]
  },
  {
   "cell_type": "code",
   "execution_count": 31,
   "metadata": {
    "ExecuteTime": {
     "end_time": "2019-07-05T03:29:49.389492Z",
     "start_time": "2019-07-05T03:29:49.372033Z"
    }
   },
   "outputs": [
    {
     "name": "stdout",
     "output_type": "stream",
     "text": [
      "keys= dict_keys(['loss', 'mean_absolute_error', 'val_loss', 'val_mean_absolute_error'])\n"
     ]
    },
    {
     "data": {
      "text/html": [
       "<div>\n",
       "<style scoped>\n",
       "    .dataframe tbody tr th:only-of-type {\n",
       "        vertical-align: middle;\n",
       "    }\n",
       "\n",
       "    .dataframe tbody tr th {\n",
       "        vertical-align: top;\n",
       "    }\n",
       "\n",
       "    .dataframe thead th {\n",
       "        text-align: right;\n",
       "    }\n",
       "</style>\n",
       "<table border=\"1\" class=\"dataframe\">\n",
       "  <thead>\n",
       "    <tr style=\"text-align: right;\">\n",
       "      <th></th>\n",
       "      <th>loss</th>\n",
       "      <th>mean_absolute_error</th>\n",
       "      <th>val_loss</th>\n",
       "      <th>val_mean_absolute_error</th>\n",
       "      <th>epoch</th>\n",
       "    </tr>\n",
       "  </thead>\n",
       "  <tbody>\n",
       "    <tr>\n",
       "      <th>95</th>\n",
       "      <td>0.001401</td>\n",
       "      <td>0.030848</td>\n",
       "      <td>0.003629</td>\n",
       "      <td>0.049910</td>\n",
       "      <td>95</td>\n",
       "    </tr>\n",
       "    <tr>\n",
       "      <th>96</th>\n",
       "      <td>0.001400</td>\n",
       "      <td>0.030841</td>\n",
       "      <td>0.003610</td>\n",
       "      <td>0.049552</td>\n",
       "      <td>96</td>\n",
       "    </tr>\n",
       "    <tr>\n",
       "      <th>97</th>\n",
       "      <td>0.001399</td>\n",
       "      <td>0.030834</td>\n",
       "      <td>0.003592</td>\n",
       "      <td>0.049188</td>\n",
       "      <td>97</td>\n",
       "    </tr>\n",
       "    <tr>\n",
       "      <th>98</th>\n",
       "      <td>0.001398</td>\n",
       "      <td>0.030827</td>\n",
       "      <td>0.003575</td>\n",
       "      <td>0.048819</td>\n",
       "      <td>98</td>\n",
       "    </tr>\n",
       "    <tr>\n",
       "      <th>99</th>\n",
       "      <td>0.001397</td>\n",
       "      <td>0.030819</td>\n",
       "      <td>0.003559</td>\n",
       "      <td>0.048453</td>\n",
       "      <td>99</td>\n",
       "    </tr>\n",
       "  </tbody>\n",
       "</table>\n",
       "</div>"
      ],
      "text/plain": [
       "        loss  mean_absolute_error  val_loss  val_mean_absolute_error  epoch\n",
       "95  0.001401             0.030848  0.003629                 0.049910     95\n",
       "96  0.001400             0.030841  0.003610                 0.049552     96\n",
       "97  0.001399             0.030834  0.003592                 0.049188     97\n",
       "98  0.001398             0.030827  0.003575                 0.048819     98\n",
       "99  0.001397             0.030819  0.003559                 0.048453     99"
      ]
     },
     "execution_count": 31,
     "metadata": {},
     "output_type": "execute_result"
    }
   ],
   "source": [
    "\n",
    "history_history = history.history\n",
    "print(\"keys=\", history_history.keys())\n",
    "\n",
    "hist = pd.DataFrame(history.history)\n",
    "hist['epoch'] = history.epoch\n",
    "hist.tail()"
   ]
  },
  {
   "cell_type": "code",
   "execution_count": 15,
   "metadata": {
    "ExecuteTime": {
     "end_time": "2019-07-05T02:49:59.027793Z",
     "start_time": "2019-07-05T02:49:58.615338Z"
    }
   },
   "outputs": [
    {
     "data": {
      "image/png": "[encoded data removed]",
      "text/plain": [
       "<Figure size 432x288 with 1 Axes>"
      ]
     },
     "metadata": {
      "needs_background": "light"
     },
     "output_type": "display_data"
    },
    {
     "data": {
      "image/png": "[encoded data removed]",
      "text/plain": [
       "<Figure size 432x288 with 1 Axes>"
      ]
     },
     "metadata": {
      "needs_background": "light"
     },
     "output_type": "display_data"
    }
   ],
   "source": [
    "# please refer to https://www.tensorflow.org/tutorials/keras/basic_regression#normalize_the_data \n",
    "#if you want more info about history\n",
    "def print_history(history):\n",
    "    mean_absolute_error = history.history['mean_absolute_error']\n",
    "    val_mean_absolute_error = history.history['val_mean_absolute_error']\n",
    "    loss = history.history['loss']\n",
    "    epochs = history.epoch\n",
    "    val_loss = history.history['val_loss']\n",
    "\n",
    "#     epochs = range(1, len(mean_absolute_error) + 1)\n",
    "\n",
    "    # \"bo\" is for \"blue dot\"\n",
    "    plt.figure()\n",
    "    plt.plot(epochs, loss, 'b', label='Training loss')\n",
    "\n",
    "    # b is for \"solid blue line\"\n",
    "    plt.plot(epochs, val_loss, 'r', label='Validation loss')\n",
    "    plt.title('Training loss')\n",
    "    plt.xlabel('Epochs')\n",
    "    plt.ylabel('Loss')\n",
    "    plt.legend()\n",
    "    \n",
    "    plt.figure()\n",
    "    plt.plot(epochs, mean_absolute_error, 'r', label=\"Metrics mae\")\n",
    "    plt.plot(epochs, val_mean_absolute_error, 'b', label=\"Metrics mae val \")\n",
    "    plt.title('Metrics MAE')\n",
    "    plt.xlabel('Epochs')\n",
    "    plt.ylabel('Metrics')\n",
    "    \n",
    "    plt.legend()\n",
    "    plt.show()\n",
    "    \n",
    "print_history(history)"
   ]
  },
  {
   "cell_type": "code",
   "execution_count": 32,
   "metadata": {
    "ExecuteTime": {
     "end_time": "2019-07-05T03:30:19.063116Z",
     "start_time": "2019-07-05T03:30:19.043730Z"
    }
   },
   "outputs": [
    {
     "name": "stdout",
     "output_type": "stream",
     "text": [
      "41/41 [==============================] - 0s 179us/sample - loss: 0.0074 - mean_absolute_error: 0.0701\n",
      "0.07013457\n"
     ]
    }
   ],
   "source": [
    "loss_value, metrics_value = model.evaluate(testX, testY)\n",
    "print(metrics_value)"
   ]
  },
  {
   "cell_type": "code",
   "execution_count": 23,
   "metadata": {
    "ExecuteTime": {
     "end_time": "2019-07-05T03:10:50.747836Z",
     "start_time": "2019-07-05T03:10:50.742118Z"
    }
   },
   "outputs": [
    {
     "name": "stdout",
     "output_type": "stream",
     "text": [
      "_________________________________________________________________\n",
      "Layer (type)                 Output Shape              Param #   \n",
      "=================================================================\n",
      "lstm_1 (LSTM)                (None, 4)                 112       \n",
      "_________________________________________________________________\n",
      "dense_1 (Dense)              (None, 1)                 5         \n",
      "=================================================================\n",
      "Total params: 117\n",
      "Trainable params: 117\n",
      "Non-trainable params: 0\n",
      "_________________________________________________________________\n"
     ]
    }
   ],
   "source": [
    "model.summary()"
   ]
  },
  {
   "cell_type": "code",
   "execution_count": 43,
   "metadata": {
    "ExecuteTime": {
     "end_time": "2019-07-05T07:16:37.616824Z",
     "start_time": "2019-07-05T07:16:37.091240Z"
    },
    "pixiedust": {
     "displayParams": {}
    }
   },
   "outputs": [
    {
     "name": "stdout",
     "output_type": "stream",
     "text": [
      "[125.33026] [131.99999879 129.00000163 120.99999632 135.00000368 147.99999397\n",
      " 147.99999397 136.00000531 119.00000078 103.99999952 117.99999916\n",
      " 115.00000199 125.99999674 140.99999801 135.00000368 125.00000283\n",
      " 148.9999956  169.99999891 169.99999891 157.99999481 133.00000042\n",
      " 114.00000036 139.99999638 145.00000452 149.99999723 177.9999965\n",
      " 163.00000295 172.00000217 177.9999965  198.99999982 198.99999982\n",
      " 184.00000627 162.00000133 146.00000615 165.9999924  171.00000054\n",
      " 179.99999976 193.00000549 181.00000139 183.00000464 217.99999988\n",
      " 230.00000398 241.99999264 209.00000066 191.00000223 172.00000217\n",
      " 194.00000712 195.99999493 195.99999493 235.99999831 234.99999668\n",
      " 229.00000235 242.99999427 263.99999759 272.00001061 236.99999994\n",
      " 211.00000392 179.99999976 201.00000308 203.99999252 187.99999735\n",
      " 234.99999668 226.9999991  233.99999506 263.99999759 301.99999771\n",
      " 292.99999849 259.00000488 229.00000235 203.00000633 229.00000235\n",
      " 241.99999264 232.99999343 266.99998703 268.99999029 270.00000736\n",
      " 315.00000344 363.99999059 346.99999379 312.00001399 274.00001387\n",
      " 236.99999994 277.99998951 283.99999928 277.00000332 317.00000669\n",
      " 313.00000018 317.99999288 373.999976   412.99999319 404.99998016\n",
      " 355.00000681 306.00000422 270.99999355 306.00000422 315.00000344\n",
      " 301.00001152 355.999993  ]\n",
      "[433.9687] [465.0000161  466.99998848 403.99999397 346.99999379 304.99998716\n",
      " 335.99999132 339.99999783 317.99999288 362.00000277 348.00001085\n",
      " 362.99998896 434.99999813 491.00002756 505.00001948 403.99999397\n",
      " 359.00001333 310.00001073 337.00000838 359.99999952 342.00000109\n",
      " 406.0000281  395.99998094 420.00002002 471.99998119 548.00004318\n",
      " 559.00001477 462.99998197 407.00001429 362.00000277 404.99998016\n",
      " 416.9999997  390.99998824 418.99997208 461.00000959 471.99998119\n",
      " 535.00003745 622.00000929 606.00004499 507.99997805 461.00000959\n",
      " 390.00000205]\n"
     ]
    },
    {
     "data": {
      "image/png": "[encoded data removed]",
      "text/plain": [
       "<Figure size 432x288 with 1 Axes>"
      ]
     },
     "metadata": {
      "needs_background": "light"
     },
     "output_type": "display_data"
    },
    {
     "data": {
      "image/png": "[encoded data removed]",
      "text/plain": [
       "<Figure size 432x288 with 1 Axes>"
      ]
     },
     "metadata": {
      "needs_background": "light"
     },
     "output_type": "display_data"
    }
   ],
   "source": [
    "# %%pixie_debugger\n",
    "def print_predcit(scaled_x, scaled_y, color, label):\n",
    "    y_predict = scaler.inverse_transform(model.predict(scaled_x))\n",
    "    y_label = scaler.inverse_transform([scaled_y])\n",
    "    \n",
    "    plt.figure()\n",
    "    plt.scatter(y_predict, y_label, c=color, label=label)\n",
    "    plt.legend()\n",
    "    \n",
    "    for y_p, y_l in zip(y_predict, y_label):\n",
    "        print(y_p, y_l)\n",
    "#         yield(y_p, y_l)\n",
    "    \n",
    "\n",
    "print_predcit(trainX, trainY, \"b\", \"train\")\n",
    "# print(result_train)\n",
    "print_predcit(testX, testY, \"r\", \"test\")\n",
    "# print(result_test)\n",
    "# print_predcit(testX, testY, \"r\", \"test\")\n",
    "# testPredict = scaler.inverse_transform(testPredict)\n",
    "# testY = scaler.inverse_transform([testY])\n",
    "\n",
    "# print(\"testY:\", testY)\n",
    "# testY_predicts = model.predict(testX)\n",
    "# print(\"testY_predicts:\", testY_predicts)\n",
    "# plt.figure()\n",
    "# plt.scatter(testY, testY_predicts)"
   ]
  },
  {
   "cell_type": "code",
   "execution_count": null,
   "metadata": {},
   "outputs": [],
   "source": []
  }
 ],
 "metadata": {
  "kernelspec": {
   "display_name": "Python 3",
   "language": "python",
   "name": "python3"
  },
  "language_info": {
   "codemirror_mode": {
    "name": "ipython",
    "version": 3
   },
   "file_extension": ".py",
   "mimetype": "text/x-python",
   "name": "python",
   "nbconvert_exporter": "python",
   "pygments_lexer": "ipython3",
   "version": "3.7.2"
  },
  "toc": {
   "base_numbering": 1,
   "nav_menu": {},
   "number_sections": true,
   "sideBar": true,
   "skip_h1_title": false,
   "title_cell": "Table of Contents",
   "title_sidebar": "Contents",
   "toc_cell": false,
   "toc_position": {},
   "toc_section_display": true,
   "toc_window_display": true
  },
  "varInspector": {
   "cols": {
    "lenName": 16,
    "lenType": 16,
    "lenVar": 40
   },
   "kernels_config": {
    "python": {
     "delete_cmd_postfix": "",
     "delete_cmd_prefix": "del ",
     "library": "var_list.py",
     "varRefreshCmd": "print(var_dic_list())"
    },
    "r": {
     "delete_cmd_postfix": ") ",
     "delete_cmd_prefix": "rm(",
     "library": "var_list.r",
     "varRefreshCmd": "cat(var_dic_list()) "
    }
   },
   "position": {
    "height": "398px",
    "left": "828px",
    "right": "20px",
    "top": "97px",
    "width": "581px"
   },
   "types_to_exclude": [
    "module",
    "function",
    "builtin_function_or_method",
    "instance",
    "_Feature"
   ],
   "window_display": false
  }
 },
 "nbformat": 4,
 "nbformat_minor": 2
}
