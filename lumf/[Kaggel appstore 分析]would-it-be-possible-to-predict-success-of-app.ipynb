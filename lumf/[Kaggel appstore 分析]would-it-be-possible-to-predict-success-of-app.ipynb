{
 "cells": [
  {
   "cell_type": "code",
   "execution_count": 3,
   "metadata": {
    "ExecuteTime": {
     "end_time": "2019-07-18T09:57:20.827286Z",
     "start_time": "2019-07-18T09:57:20.816431Z"
    },
    "_cell_guid": "b1076dfc-b9ad-4769-8c92-a6c4dae69d19",
    "_kg_hide-input": true,
    "_uuid": "8f2839f25d086af736a60e9eeb907d3b93b6e0e5"
   },
   "outputs": [
    {
     "data": {
      "text/html": [
       "        <script type=\"text/javascript\">\n",
       "        window.PlotlyConfig = {MathJaxConfig: 'local'};\n",
       "        if (window.MathJax) {MathJax.Hub.Config({SVG: {font: \"STIX-Web\"}});}\n",
       "        if (typeof require !== 'undefined') {\n",
       "        require.undef(\"plotly\");\n",
       "        requirejs.config({\n",
       "            paths: {\n",
       "                'plotly': ['https://cdn.plot.ly/plotly-latest.min']\n",
       "            }\n",
       "        });\n",
       "        require(['plotly'], function(Plotly) {\n",
       "            window._Plotly = Plotly;\n",
       "        });\n",
       "        }\n",
       "        </script>\n",
       "        "
      ]
     },
     "metadata": {},
     "output_type": "display_data"
    }
   ],
   "source": [
    "#source https://www.kaggle.com/youhanlee/would-it-be-possible-to-predict-success-of-app\n",
    "import pandas as pd\n",
    "import numpy as np\n",
    "\n",
    "import matplotlib.pyplot as plt\n",
    "import seaborn as sns\n",
    "plt.style.use('seaborn')\n",
    "sns.set(font_scale=1.8)\n",
    "\n",
    "import plotly.offline as py\n",
    "from plotly import tools\n",
    "py.init_notebook_mode(connected=True)\n",
    "import plotly.graph_objs as go\n",
    "import missingno as msno\n",
    "import random\n",
    "\n",
    "from plotly import tools\n",
    "\n",
    "# Supress unnecessary warnings so that presentation looks clean\n",
    "import warnings\n",
    "warnings.filterwarnings(\"ignore\")"
   ]
  },
  {
   "cell_type": "markdown",
   "metadata": {
    "_uuid": "3aebaabd879c8fbdeb85fd373872c8b48c72fdfc"
   },
   "source": [
    "# 1. Check dataset"
   ]
  },
  {
   "cell_type": "markdown",
   "metadata": {
    "_uuid": "f27788a29b744bd1acb235747e44a16a472d39d4"
   },
   "source": [
    "## 1.1 Read dataset"
   ]
  },
  {
   "cell_type": "code",
   "execution_count": 4,
   "metadata": {
    "ExecuteTime": {
     "end_time": "2019-07-18T11:28:08.133871Z",
     "start_time": "2019-07-18T11:28:07.806813Z"
    },
    "_kg_hide-input": true,
    "_uuid": "d36a6bf35ec2a342f19f66f569e8c36d2593a843"
   },
   "outputs": [],
   "source": [
    "df_app = pd.read_csv('appstore/AppleStore.csv')\n",
    "df_description = pd.read_csv('appstore/appleStore_description.csv')"
   ]
  },
  {
   "cell_type": "code",
   "execution_count": 8,
   "metadata": {
    "ExecuteTime": {
     "end_time": "2019-07-18T11:37:00.577339Z",
     "start_time": "2019-07-18T11:37:00.555448Z"
    }
   },
   "outputs": [
    {
     "data": {
      "text/html": [
       "<div>\n",
       "<style scoped>\n",
       "    .dataframe tbody tr th:only-of-type {\n",
       "        vertical-align: middle;\n",
       "    }\n",
       "\n",
       "    .dataframe tbody tr th {\n",
       "        vertical-align: top;\n",
       "    }\n",
       "\n",
       "    .dataframe thead th {\n",
       "        text-align: right;\n",
       "    }\n",
       "</style>\n",
       "<table border=\"1\" class=\"dataframe\">\n",
       "  <thead>\n",
       "    <tr style=\"text-align: right;\">\n",
       "      <th></th>\n",
       "      <th>Unnamed: 0</th>\n",
       "      <th>id</th>\n",
       "      <th>track_name</th>\n",
       "      <th>size_bytes</th>\n",
       "      <th>currency</th>\n",
       "      <th>price</th>\n",
       "      <th>rating_count_tot</th>\n",
       "      <th>rating_count_ver</th>\n",
       "      <th>user_rating</th>\n",
       "      <th>user_rating_ver</th>\n",
       "      <th>ver</th>\n",
       "      <th>cont_rating</th>\n",
       "      <th>prime_genre</th>\n",
       "      <th>sup_devices.num</th>\n",
       "      <th>ipadSc_urls.num</th>\n",
       "      <th>lang.num</th>\n",
       "      <th>vpp_lic</th>\n",
       "    </tr>\n",
       "  </thead>\n",
       "  <tbody>\n",
       "    <tr>\n",
       "      <th>0</th>\n",
       "      <td>1</td>\n",
       "      <td>281656475</td>\n",
       "      <td>PAC-MAN Premium</td>\n",
       "      <td>100788224</td>\n",
       "      <td>USD</td>\n",
       "      <td>3.99</td>\n",
       "      <td>21292</td>\n",
       "      <td>26</td>\n",
       "      <td>4.0</td>\n",
       "      <td>4.5</td>\n",
       "      <td>6.3.5</td>\n",
       "      <td>4+</td>\n",
       "      <td>Games</td>\n",
       "      <td>38</td>\n",
       "      <td>5</td>\n",
       "      <td>10</td>\n",
       "      <td>1</td>\n",
       "    </tr>\n",
       "    <tr>\n",
       "      <th>1</th>\n",
       "      <td>2</td>\n",
       "      <td>281796108</td>\n",
       "      <td>Evernote - stay organized</td>\n",
       "      <td>158578688</td>\n",
       "      <td>USD</td>\n",
       "      <td>0.00</td>\n",
       "      <td>161065</td>\n",
       "      <td>26</td>\n",
       "      <td>4.0</td>\n",
       "      <td>3.5</td>\n",
       "      <td>8.2.2</td>\n",
       "      <td>4+</td>\n",
       "      <td>Productivity</td>\n",
       "      <td>37</td>\n",
       "      <td>5</td>\n",
       "      <td>23</td>\n",
       "      <td>1</td>\n",
       "    </tr>\n",
       "    <tr>\n",
       "      <th>2</th>\n",
       "      <td>3</td>\n",
       "      <td>281940292</td>\n",
       "      <td>WeatherBug - Local Weather, Radar, Maps, Alerts</td>\n",
       "      <td>100524032</td>\n",
       "      <td>USD</td>\n",
       "      <td>0.00</td>\n",
       "      <td>188583</td>\n",
       "      <td>2822</td>\n",
       "      <td>3.5</td>\n",
       "      <td>4.5</td>\n",
       "      <td>5.0.0</td>\n",
       "      <td>4+</td>\n",
       "      <td>Weather</td>\n",
       "      <td>37</td>\n",
       "      <td>5</td>\n",
       "      <td>3</td>\n",
       "      <td>1</td>\n",
       "    </tr>\n",
       "    <tr>\n",
       "      <th>3</th>\n",
       "      <td>4</td>\n",
       "      <td>282614216</td>\n",
       "      <td>eBay: Best App to Buy, Sell, Save! Online Shop...</td>\n",
       "      <td>128512000</td>\n",
       "      <td>USD</td>\n",
       "      <td>0.00</td>\n",
       "      <td>262241</td>\n",
       "      <td>649</td>\n",
       "      <td>4.0</td>\n",
       "      <td>4.5</td>\n",
       "      <td>5.10.0</td>\n",
       "      <td>12+</td>\n",
       "      <td>Shopping</td>\n",
       "      <td>37</td>\n",
       "      <td>5</td>\n",
       "      <td>9</td>\n",
       "      <td>1</td>\n",
       "    </tr>\n",
       "    <tr>\n",
       "      <th>4</th>\n",
       "      <td>5</td>\n",
       "      <td>282935706</td>\n",
       "      <td>Bible</td>\n",
       "      <td>92774400</td>\n",
       "      <td>USD</td>\n",
       "      <td>0.00</td>\n",
       "      <td>985920</td>\n",
       "      <td>5320</td>\n",
       "      <td>4.5</td>\n",
       "      <td>5.0</td>\n",
       "      <td>7.5.1</td>\n",
       "      <td>4+</td>\n",
       "      <td>Reference</td>\n",
       "      <td>37</td>\n",
       "      <td>5</td>\n",
       "      <td>45</td>\n",
       "      <td>1</td>\n",
       "    </tr>\n",
       "  </tbody>\n",
       "</table>\n",
       "</div>"
      ],
      "text/plain": [
       "   Unnamed: 0         id                                         track_name  \\\n",
       "0           1  281656475                                    PAC-MAN Premium   \n",
       "1           2  281796108                          Evernote - stay organized   \n",
       "2           3  281940292    WeatherBug - Local Weather, Radar, Maps, Alerts   \n",
       "3           4  282614216  eBay: Best App to Buy, Sell, Save! Online Shop...   \n",
       "4           5  282935706                                              Bible   \n",
       "\n",
       "   size_bytes currency  price  rating_count_tot  rating_count_ver  \\\n",
       "0   100788224      USD   3.99             21292                26   \n",
       "1   158578688      USD   0.00            161065                26   \n",
       "2   100524032      USD   0.00            188583              2822   \n",
       "3   128512000      USD   0.00            262241               649   \n",
       "4    92774400      USD   0.00            985920              5320   \n",
       "\n",
       "   user_rating  user_rating_ver     ver cont_rating   prime_genre  \\\n",
       "0          4.0              4.5   6.3.5          4+         Games   \n",
       "1          4.0              3.5   8.2.2          4+  Productivity   \n",
       "2          3.5              4.5   5.0.0          4+       Weather   \n",
       "3          4.0              4.5  5.10.0         12+      Shopping   \n",
       "4          4.5              5.0   7.5.1          4+     Reference   \n",
       "\n",
       "   sup_devices.num  ipadSc_urls.num  lang.num  vpp_lic  \n",
       "0               38                5        10        1  \n",
       "1               37                5        23        1  \n",
       "2               37                5         3        1  \n",
       "3               37                5         9        1  \n",
       "4               37                5        45        1  "
      ]
     },
     "execution_count": 8,
     "metadata": {},
     "output_type": "execute_result"
    }
   ],
   "source": [
    "df_app.head()"
   ]
  },
  {
   "cell_type": "code",
   "execution_count": 5,
   "metadata": {
    "ExecuteTime": {
     "end_time": "2019-07-18T11:28:10.925528Z",
     "start_time": "2019-07-18T11:28:10.904298Z"
    },
    "_kg_hide-input": true,
    "_uuid": "fd024887710b8c6d9a5bd835c980b8f71f10e43f"
   },
   "outputs": [
    {
     "data": {
      "text/plain": [
       "Unnamed: 0          0\n",
       "id                  0\n",
       "track_name          0\n",
       "size_bytes          0\n",
       "currency            0\n",
       "price               0\n",
       "rating_count_tot    0\n",
       "rating_count_ver    0\n",
       "user_rating         0\n",
       "user_rating_ver     0\n",
       "ver                 0\n",
       "cont_rating         0\n",
       "prime_genre         0\n",
       "sup_devices.num     0\n",
       "ipadSc_urls.num     0\n",
       "lang.num            0\n",
       "vpp_lic             0\n",
       "dtype: int64"
      ]
     },
     "execution_count": 5,
     "metadata": {},
     "output_type": "execute_result"
    }
   ],
   "source": [
    "df_app.isnull().sum()"
   ]
  },
  {
   "cell_type": "markdown",
   "metadata": {
    "_uuid": "20195841c8c30ea17ecb864adc7c0c5da0f8885b"
   },
   "source": [
    "- There aren't null data in the df_app."
   ]
  },
  {
   "cell_type": "code",
   "execution_count": 6,
   "metadata": {
    "ExecuteTime": {
     "end_time": "2019-07-18T11:35:05.474185Z",
     "start_time": "2019-07-18T11:35:05.455990Z"
    },
    "_kg_hide-input": true,
    "_uuid": "95e874925cb36fe2407cff9f15e7e90bab9e8f1c"
   },
   "outputs": [
    {
     "data": {
      "text/html": [
       "<div>\n",
       "<style scoped>\n",
       "    .dataframe tbody tr th:only-of-type {\n",
       "        vertical-align: middle;\n",
       "    }\n",
       "\n",
       "    .dataframe tbody tr th {\n",
       "        vertical-align: top;\n",
       "    }\n",
       "\n",
       "    .dataframe thead th {\n",
       "        text-align: right;\n",
       "    }\n",
       "</style>\n",
       "<table border=\"1\" class=\"dataframe\">\n",
       "  <thead>\n",
       "    <tr style=\"text-align: right;\">\n",
       "      <th></th>\n",
       "      <th>id</th>\n",
       "      <th>track_name</th>\n",
       "      <th>size_bytes</th>\n",
       "      <th>app_desc</th>\n",
       "    </tr>\n",
       "  </thead>\n",
       "  <tbody>\n",
       "    <tr>\n",
       "      <th>0</th>\n",
       "      <td>281656475</td>\n",
       "      <td>PAC-MAN Premium</td>\n",
       "      <td>100788224</td>\n",
       "      <td>SAVE 20%, now only $3.99 for a limited time!\\n...</td>\n",
       "    </tr>\n",
       "    <tr>\n",
       "      <th>1</th>\n",
       "      <td>281796108</td>\n",
       "      <td>Evernote - stay organized</td>\n",
       "      <td>158578688</td>\n",
       "      <td>Let Evernote change the way you organize your ...</td>\n",
       "    </tr>\n",
       "    <tr>\n",
       "      <th>2</th>\n",
       "      <td>281940292</td>\n",
       "      <td>WeatherBug - Local Weather, Radar, Maps, Alerts</td>\n",
       "      <td>100524032</td>\n",
       "      <td>Download the most popular free weather app pow...</td>\n",
       "    </tr>\n",
       "    <tr>\n",
       "      <th>3</th>\n",
       "      <td>282614216</td>\n",
       "      <td>eBay: Best App to Buy, Sell, Save! Online Shop...</td>\n",
       "      <td>128512000</td>\n",
       "      <td>The eBay app is the best way to find anything ...</td>\n",
       "    </tr>\n",
       "    <tr>\n",
       "      <th>4</th>\n",
       "      <td>282935706</td>\n",
       "      <td>Bible</td>\n",
       "      <td>92774400</td>\n",
       "      <td>On more than 250 million devices around the wo...</td>\n",
       "    </tr>\n",
       "  </tbody>\n",
       "</table>\n",
       "</div>"
      ],
      "text/plain": [
       "          id                                         track_name  size_bytes  \\\n",
       "0  281656475                                    PAC-MAN Premium   100788224   \n",
       "1  281796108                          Evernote - stay organized   158578688   \n",
       "2  281940292    WeatherBug - Local Weather, Radar, Maps, Alerts   100524032   \n",
       "3  282614216  eBay: Best App to Buy, Sell, Save! Online Shop...   128512000   \n",
       "4  282935706                                              Bible    92774400   \n",
       "\n",
       "                                            app_desc  \n",
       "0  SAVE 20%, now only $3.99 for a limited time!\\n...  \n",
       "1  Let Evernote change the way you organize your ...  \n",
       "2  Download the most popular free weather app pow...  \n",
       "3  The eBay app is the best way to find anything ...  \n",
       "4  On more than 250 million devices around the wo...  "
      ]
     },
     "execution_count": 6,
     "metadata": {},
     "output_type": "execute_result"
    }
   ],
   "source": [
    "df_description.head()"
   ]
  },
  {
   "cell_type": "code",
   "execution_count": 7,
   "metadata": {
    "ExecuteTime": {
     "end_time": "2019-07-18T11:35:51.233161Z",
     "start_time": "2019-07-18T11:35:51.218996Z"
    },
    "_kg_hide-input": true,
    "_uuid": "1ff947d4c87622f91de9385cf8cfd44acc270731"
   },
   "outputs": [
    {
     "data": {
      "text/plain": [
       "id            0\n",
       "track_name    0\n",
       "size_bytes    0\n",
       "app_desc      0\n",
       "dtype: int64"
      ]
     },
     "execution_count": 7,
     "metadata": {},
     "output_type": "execute_result"
    }
   ],
   "source": [
    "df_description.isnull().sum()"
   ]
  },
  {
   "cell_type": "markdown",
   "metadata": {
    "_uuid": "72a2204105be92f7825f90f96eb35d853d633001"
   },
   "source": [
    "- There aren't null data in the df_description."
   ]
  },
  {
   "cell_type": "markdown",
   "metadata": {
    "_uuid": "e1bb823a8c1123bd4096bbaaca443b5afd88d67d"
   },
   "source": [
    "- We can merge df_app with description based on 'id'."
   ]
  },
  {
   "cell_type": "markdown",
   "metadata": {
    "_uuid": "c277fec61a534a78d8b726aa7c724dce7c71da10"
   },
   "source": [
    "## 1.2 Merge datasets"
   ]
  },
  {
   "cell_type": "code",
   "execution_count": 15,
   "metadata": {
    "ExecuteTime": {
     "end_time": "2019-07-18T11:45:06.429134Z",
     "start_time": "2019-07-18T11:45:06.381048Z"
    },
    "_kg_hide-input": true,
    "_uuid": "0f0cfc6225d42f2c0a6f3f151449e06081a19cd2"
   },
   "outputs": [],
   "source": [
    "df_app['app_desc'] = df_description['app_desc']"
   ]
  },
  {
   "cell_type": "markdown",
   "metadata": {
    "_uuid": "37eb2da0efa17264f4959e3a6db13a163c8ca46b"
   },
   "source": [
    "- Delete 'Unnamed: 0'."
   ]
  },
  {
   "cell_type": "code",
   "execution_count": 10,
   "metadata": {
    "ExecuteTime": {
     "end_time": "2019-07-18T11:37:35.427396Z",
     "start_time": "2019-07-18T11:37:35.416161Z"
    },
    "_kg_hide-input": true,
    "_uuid": "2d009b1804c6cc62b0fab779c91ae9e62acbb772"
   },
   "outputs": [],
   "source": [
    "df_app = df_app.iloc[:, 1:]"
   ]
  },
  {
   "cell_type": "code",
   "execution_count": 11,
   "metadata": {
    "ExecuteTime": {
     "end_time": "2019-07-18T11:37:37.956140Z",
     "start_time": "2019-07-18T11:37:37.931526Z"
    },
    "_kg_hide-input": true,
    "_uuid": "63bb1e30f80638fb2920d696d4eaa3e2fe9e4f26"
   },
   "outputs": [
    {
     "data": {
      "text/html": [
       "<div>\n",
       "<style scoped>\n",
       "    .dataframe tbody tr th:only-of-type {\n",
       "        vertical-align: middle;\n",
       "    }\n",
       "\n",
       "    .dataframe tbody tr th {\n",
       "        vertical-align: top;\n",
       "    }\n",
       "\n",
       "    .dataframe thead th {\n",
       "        text-align: right;\n",
       "    }\n",
       "</style>\n",
       "<table border=\"1\" class=\"dataframe\">\n",
       "  <thead>\n",
       "    <tr style=\"text-align: right;\">\n",
       "      <th></th>\n",
       "      <th>id</th>\n",
       "      <th>track_name</th>\n",
       "      <th>size_bytes</th>\n",
       "      <th>currency</th>\n",
       "      <th>price</th>\n",
       "      <th>rating_count_tot</th>\n",
       "      <th>rating_count_ver</th>\n",
       "      <th>user_rating</th>\n",
       "      <th>user_rating_ver</th>\n",
       "      <th>ver</th>\n",
       "      <th>cont_rating</th>\n",
       "      <th>prime_genre</th>\n",
       "      <th>sup_devices.num</th>\n",
       "      <th>ipadSc_urls.num</th>\n",
       "      <th>lang.num</th>\n",
       "      <th>vpp_lic</th>\n",
       "      <th>app_desc</th>\n",
       "    </tr>\n",
       "  </thead>\n",
       "  <tbody>\n",
       "    <tr>\n",
       "      <th>0</th>\n",
       "      <td>281656475</td>\n",
       "      <td>PAC-MAN Premium</td>\n",
       "      <td>100788224</td>\n",
       "      <td>USD</td>\n",
       "      <td>3.99</td>\n",
       "      <td>21292</td>\n",
       "      <td>26</td>\n",
       "      <td>4.0</td>\n",
       "      <td>4.5</td>\n",
       "      <td>6.3.5</td>\n",
       "      <td>4+</td>\n",
       "      <td>Games</td>\n",
       "      <td>38</td>\n",
       "      <td>5</td>\n",
       "      <td>10</td>\n",
       "      <td>1</td>\n",
       "      <td>SAVE 20%, now only $3.99 for a limited time!\\n...</td>\n",
       "    </tr>\n",
       "    <tr>\n",
       "      <th>1</th>\n",
       "      <td>281796108</td>\n",
       "      <td>Evernote - stay organized</td>\n",
       "      <td>158578688</td>\n",
       "      <td>USD</td>\n",
       "      <td>0.00</td>\n",
       "      <td>161065</td>\n",
       "      <td>26</td>\n",
       "      <td>4.0</td>\n",
       "      <td>3.5</td>\n",
       "      <td>8.2.2</td>\n",
       "      <td>4+</td>\n",
       "      <td>Productivity</td>\n",
       "      <td>37</td>\n",
       "      <td>5</td>\n",
       "      <td>23</td>\n",
       "      <td>1</td>\n",
       "      <td>Let Evernote change the way you organize your ...</td>\n",
       "    </tr>\n",
       "    <tr>\n",
       "      <th>2</th>\n",
       "      <td>281940292</td>\n",
       "      <td>WeatherBug - Local Weather, Radar, Maps, Alerts</td>\n",
       "      <td>100524032</td>\n",
       "      <td>USD</td>\n",
       "      <td>0.00</td>\n",
       "      <td>188583</td>\n",
       "      <td>2822</td>\n",
       "      <td>3.5</td>\n",
       "      <td>4.5</td>\n",
       "      <td>5.0.0</td>\n",
       "      <td>4+</td>\n",
       "      <td>Weather</td>\n",
       "      <td>37</td>\n",
       "      <td>5</td>\n",
       "      <td>3</td>\n",
       "      <td>1</td>\n",
       "      <td>Download the most popular free weather app pow...</td>\n",
       "    </tr>\n",
       "    <tr>\n",
       "      <th>3</th>\n",
       "      <td>282614216</td>\n",
       "      <td>eBay: Best App to Buy, Sell, Save! Online Shop...</td>\n",
       "      <td>128512000</td>\n",
       "      <td>USD</td>\n",
       "      <td>0.00</td>\n",
       "      <td>262241</td>\n",
       "      <td>649</td>\n",
       "      <td>4.0</td>\n",
       "      <td>4.5</td>\n",
       "      <td>5.10.0</td>\n",
       "      <td>12+</td>\n",
       "      <td>Shopping</td>\n",
       "      <td>37</td>\n",
       "      <td>5</td>\n",
       "      <td>9</td>\n",
       "      <td>1</td>\n",
       "      <td>The eBay app is the best way to find anything ...</td>\n",
       "    </tr>\n",
       "    <tr>\n",
       "      <th>4</th>\n",
       "      <td>282935706</td>\n",
       "      <td>Bible</td>\n",
       "      <td>92774400</td>\n",
       "      <td>USD</td>\n",
       "      <td>0.00</td>\n",
       "      <td>985920</td>\n",
       "      <td>5320</td>\n",
       "      <td>4.5</td>\n",
       "      <td>5.0</td>\n",
       "      <td>7.5.1</td>\n",
       "      <td>4+</td>\n",
       "      <td>Reference</td>\n",
       "      <td>37</td>\n",
       "      <td>5</td>\n",
       "      <td>45</td>\n",
       "      <td>1</td>\n",
       "      <td>On more than 250 million devices around the wo...</td>\n",
       "    </tr>\n",
       "  </tbody>\n",
       "</table>\n",
       "</div>"
      ],
      "text/plain": [
       "          id                                         track_name  size_bytes  \\\n",
       "0  281656475                                    PAC-MAN Premium   100788224   \n",
       "1  281796108                          Evernote - stay organized   158578688   \n",
       "2  281940292    WeatherBug - Local Weather, Radar, Maps, Alerts   100524032   \n",
       "3  282614216  eBay: Best App to Buy, Sell, Save! Online Shop...   128512000   \n",
       "4  282935706                                              Bible    92774400   \n",
       "\n",
       "  currency  price  rating_count_tot  rating_count_ver  user_rating  \\\n",
       "0      USD   3.99             21292                26          4.0   \n",
       "1      USD   0.00            161065                26          4.0   \n",
       "2      USD   0.00            188583              2822          3.5   \n",
       "3      USD   0.00            262241               649          4.0   \n",
       "4      USD   0.00            985920              5320          4.5   \n",
       "\n",
       "   user_rating_ver     ver cont_rating   prime_genre  sup_devices.num  \\\n",
       "0              4.5   6.3.5          4+         Games               38   \n",
       "1              3.5   8.2.2          4+  Productivity               37   \n",
       "2              4.5   5.0.0          4+       Weather               37   \n",
       "3              4.5  5.10.0         12+      Shopping               37   \n",
       "4              5.0   7.5.1          4+     Reference               37   \n",
       "\n",
       "   ipadSc_urls.num  lang.num  vpp_lic  \\\n",
       "0                5        10        1   \n",
       "1                5        23        1   \n",
       "2                5         3        1   \n",
       "3                5         9        1   \n",
       "4                5        45        1   \n",
       "\n",
       "                                            app_desc  \n",
       "0  SAVE 20%, now only $3.99 for a limited time!\\n...  \n",
       "1  Let Evernote change the way you organize your ...  \n",
       "2  Download the most popular free weather app pow...  \n",
       "3  The eBay app is the best way to find anything ...  \n",
       "4  On more than 250 million devices around the wo...  "
      ]
     },
     "execution_count": 11,
     "metadata": {},
     "output_type": "execute_result"
    }
   ],
   "source": [
    "df_app.head()"
   ]
  },
  {
   "cell_type": "markdown",
   "metadata": {
    "_uuid": "61b0443f39289c26509e87deb5484ea30a9b9f9b"
   },
   "source": [
    "## 1.3 Add new columns"
   ]
  },
  {
   "cell_type": "markdown",
   "metadata": {
    "_uuid": "1409dabd25890ae74295758b575d6da96a8310aa"
   },
   "source": [
    "- For convenience, Change the unit of size_bytes into Megabytes."
   ]
  },
  {
   "cell_type": "code",
   "execution_count": 12,
   "metadata": {
    "ExecuteTime": {
     "end_time": "2019-07-18T11:38:15.113742Z",
     "start_time": "2019-07-18T11:38:15.098584Z"
    },
    "_kg_hide-input": false,
    "_uuid": "f587b8d3104e9479fcb4a979cc37a5bcf81da4f5"
   },
   "outputs": [],
   "source": [
    "df_app['size_bytes_in_MB'] = df_app['size_bytes'] / (1024 * 1024.0)"
   ]
  },
  {
   "cell_type": "markdown",
   "metadata": {
    "_uuid": "af0aaf27ee164a1f8b9413b2c0de5d8c8dbaa52a"
   },
   "source": [
    "# 1.4 Free, Non Free"
   ]
  },
  {
   "cell_type": "markdown",
   "metadata": {
    "_uuid": "562d2f70966d78ebfb60b751e9c939a79b74ce43"
   },
   "source": []
  },
  {
   "cell_type": "markdown",
   "metadata": {
    "_uuid": "e8c97eef8b4fdc8c124ecee9a7a9b754df30f8d0"
   },
   "source": [
    "- Add isNotFree column."
   ]
  },
  {
   "cell_type": "code",
   "execution_count": 13,
   "metadata": {
    "ExecuteTime": {
     "end_time": "2019-07-18T11:38:26.180868Z",
     "start_time": "2019-07-18T11:38:26.171242Z"
    },
    "_kg_hide-input": false,
    "_uuid": "17441194742add629dd05337908cd89374024484"
   },
   "outputs": [],
   "source": [
    "df_app['isNotFree'] = df_app['price'].apply(lambda x: 1 if x > 0 else 0)"
   ]
  },
  {
   "cell_type": "code",
   "execution_count": 14,
   "metadata": {
    "ExecuteTime": {
     "end_time": "2019-07-18T11:38:37.740147Z",
     "start_time": "2019-07-18T11:38:37.485161Z"
    },
    "_kg_hide-input": true,
    "_uuid": "cb6254134b899f7942709e2a37b8f33e8db6fb17"
   },
   "outputs": [
    {
     "data": {
      "image/png": "[encoded data removed]",
      "text/plain": [
       "<Figure size 576x396 with 1 Axes>"
      ]
     },
     "metadata": {},
     "output_type": "display_data"
    }
   ],
   "source": [
    "df_app['isNotFree'].value_counts().plot.bar()\n",
    "plt.xlabel('IsNotFree(Free == 0, NotFree == 1)')\n",
    "plt.ylabel('Count')\n",
    "plt.show()"
   ]
  },
  {
   "cell_type": "markdown",
   "metadata": {
    "_uuid": "ed0d41ceff506a12bdf8b9a64c2407340dec985a"
   },
   "source": [
    "- As you can see, there are many free Apps. It will be interesting to analyze the df_app depending on free ore not free.\n",
    "- Let's make the two dataframes for free and not-free."
   ]
  },
  {
   "cell_type": "code",
   "execution_count": 16,
   "metadata": {
    "ExecuteTime": {
     "end_time": "2019-07-18T11:45:42.024526Z",
     "start_time": "2019-07-18T11:45:42.002672Z"
    },
    "_kg_hide-input": true,
    "_uuid": "02609a8d996771cdbd902ba69d18a5f883c9c089"
   },
   "outputs": [
    {
     "name": "stdout",
     "output_type": "stream",
     "text": [
      "There are 3141 Not-Free Apps in this dataset\n",
      "There are 4056 Free Apps in this dataset\n"
     ]
    }
   ],
   "source": [
    "df_app_notfree = df_app[df_app['isNotFree'] == 1]\n",
    "df_app_free = df_app[df_app['isNotFree'] == 0]\n",
    "\n",
    "print('There are {} Not-Free Apps in this dataset'.format(df_app_notfree.shape[0]))\n",
    "print('There are {} Free Apps in this dataset'.format(df_app_free.shape[0]))"
   ]
  },
  {
   "cell_type": "markdown",
   "metadata": {
    "_uuid": "fee265e0e0f5918b2a1cc8c53818fe8cd69394e6"
   },
   "source": [
    "# 2. Prime_genre"
   ]
  },
  {
   "cell_type": "markdown",
   "metadata": {
    "_uuid": "96af27d9f11bfb714f67fa80c7edcb9e35ef374d"
   },
   "source": [
    "## 2.1 Countplot for each type of Prime_genre"
   ]
  },
  {
   "cell_type": "code",
   "execution_count": 18,
   "metadata": {
    "ExecuteTime": {
     "end_time": "2019-07-18T11:54:04.751239Z",
     "start_time": "2019-07-18T11:54:04.331367Z"
    },
    "_kg_hide-input": true,
    "_uuid": "0b387b46d3ec776ab5eee8be9eea35f202510f73"
   },
   "outputs": [
    {
     "data": {
      "application/vnd.plotly.v1+json": {
       "config": {
        "linkText": "Export to plot.ly",
        "plotlyServerURL": "https://plot.ly",
        "showLink": false
       },
       "data": [
        {
         "marker": {
          "color": [
           "#3AD60E",
           "#2F03A0",
           "#21B731",
           "#0C39D9",
           "#814A29",
           "#71A58D",
           "#A00D40",
           "#F4C5F4",
           "#A6EE05",
           "#9E8377",
           "#5D7345",
           "#CC7D52",
           "#3622BC",
           "#43FCC7",
           "#147521",
           "#E99597",
           "#6AB52C",
           "#BE3C4A",
           "#452DAD",
           "#653101",
           "#8062F4",
           "#A2933D",
           "#9BD7B2",
           "#C57EB7",
           "#174BEC",
           "#7CC1DF",
           "#D6BB05",
           "#82E125",
           "#2D8DB5",
           "#7CECAF",
           "#868117",
           "#62BF66",
           "#6D529E",
           "#C3E1BB",
           "#940D64",
           "#9D241A",
           "#C69C85",
           "#87452A",
           "#BA8FB8",
           "#36A7B7",
           "#D59D91",
           "#88A946",
           "#D50417",
           "#D260EB",
           "#C8EF2D",
           "#8CE7A1",
           "#79F549",
           "#0D3814",
           "#E17248",
           "#6D748F",
           "#9285F9",
           "#22DF62",
           "#DAD258",
           "#A44709",
           "#670CF1",
           "#1F89D2",
           "#97FFB0",
           "#73C38F",
           "#B9F783",
           "#57481B",
           "#1CDB96",
           "#A99ECE",
           "#3BB506",
           "#B06D1C",
           "#526FD0",
           "#99ADF8",
           "#E2030F",
           "#F45FA3",
           "#4BB920",
           "#F79B2C",
           "#6F4C0B",
           "#C88649",
           "#99F0B4",
           "#D64160",
           "#CE23E0",
           "#BB24E1",
           "#81E3BC",
           "#4FFD22",
           "#1DB16C",
           "#C5FE45",
           "#98F816",
           "#4EE8B8",
           "#C164AB",
           "#BDB263",
           "#7CBDB5",
           "#8EC0F1",
           "#C7571D",
           "#0F96FA",
           "#C94285",
           "#6CDD74",
           "#77940C",
           "#5C02E0",
           "#3A2E47",
           "#E9CDCA",
           "#DDB6C4",
           "#CB4DC2",
           "#C30868",
           "#A4C7D6",
           "#45E48A",
           "#41012F"
          ],
          "line": {
           "color": "rgb(8, 48, 107)",
           "width": 1.5
          }
         },
         "opacity": 0.7,
         "text": [
          "53.66%",
          "7.43%",
          "6.29%",
          "4.85%",
          "3.45%",
          "2.50%",
          "2.47%",
          "2.32%",
          "2.00%",
          "1.92%",
          "1.70%",
          "1.58%",
          "1.56%",
          "1.45%",
          "1.13%",
          "1.04%",
          "1.00%",
          "0.89%",
          "0.88%",
          "0.79%",
          "0.64%",
          "0.32%",
          "0.14%"
         ],
         "type": "bar",
         "x": [
          "Games",
          "Entertainment",
          "Education",
          "Photo & Video",
          "Utilities",
          "Health & Fitness",
          "Productivity",
          "Social Networking",
          "Lifestyle",
          "Music",
          "Shopping",
          "Sports",
          "Book",
          "Finance",
          "Travel",
          "News",
          "Weather",
          "Reference",
          "Food & Drink",
          "Business",
          "Navigation",
          "Medical",
          "Catalogs"
         ],
         "y": [
          3862,
          535,
          453,
          349,
          248,
          180,
          178,
          167,
          144,
          138,
          122,
          114,
          112,
          104,
          81,
          75,
          72,
          64,
          63,
          57,
          46,
          23,
          10
         ]
        }
       ],
       "layout": {
        "height": 500,
        "margin": {
         "l": 100
        },
        "template": {
         "data": {
          "bar": [
           {
            "error_x": {
             "color": "#2a3f5f"
            },
            "error_y": {
             "color": "#2a3f5f"
            },
            "marker": {
             "line": {
              "color": "#E5ECF6",
              "width": 0.5
             }
            },
            "type": "bar"
           }
          ],
          "barpolar": [
           {
            "marker": {
             "line": {
              "color": "#E5ECF6",
              "width": 0.5
             }
            },
            "type": "barpolar"
           }
          ],
          "carpet": [
           {
            "aaxis": {
             "endlinecolor": "#2a3f5f",
             "gridcolor": "white",
             "linecolor": "white",
             "minorgridcolor": "white",
             "startlinecolor": "#2a3f5f"
            },
            "baxis": {
             "endlinecolor": "#2a3f5f",
             "gridcolor": "white",
             "linecolor": "white",
             "minorgridcolor": "white",
             "startlinecolor": "#2a3f5f"
            },
            "type": "carpet"
           }
          ],
          "choropleth": [
           {
            "colorbar": {
             "outlinewidth": 0,
             "ticks": ""
            },
            "type": "choropleth"
           }
          ],
          "contour": [
           {
            "colorbar": {
             "outlinewidth": 0,
             "ticks": ""
            },
            "colorscale": [
             [
              0,
              "#0d0887"
             ],
             [
              0.1111111111111111,
              "#46039f"
             ],
             [
              0.2222222222222222,
              "#7201a8"
             ],
             [
              0.3333333333333333,
              "#9c179e"
             ],
             [
              0.4444444444444444,
              "#bd3786"
             ],
             [
              0.5555555555555556,
              "#d8576b"
             ],
             [
              0.6666666666666666,
              "#ed7953"
             ],
             [
              0.7777777777777778,
              "#fb9f3a"
             ],
             [
              0.8888888888888888,
              "#fdca26"
             ],
             [
              1,
              "#f0f921"
             ]
            ],
            "type": "contour"
           }
          ],
          "contourcarpet": [
           {
            "colorbar": {
             "outlinewidth": 0,
             "ticks": ""
            },
            "type": "contourcarpet"
           }
          ],
          "heatmap": [
           {
            "colorbar": {
             "outlinewidth": 0,
             "ticks": ""
            },
            "colorscale": [
             [
              0,
              "#0d0887"
             ],
             [
              0.1111111111111111,
              "#46039f"
             ],
             [
              0.2222222222222222,
              "#7201a8"
             ],
             [
              0.3333333333333333,
              "#9c179e"
             ],
             [
              0.4444444444444444,
              "#bd3786"
             ],
             [
              0.5555555555555556,
              "#d8576b"
             ],
             [
              0.6666666666666666,
              "#ed7953"
             ],
             [
              0.7777777777777778,
              "#fb9f3a"
             ],
             [
              0.8888888888888888,
              "#fdca26"
             ],
             [
              1,
              "#f0f921"
             ]
            ],
            "type": "heatmap"
           }
          ],
          "heatmapgl": [
           {
            "colorbar": {
             "outlinewidth": 0,
             "ticks": ""
            },
            "colorscale": [
             [
              0,
              "#0d0887"
             ],
             [
              0.1111111111111111,
              "#46039f"
             ],
             [
              0.2222222222222222,
              "#7201a8"
             ],
             [
              0.3333333333333333,
              "#9c179e"
             ],
             [
              0.4444444444444444,
              "#bd3786"
             ],
             [
              0.5555555555555556,
              "#d8576b"
             ],
             [
              0.6666666666666666,
              "#ed7953"
             ],
             [
              0.7777777777777778,
              "#fb9f3a"
             ],
             [
              0.8888888888888888,
              "#fdca26"
             ],
             [
              1,
              "#f0f921"
             ]
            ],
            "type": "heatmapgl"
           }
          ],
          "histogram": [
           {
            "marker": {
             "colorbar": {
              "outlinewidth": 0,
              "ticks": ""
             }
            },
            "type": "histogram"
           }
          ],
          "histogram2d": [
           {
            "colorbar": {
             "outlinewidth": 0,
             "ticks": ""
            },
            "colorscale": [
             [
              0,
              "#0d0887"
             ],
             [
              0.1111111111111111,
              "#46039f"
             ],
             [
              0.2222222222222222,
              "#7201a8"
             ],
             [
              0.3333333333333333,
              "#9c179e"
             ],
             [
              0.4444444444444444,
              "#bd3786"
             ],
             [
              0.5555555555555556,
              "#d8576b"
             ],
             [
              0.6666666666666666,
              "#ed7953"
             ],
             [
              0.7777777777777778,
              "#fb9f3a"
             ],
             [
              0.8888888888888888,
              "#fdca26"
             ],
             [
              1,
              "#f0f921"
             ]
            ],
            "type": "histogram2d"
           }
          ],
          "histogram2dcontour": [
           {
            "colorbar": {
             "outlinewidth": 0,
             "ticks": ""
            },
            "colorscale": [
             [
              0,
              "#0d0887"
             ],
             [
              0.1111111111111111,
              "#46039f"
             ],
             [
              0.2222222222222222,
              "#7201a8"
             ],
             [
              0.3333333333333333,
              "#9c179e"
             ],
             [
              0.4444444444444444,
              "#bd3786"
             ],
             [
              0.5555555555555556,
              "#d8576b"
             ],
             [
              0.6666666666666666,
              "#ed7953"
             ],
             [
              0.7777777777777778,
              "#fb9f3a"
             ],
             [
              0.8888888888888888,
              "#fdca26"
             ],
             [
              1,
              "#f0f921"
             ]
            ],
            "type": "histogram2dcontour"
           }
          ],
          "mesh3d": [
           {
            "colorbar": {
             "outlinewidth": 0,
             "ticks": ""
            },
            "type": "mesh3d"
           }
          ],
          "parcoords": [
           {
            "line": {
             "colorbar": {
              "outlinewidth": 0,
              "ticks": ""
             }
            },
            "type": "parcoords"
           }
          ],
          "scatter": [
           {
            "marker": {
             "colorbar": {
              "outlinewidth": 0,
              "ticks": ""
             }
            },
            "type": "scatter"
           }
          ],
          "scatter3d": [
           {
            "line": {
             "colorbar": {
              "outlinewidth": 0,
              "ticks": ""
             }
            },
            "marker": {
             "colorbar": {
              "outlinewidth": 0,
              "ticks": ""
             }
            },
            "type": "scatter3d"
           }
          ],
          "scattercarpet": [
           {
            "marker": {
             "colorbar": {
              "outlinewidth": 0,
              "ticks": ""
             }
            },
            "type": "scattercarpet"
           }
          ],
          "scattergeo": [
           {
            "marker": {
             "colorbar": {
              "outlinewidth": 0,
              "ticks": ""
             }
            },
            "type": "scattergeo"
           }
          ],
          "scattergl": [
           {
            "marker": {
             "colorbar": {
              "outlinewidth": 0,
              "ticks": ""
             }
            },
            "type": "scattergl"
           }
          ],
          "scattermapbox": [
           {
            "marker": {
             "colorbar": {
              "outlinewidth": 0,
              "ticks": ""
             }
            },
            "type": "scattermapbox"
           }
          ],
          "scatterpolar": [
           {
            "marker": {
             "colorbar": {
              "outlinewidth": 0,
              "ticks": ""
             }
            },
            "type": "scatterpolar"
           }
          ],
          "scatterpolargl": [
           {
            "marker": {
             "colorbar": {
              "outlinewidth": 0,
              "ticks": ""
             }
            },
            "type": "scatterpolargl"
           }
          ],
          "scatterternary": [
           {
            "marker": {
             "colorbar": {
              "outlinewidth": 0,
              "ticks": ""
             }
            },
            "type": "scatterternary"
           }
          ],
          "surface": [
           {
            "colorbar": {
             "outlinewidth": 0,
             "ticks": ""
            },
            "colorscale": [
             [
              0,
              "#0d0887"
             ],
             [
              0.1111111111111111,
              "#46039f"
             ],
             [
              0.2222222222222222,
              "#7201a8"
             ],
             [
              0.3333333333333333,
              "#9c179e"
             ],
             [
              0.4444444444444444,
              "#bd3786"
             ],
             [
              0.5555555555555556,
              "#d8576b"
             ],
             [
              0.6666666666666666,
              "#ed7953"
             ],
             [
              0.7777777777777778,
              "#fb9f3a"
             ],
             [
              0.8888888888888888,
              "#fdca26"
             ],
             [
              1,
              "#f0f921"
             ]
            ],
            "type": "surface"
           }
          ],
          "table": [
           {
            "cells": {
             "fill": {
              "color": "#EBF0F8"
             },
             "line": {
              "color": "white"
             }
            },
            "header": {
             "fill": {
              "color": "#C8D4E3"
             },
             "line": {
              "color": "white"
             }
            },
            "type": "table"
           }
          ]
         },
         "layout": {
          "annotationdefaults": {
           "arrowcolor": "#2a3f5f",
           "arrowhead": 0,
           "arrowwidth": 1
          },
          "colorscale": {
           "diverging": [
            [
             0,
             "#8e0152"
            ],
            [
             0.1,
             "#c51b7d"
            ],
            [
             0.2,
             "#de77ae"
            ],
            [
             0.3,
             "#f1b6da"
            ],
            [
             0.4,
             "#fde0ef"
            ],
            [
             0.5,
             "#f7f7f7"
            ],
            [
             0.6,
             "#e6f5d0"
            ],
            [
             0.7,
             "#b8e186"
            ],
            [
             0.8,
             "#7fbc41"
            ],
            [
             0.9,
             "#4d9221"
            ],
            [
             1,
             "#276419"
            ]
           ],
           "sequential": [
            [
             0,
             "#0d0887"
            ],
            [
             0.1111111111111111,
             "#46039f"
            ],
            [
             0.2222222222222222,
             "#7201a8"
            ],
            [
             0.3333333333333333,
             "#9c179e"
            ],
            [
             0.4444444444444444,
             "#bd3786"
            ],
            [
             0.5555555555555556,
             "#d8576b"
            ],
            [
             0.6666666666666666,
             "#ed7953"
            ],
            [
             0.7777777777777778,
             "#fb9f3a"
            ],
            [
             0.8888888888888888,
             "#fdca26"
            ],
            [
             1,
             "#f0f921"
            ]
           ],
           "sequentialminus": [
            [
             0,
             "#0d0887"
            ],
            [
             0.1111111111111111,
             "#46039f"
            ],
            [
             0.2222222222222222,
             "#7201a8"
            ],
            [
             0.3333333333333333,
             "#9c179e"
            ],
            [
             0.4444444444444444,
             "#bd3786"
            ],
            [
             0.5555555555555556,
             "#d8576b"
            ],
            [
             0.6666666666666666,
             "#ed7953"
            ],
            [
             0.7777777777777778,
             "#fb9f3a"
            ],
            [
             0.8888888888888888,
             "#fdca26"
            ],
            [
             1,
             "#f0f921"
            ]
           ]
          },
          "colorway": [
           "#636efa",
           "#EF553B",
           "#00cc96",
           "#ab63fa",
           "#FFA15A",
           "#19d3f3",
           "#FF6692",
           "#B6E880",
           "#FF97FF",
           "#FECB52"
          ],
          "font": {
           "color": "#2a3f5f"
          },
          "geo": {
           "bgcolor": "white",
           "lakecolor": "white",
           "landcolor": "#E5ECF6",
           "showlakes": true,
           "showland": true,
           "subunitcolor": "white"
          },
          "hoverlabel": {
           "align": "left"
          },
          "hovermode": "closest",
          "mapbox": {
           "style": "light"
          },
          "paper_bgcolor": "white",
          "plot_bgcolor": "#E5ECF6",
          "polar": {
           "angularaxis": {
            "gridcolor": "white",
            "linecolor": "white",
            "ticks": ""
           },
           "bgcolor": "#E5ECF6",
           "radialaxis": {
            "gridcolor": "white",
            "linecolor": "white",
            "ticks": ""
           }
          },
          "scene": {
           "xaxis": {
            "backgroundcolor": "#E5ECF6",
            "gridcolor": "white",
            "gridwidth": 2,
            "linecolor": "white",
            "showbackground": true,
            "ticks": "",
            "zerolinecolor": "white"
           },
           "yaxis": {
            "backgroundcolor": "#E5ECF6",
            "gridcolor": "white",
            "gridwidth": 2,
            "linecolor": "white",
            "showbackground": true,
            "ticks": "",
            "zerolinecolor": "white"
           },
           "zaxis": {
            "backgroundcolor": "#E5ECF6",
            "gridcolor": "white",
            "gridwidth": 2,
            "linecolor": "white",
            "showbackground": true,
            "ticks": "",
            "zerolinecolor": "white"
           }
          },
          "shapedefaults": {
           "line": {
            "color": "#2a3f5f"
           }
          },
          "ternary": {
           "aaxis": {
            "gridcolor": "white",
            "linecolor": "white",
            "ticks": ""
           },
           "baxis": {
            "gridcolor": "white",
            "linecolor": "white",
            "ticks": ""
           },
           "bgcolor": "#E5ECF6",
           "caxis": {
            "gridcolor": "white",
            "linecolor": "white",
            "ticks": ""
           }
          },
          "title": {
           "x": 0.05
          },
          "xaxis": {
           "automargin": true,
           "gridcolor": "white",
           "linecolor": "white",
           "ticks": "",
           "zerolinecolor": "white",
           "zerolinewidth": 2
          },
          "yaxis": {
           "automargin": true,
           "gridcolor": "white",
           "linecolor": "white",
           "ticks": "",
           "zerolinecolor": "white",
           "zerolinewidth": 2
          }
         }
        },
        "title": {
         "text": "Prime genre"
        },
        "width": 800,
        "xaxis": {
         "title": {
          "text": "Genre"
         }
        },
        "yaxis": {
         "title": {
          "text": "Count"
         }
        }
       }
      },
      "text/html": [
       "<div>\n",
       "        \n",
       "        \n",
       "            <div id=\"679c6cc7-8f60-48ba-ba49-7d05bcea07fd\" class=\"plotly-graph-div\" style=\"height:500px; width:800px;\"></div>\n",
       "            <script type=\"text/javascript\">\n",
       "                require([\"plotly\"], function(Plotly) {\n",
       "                    window.PLOTLYENV=window.PLOTLYENV || {};\n",
       "                    \n",
       "                if (document.getElementById(\"679c6cc7-8f60-48ba-ba49-7d05bcea07fd\")) {\n",
       "                    Plotly.newPlot(\n",
       "                        '679c6cc7-8f60-48ba-ba49-7d05bcea07fd',\n",
       "                        [{\"marker\": {\"color\": [\"#3AD60E\", \"#2F03A0\", \"#21B731\", \"#0C39D9\", \"#814A29\", \"#71A58D\", \"#A00D40\", \"#F4C5F4\", \"#A6EE05\", \"#9E8377\", \"#5D7345\", \"#CC7D52\", \"#3622BC\", \"#43FCC7\", \"#147521\", \"#E99597\", \"#6AB52C\", \"#BE3C4A\", \"#452DAD\", \"#653101\", \"#8062F4\", \"#A2933D\", \"#9BD7B2\", \"#C57EB7\", \"#174BEC\", \"#7CC1DF\", \"#D6BB05\", \"#82E125\", \"#2D8DB5\", \"#7CECAF\", \"#868117\", \"#62BF66\", \"#6D529E\", \"#C3E1BB\", \"#940D64\", \"#9D241A\", \"#C69C85\", \"#87452A\", \"#BA8FB8\", \"#36A7B7\", \"#D59D91\", \"#88A946\", \"#D50417\", \"#D260EB\", \"#C8EF2D\", \"#8CE7A1\", \"#79F549\", \"#0D3814\", \"#E17248\", \"#6D748F\", \"#9285F9\", \"#22DF62\", \"#DAD258\", \"#A44709\", \"#670CF1\", \"#1F89D2\", \"#97FFB0\", \"#73C38F\", \"#B9F783\", \"#57481B\", \"#1CDB96\", \"#A99ECE\", \"#3BB506\", \"#B06D1C\", \"#526FD0\", \"#99ADF8\", \"#E2030F\", \"#F45FA3\", \"#4BB920\", \"#F79B2C\", \"#6F4C0B\", \"#C88649\", \"#99F0B4\", \"#D64160\", \"#CE23E0\", \"#BB24E1\", \"#81E3BC\", \"#4FFD22\", \"#1DB16C\", \"#C5FE45\", \"#98F816\", \"#4EE8B8\", \"#C164AB\", \"#BDB263\", \"#7CBDB5\", \"#8EC0F1\", \"#C7571D\", \"#0F96FA\", \"#C94285\", \"#6CDD74\", \"#77940C\", \"#5C02E0\", \"#3A2E47\", \"#E9CDCA\", \"#DDB6C4\", \"#CB4DC2\", \"#C30868\", \"#A4C7D6\", \"#45E48A\", \"#41012F\"], \"line\": {\"color\": \"rgb(8, 48, 107)\", \"width\": 1.5}}, \"opacity\": 0.7, \"text\": [\"53.66%\", \"7.43%\", \"6.29%\", \"4.85%\", \"3.45%\", \"2.50%\", \"2.47%\", \"2.32%\", \"2.00%\", \"1.92%\", \"1.70%\", \"1.58%\", \"1.56%\", \"1.45%\", \"1.13%\", \"1.04%\", \"1.00%\", \"0.89%\", \"0.88%\", \"0.79%\", \"0.64%\", \"0.32%\", \"0.14%\"], \"type\": \"bar\", \"x\": [\"Games\", \"Entertainment\", \"Education\", \"Photo & Video\", \"Utilities\", \"Health & Fitness\", \"Productivity\", \"Social Networking\", \"Lifestyle\", \"Music\", \"Shopping\", \"Sports\", \"Book\", \"Finance\", \"Travel\", \"News\", \"Weather\", \"Reference\", \"Food & Drink\", \"Business\", \"Navigation\", \"Medical\", \"Catalogs\"], \"y\": [3862, 535, 453, 349, 248, 180, 178, 167, 144, 138, 122, 114, 112, 104, 81, 75, 72, 64, 63, 57, 46, 23, 10]}],\n",
       "                        {\"height\": 500, \"margin\": {\"l\": 100}, \"template\": {\"data\": {\"bar\": [{\"error_x\": {\"color\": \"#2a3f5f\"}, \"error_y\": {\"color\": \"#2a3f5f\"}, \"marker\": {\"line\": {\"color\": \"#E5ECF6\", \"width\": 0.5}}, \"type\": \"bar\"}], \"barpolar\": [{\"marker\": {\"line\": {\"color\": \"#E5ECF6\", \"width\": 0.5}}, \"type\": \"barpolar\"}], \"carpet\": [{\"aaxis\": {\"endlinecolor\": \"#2a3f5f\", \"gridcolor\": \"white\", \"linecolor\": \"white\", \"minorgridcolor\": \"white\", \"startlinecolor\": \"#2a3f5f\"}, \"baxis\": {\"endlinecolor\": \"#2a3f5f\", \"gridcolor\": \"white\", \"linecolor\": \"white\", \"minorgridcolor\": \"white\", \"startlinecolor\": \"#2a3f5f\"}, \"type\": \"carpet\"}], \"choropleth\": [{\"colorbar\": {\"outlinewidth\": 0, \"ticks\": \"\"}, \"type\": \"choropleth\"}], \"contour\": [{\"colorbar\": {\"outlinewidth\": 0, \"ticks\": \"\"}, \"colorscale\": [[0.0, \"#0d0887\"], [0.1111111111111111, \"#46039f\"], [0.2222222222222222, \"#7201a8\"], [0.3333333333333333, \"#9c179e\"], [0.4444444444444444, \"#bd3786\"], [0.5555555555555556, \"#d8576b\"], [0.6666666666666666, \"#ed7953\"], [0.7777777777777778, \"#fb9f3a\"], [0.8888888888888888, \"#fdca26\"], [1.0, \"#f0f921\"]], \"type\": \"contour\"}], \"contourcarpet\": [{\"colorbar\": {\"outlinewidth\": 0, \"ticks\": \"\"}, \"type\": \"contourcarpet\"}], \"heatmap\": [{\"colorbar\": {\"outlinewidth\": 0, \"ticks\": \"\"}, \"colorscale\": [[0.0, \"#0d0887\"], [0.1111111111111111, \"#46039f\"], [0.2222222222222222, \"#7201a8\"], [0.3333333333333333, \"#9c179e\"], [0.4444444444444444, \"#bd3786\"], [0.5555555555555556, \"#d8576b\"], [0.6666666666666666, \"#ed7953\"], [0.7777777777777778, \"#fb9f3a\"], [0.8888888888888888, \"#fdca26\"], [1.0, \"#f0f921\"]], \"type\": \"heatmap\"}], \"heatmapgl\": [{\"colorbar\": {\"outlinewidth\": 0, \"ticks\": \"\"}, \"colorscale\": [[0.0, \"#0d0887\"], [0.1111111111111111, \"#46039f\"], [0.2222222222222222, \"#7201a8\"], [0.3333333333333333, \"#9c179e\"], [0.4444444444444444, \"#bd3786\"], [0.5555555555555556, \"#d8576b\"], [0.6666666666666666, \"#ed7953\"], [0.7777777777777778, \"#fb9f3a\"], [0.8888888888888888, \"#fdca26\"], [1.0, \"#f0f921\"]], \"type\": \"heatmapgl\"}], \"histogram\": [{\"marker\": {\"colorbar\": {\"outlinewidth\": 0, \"ticks\": \"\"}}, \"type\": \"histogram\"}], \"histogram2d\": [{\"colorbar\": {\"outlinewidth\": 0, \"ticks\": \"\"}, \"colorscale\": [[0.0, \"#0d0887\"], [0.1111111111111111, \"#46039f\"], [0.2222222222222222, \"#7201a8\"], [0.3333333333333333, \"#9c179e\"], [0.4444444444444444, \"#bd3786\"], [0.5555555555555556, \"#d8576b\"], [0.6666666666666666, \"#ed7953\"], [0.7777777777777778, \"#fb9f3a\"], [0.8888888888888888, \"#fdca26\"], [1.0, \"#f0f921\"]], \"type\": \"histogram2d\"}], \"histogram2dcontour\": [{\"colorbar\": {\"outlinewidth\": 0, \"ticks\": \"\"}, \"colorscale\": [[0.0, \"#0d0887\"], [0.1111111111111111, \"#46039f\"], [0.2222222222222222, \"#7201a8\"], [0.3333333333333333, \"#9c179e\"], [0.4444444444444444, \"#bd3786\"], [0.5555555555555556, \"#d8576b\"], [0.6666666666666666, \"#ed7953\"], [0.7777777777777778, \"#fb9f3a\"], [0.8888888888888888, \"#fdca26\"], [1.0, \"#f0f921\"]], \"type\": \"histogram2dcontour\"}], \"mesh3d\": [{\"colorbar\": {\"outlinewidth\": 0, \"ticks\": \"\"}, \"type\": \"mesh3d\"}], \"parcoords\": [{\"line\": {\"colorbar\": {\"outlinewidth\": 0, \"ticks\": \"\"}}, \"type\": \"parcoords\"}], \"scatter\": [{\"marker\": {\"colorbar\": {\"outlinewidth\": 0, \"ticks\": \"\"}}, \"type\": \"scatter\"}], \"scatter3d\": [{\"line\": {\"colorbar\": {\"outlinewidth\": 0, \"ticks\": \"\"}}, \"marker\": {\"colorbar\": {\"outlinewidth\": 0, \"ticks\": \"\"}}, \"type\": \"scatter3d\"}], \"scattercarpet\": [{\"marker\": {\"colorbar\": {\"outlinewidth\": 0, \"ticks\": \"\"}}, \"type\": \"scattercarpet\"}], \"scattergeo\": [{\"marker\": {\"colorbar\": {\"outlinewidth\": 0, \"ticks\": \"\"}}, \"type\": \"scattergeo\"}], \"scattergl\": [{\"marker\": {\"colorbar\": {\"outlinewidth\": 0, \"ticks\": \"\"}}, \"type\": \"scattergl\"}], \"scattermapbox\": [{\"marker\": {\"colorbar\": {\"outlinewidth\": 0, \"ticks\": \"\"}}, \"type\": \"scattermapbox\"}], \"scatterpolar\": [{\"marker\": {\"colorbar\": {\"outlinewidth\": 0, \"ticks\": \"\"}}, \"type\": \"scatterpolar\"}], \"scatterpolargl\": [{\"marker\": {\"colorbar\": {\"outlinewidth\": 0, \"ticks\": \"\"}}, \"type\": \"scatterpolargl\"}], \"scatterternary\": [{\"marker\": {\"colorbar\": {\"outlinewidth\": 0, \"ticks\": \"\"}}, \"type\": \"scatterternary\"}], \"surface\": [{\"colorbar\": {\"outlinewidth\": 0, \"ticks\": \"\"}, \"colorscale\": [[0.0, \"#0d0887\"], [0.1111111111111111, \"#46039f\"], [0.2222222222222222, \"#7201a8\"], [0.3333333333333333, \"#9c179e\"], [0.4444444444444444, \"#bd3786\"], [0.5555555555555556, \"#d8576b\"], [0.6666666666666666, \"#ed7953\"], [0.7777777777777778, \"#fb9f3a\"], [0.8888888888888888, \"#fdca26\"], [1.0, \"#f0f921\"]], \"type\": \"surface\"}], \"table\": [{\"cells\": {\"fill\": {\"color\": \"#EBF0F8\"}, \"line\": {\"color\": \"white\"}}, \"header\": {\"fill\": {\"color\": \"#C8D4E3\"}, \"line\": {\"color\": \"white\"}}, \"type\": \"table\"}]}, \"layout\": {\"annotationdefaults\": {\"arrowcolor\": \"#2a3f5f\", \"arrowhead\": 0, \"arrowwidth\": 1}, \"colorscale\": {\"diverging\": [[0, \"#8e0152\"], [0.1, \"#c51b7d\"], [0.2, \"#de77ae\"], [0.3, \"#f1b6da\"], [0.4, \"#fde0ef\"], [0.5, \"#f7f7f7\"], [0.6, \"#e6f5d0\"], [0.7, \"#b8e186\"], [0.8, \"#7fbc41\"], [0.9, \"#4d9221\"], [1, \"#276419\"]], \"sequential\": [[0.0, \"#0d0887\"], [0.1111111111111111, \"#46039f\"], [0.2222222222222222, \"#7201a8\"], [0.3333333333333333, \"#9c179e\"], [0.4444444444444444, \"#bd3786\"], [0.5555555555555556, \"#d8576b\"], [0.6666666666666666, \"#ed7953\"], [0.7777777777777778, \"#fb9f3a\"], [0.8888888888888888, \"#fdca26\"], [1.0, \"#f0f921\"]], \"sequentialminus\": [[0.0, \"#0d0887\"], [0.1111111111111111, \"#46039f\"], [0.2222222222222222, \"#7201a8\"], [0.3333333333333333, \"#9c179e\"], [0.4444444444444444, \"#bd3786\"], [0.5555555555555556, \"#d8576b\"], [0.6666666666666666, \"#ed7953\"], [0.7777777777777778, \"#fb9f3a\"], [0.8888888888888888, \"#fdca26\"], [1.0, \"#f0f921\"]]}, \"colorway\": [\"#636efa\", \"#EF553B\", \"#00cc96\", \"#ab63fa\", \"#FFA15A\", \"#19d3f3\", \"#FF6692\", \"#B6E880\", \"#FF97FF\", \"#FECB52\"], \"font\": {\"color\": \"#2a3f5f\"}, \"geo\": {\"bgcolor\": \"white\", \"lakecolor\": \"white\", \"landcolor\": \"#E5ECF6\", \"showlakes\": true, \"showland\": true, \"subunitcolor\": \"white\"}, \"hoverlabel\": {\"align\": \"left\"}, \"hovermode\": \"closest\", \"mapbox\": {\"style\": \"light\"}, \"paper_bgcolor\": \"white\", \"plot_bgcolor\": \"#E5ECF6\", \"polar\": {\"angularaxis\": {\"gridcolor\": \"white\", \"linecolor\": \"white\", \"ticks\": \"\"}, \"bgcolor\": \"#E5ECF6\", \"radialaxis\": {\"gridcolor\": \"white\", \"linecolor\": \"white\", \"ticks\": \"\"}}, \"scene\": {\"xaxis\": {\"backgroundcolor\": \"#E5ECF6\", \"gridcolor\": \"white\", \"gridwidth\": 2, \"linecolor\": \"white\", \"showbackground\": true, \"ticks\": \"\", \"zerolinecolor\": \"white\"}, \"yaxis\": {\"backgroundcolor\": \"#E5ECF6\", \"gridcolor\": \"white\", \"gridwidth\": 2, \"linecolor\": \"white\", \"showbackground\": true, \"ticks\": \"\", \"zerolinecolor\": \"white\"}, \"zaxis\": {\"backgroundcolor\": \"#E5ECF6\", \"gridcolor\": \"white\", \"gridwidth\": 2, \"linecolor\": \"white\", \"showbackground\": true, \"ticks\": \"\", \"zerolinecolor\": \"white\"}}, \"shapedefaults\": {\"line\": {\"color\": \"#2a3f5f\"}}, \"ternary\": {\"aaxis\": {\"gridcolor\": \"white\", \"linecolor\": \"white\", \"ticks\": \"\"}, \"baxis\": {\"gridcolor\": \"white\", \"linecolor\": \"white\", \"ticks\": \"\"}, \"bgcolor\": \"#E5ECF6\", \"caxis\": {\"gridcolor\": \"white\", \"linecolor\": \"white\", \"ticks\": \"\"}}, \"title\": {\"x\": 0.05}, \"xaxis\": {\"automargin\": true, \"gridcolor\": \"white\", \"linecolor\": \"white\", \"ticks\": \"\", \"zerolinecolor\": \"white\", \"zerolinewidth\": 2}, \"yaxis\": {\"automargin\": true, \"gridcolor\": \"white\", \"linecolor\": \"white\", \"ticks\": \"\", \"zerolinecolor\": \"white\", \"zerolinewidth\": 2}}}, \"title\": {\"text\": \"Prime genre\"}, \"width\": 800, \"xaxis\": {\"title\": {\"text\": \"Genre\"}}, \"yaxis\": {\"title\": {\"text\": \"Count\"}}},\n",
       "                        {\"responsive\": true}\n",
       "                    ).then(function(){\n",
       "                            \n",
       "var gd = document.getElementById('679c6cc7-8f60-48ba-ba49-7d05bcea07fd');\n",
       "var x = new MutationObserver(function (mutations, observer) {{\n",
       "        var display = window.getComputedStyle(gd).display;\n",
       "        if (!display || display === 'none') {{\n",
       "            console.log([gd, 'removed!']);\n",
       "            Plotly.purge(gd);\n",
       "            observer.disconnect();\n",
       "        }}\n",
       "}});\n",
       "\n",
       "// Listen for the removal of the full notebook cells\n",
       "var notebookContainer = gd.closest('#notebook-container');\n",
       "if (notebookContainer) {{\n",
       "    x.observe(notebookContainer, {childList: true});\n",
       "}}\n",
       "\n",
       "// Listen for the clearing of the current output cell\n",
       "var outputEl = gd.closest('.output');\n",
       "if (outputEl) {{\n",
       "    x.observe(outputEl, {childList: true});\n",
       "}}\n",
       "\n",
       "                        })\n",
       "                };\n",
       "                });\n",
       "            </script>\n",
       "        </div>"
      ]
     },
     "metadata": {},
     "output_type": "display_data"
    }
   ],
   "source": [
    "def random_color_generator(number_of_colors):\n",
    "    color = [\"#\"+''.join([random.choice('0123456789ABCDEF') for j in range(6)])\n",
    "                 for i in range(number_of_colors)]\n",
    "    return color\n",
    "\n",
    "cnt_srs = df_app['prime_genre'].value_counts()\n",
    "text = ['{:.2f}%'.format(100 * (value / cnt_srs.sum())) for value in cnt_srs.values]\n",
    "\n",
    "trace = go.Bar(\n",
    "    x = cnt_srs.index,\n",
    "    y = cnt_srs.values,\n",
    "    text = text,\n",
    "    marker = dict(\n",
    "        color = random_color_generator(100),\n",
    "        line = dict(color='rgb(8, 48, 107)',\n",
    "                    width = 1.5)\n",
    "    ),\n",
    "    opacity = 0.7\n",
    ")\n",
    "data = [trace]\n",
    "\n",
    "layout = go.Layout(\n",
    "    title = 'Prime genre',\n",
    "    margin = dict(\n",
    "        l = 100\n",
    "    ),\n",
    "    xaxis = dict(\n",
    "        title = 'Genre'\n",
    "    ),\n",
    "    yaxis = dict(\n",
    "        title = 'Count'\n",
    "    ),\n",
    "    width = 800,\n",
    "    height = 500\n",
    ")\n",
    "\n",
    "fig = go.Figure(data=data, layout=layout)\n",
    "py.iplot(fig)"
   ]
  },
  {
   "cell_type": "markdown",
   "metadata": {
    "_uuid": "76535991cab5cf414d59a4f8262fde382e0f2149"
   },
   "source": [
    "- With not considering 'isNotFree', Games are the most numerous, followed by Entertainment, Education, Photo & Video."
   ]
  },
  {
   "cell_type": "code",
   "execution_count": 19,
   "metadata": {
    "ExecuteTime": {
     "end_time": "2019-07-18T11:54:50.734357Z",
     "start_time": "2019-07-18T11:54:50.248999Z"
    },
    "_kg_hide-input": true,
    "_uuid": "cccd1d9dc4b362cb571bf1d22c19678df268b79c"
   },
   "outputs": [
    {
     "data": {
      "application/vnd.plotly.v1+json": {
       "config": {
        "linkText": "Export to plot.ly",
        "plotlyServerURL": "https://plot.ly",
        "showLink": false
       },
       "data": [
        {
         "marker": {
          "color": [
           "#DE31D7",
           "#CC28EA",
           "#E6DC6D",
           "#B9B67C",
           "#3F60FA",
           "#41C917",
           "#4DF28F",
           "#FB6862",
           "#972D5D",
           "#5905F5",
           "#0AB8C6",
           "#26CD13",
           "#C0B750",
           "#FC8793",
           "#4A3DD9",
           "#B5A14C",
           "#9C9E68",
           "#05FE4F",
           "#A27F9F",
           "#AF52F6",
           "#F02FB3",
           "#8C0947",
           "#EABA88",
           "#A8F3A0",
           "#A89C63",
           "#7C5C0A",
           "#8BC59B",
           "#F51A0F",
           "#953B0E",
           "#0306E7",
           "#E011FC",
           "#BC176D",
           "#875FD6",
           "#4C7B57",
           "#F9A344",
           "#B422D7",
           "#4B0A1C",
           "#DAA74A",
           "#FA7339",
           "#246A6D",
           "#5BE052",
           "#789991",
           "#2E4576",
           "#5A77CA",
           "#ECFC69",
           "#C457B6",
           "#03104E",
           "#D70A83",
           "#6E9357",
           "#FB29AE",
           "#A5AFF5",
           "#17D256",
           "#3A6853",
           "#B9CA94",
           "#60993A",
           "#995587",
           "#577E1D",
           "#4F25C6",
           "#F27761",
           "#1B749A",
           "#A148DC",
           "#E9F1C9",
           "#31FBEC",
           "#9BDFD8",
           "#244477",
           "#F82ADE",
           "#424DF5",
           "#922B41",
           "#A3C209",
           "#F6BF2A",
           "#B30D92",
           "#F21663",
           "#7E904D",
           "#241985",
           "#BC1D81",
           "#04C815",
           "#D530E4",
           "#055D80",
           "#EF342B",
           "#EAFAE0",
           "#7A778B",
           "#0B4626",
           "#E2F4D0",
           "#11ADE0",
           "#7B78AA",
           "#D02E02",
           "#641FB2",
           "#AF347D",
           "#C5C3B0",
           "#C68398",
           "#880DE0",
           "#AD103F",
           "#1972CA",
           "#4EEDB9",
           "#F388B5",
           "#76590C",
           "#D41891",
           "#234586",
           "#CFC78A",
           "#B2B3ED"
          ],
          "line": {
           "color": "rgb(8, 48, 107)",
           "width": 1.5
          }
         },
         "opacity": 0.7,
         "text": [
          "55.65%",
          "8.23%",
          "4.12%",
          "3.53%",
          "3.25%",
          "2.98%",
          "2.69%",
          "2.32%",
          "2.07%",
          "1.95%",
          "1.87%",
          "1.65%",
          "1.63%",
          "1.53%",
          "1.43%",
          "1.38%",
          "1.06%",
          "0.76%",
          "0.49%",
          "0.49%",
          "0.49%",
          "0.22%",
          "0.20%"
         ],
         "type": "bar",
         "x": [
          "Games",
          "Entertainment",
          "Photo & Video",
          "Social Networking",
          "Education",
          "Shopping",
          "Utilities",
          "Lifestyle",
          "Finance",
          "Sports",
          "Health & Fitness",
          "Music",
          "Book",
          "Productivity",
          "News",
          "Travel",
          "Food & Drink",
          "Weather",
          "Reference",
          "Navigation",
          "Business",
          "Catalogs",
          "Medical"
         ],
         "xaxis": "x",
         "y": [
          2257,
          334,
          167,
          143,
          132,
          121,
          109,
          94,
          84,
          79,
          76,
          67,
          66,
          62,
          58,
          56,
          43,
          31,
          20,
          20,
          20,
          9,
          8
         ],
         "yaxis": "y"
        },
        {
         "marker": {
          "color": [
           "#D971F4",
           "#3C3A2C",
           "#3DDA2E",
           "#725444",
           "#DA94B2",
           "#06872A",
           "#92F919",
           "#EAF3CF",
           "#38C518",
           "#5E4A77",
           "#EB65DD",
           "#61F7B3",
           "#6DEA72",
           "#563671",
           "#0B3326",
           "#266AB5",
           "#5AE00A",
           "#CC489E",
           "#AD7793",
           "#D6804F",
           "#14BE52",
           "#AD25F8",
           "#0CAB30",
           "#CAEEB4",
           "#A3BEF8",
           "#46766E",
           "#7DEF54",
           "#E8B645",
           "#5E89DA",
           "#E2D0DE",
           "#9DDDAB",
           "#49A678",
           "#48DE78",
           "#EDF454",
           "#3B4E6A",
           "#F1EF5E",
           "#B300C5",
           "#3A0289",
           "#D295DC",
           "#61F341",
           "#8722C8",
           "#0C8152",
           "#BF16CE",
           "#3103C8",
           "#682313",
           "#A09D27",
           "#E456A8",
           "#DCC9D2",
           "#6D48D5",
           "#BBEBF0",
           "#DBC11C",
           "#64ADD4",
           "#83DF87",
           "#F4E98A",
           "#CBA845",
           "#DA63D5",
           "#74977D",
           "#1C7430",
           "#6E21C5",
           "#C42407",
           "#C86EFC",
           "#54F9CF",
           "#E6AA49",
           "#71B8CC",
           "#87EC6B",
           "#1EA10A",
           "#9896F3",
           "#D8E80C",
           "#924A65",
           "#AF6250",
           "#A17E7F",
           "#5C88CA",
           "#9BCDFA",
           "#F5473B",
           "#9B08C4",
           "#D8C252",
           "#7A850D",
           "#7A7F6D",
           "#AE4857",
           "#172329",
           "#32D4E5",
           "#8EC627",
           "#8A5C7A",
           "#4F0740",
           "#2C232F",
           "#7BC273",
           "#5C95B0",
           "#FE033A",
           "#09D363",
           "#EDD396",
           "#BCD11C",
           "#83DF04",
           "#02278D",
           "#E44345",
           "#424264",
           "#6DA56F",
           "#27A453",
           "#2A629D",
           "#E68387",
           "#E390A0"
          ],
          "line": {
           "color": "rgb(8, 48, 107)",
           "width": 1.5
          }
         },
         "opacity": 0.7,
         "text": [
          "51.10%",
          "10.22%",
          "6.40%",
          "5.79%",
          "4.43%",
          "3.69%",
          "3.31%",
          "2.26%",
          "1.59%",
          "1.46%",
          "1.40%",
          "1.31%",
          "1.18%",
          "1.11%",
          "0.83%",
          "0.80%",
          "0.76%",
          "0.64%",
          "0.64%",
          "0.54%",
          "0.48%",
          "0.03%",
          "0.03%"
         ],
         "type": "bar",
         "x": [
          "Games",
          "Education",
          "Entertainment",
          "Photo & Video",
          "Utilities",
          "Productivity",
          "Health & Fitness",
          "Music",
          "Lifestyle",
          "Book",
          "Reference",
          "Weather",
          "Business",
          "Sports",
          "Navigation",
          "Travel",
          "Social Networking",
          "Food & Drink",
          "Finance",
          "News",
          "Medical",
          "Shopping",
          "Catalogs"
         ],
         "xaxis": "x2",
         "y": [
          1605,
          321,
          201,
          182,
          139,
          116,
          104,
          71,
          50,
          46,
          44,
          41,
          37,
          35,
          26,
          25,
          24,
          20,
          20,
          17,
          15,
          1,
          1
         ],
         "yaxis": "y2"
        },
        {
         "name": "Free",
         "opacity": 0.7,
         "text": [
          "55.65%",
          "8.23%",
          "4.12%",
          "3.53%",
          "3.25%",
          "2.98%",
          "2.69%",
          "2.32%",
          "2.07%",
          "1.95%",
          "1.87%",
          "1.65%",
          "1.63%",
          "1.53%",
          "1.43%",
          "1.38%",
          "1.06%",
          "0.76%",
          "0.49%",
          "0.49%",
          "0.49%",
          "0.22%",
          "0.20%"
         ],
         "type": "bar",
         "x": [
          "Games",
          "Entertainment",
          "Photo & Video",
          "Social Networking",
          "Education",
          "Shopping",
          "Utilities",
          "Lifestyle",
          "Finance",
          "Sports",
          "Health & Fitness",
          "Music",
          "Book",
          "Productivity",
          "News",
          "Travel",
          "Food & Drink",
          "Weather",
          "Reference",
          "Navigation",
          "Business",
          "Catalogs",
          "Medical"
         ],
         "xaxis": "x3",
         "y": [
          2257,
          334,
          167,
          143,
          132,
          121,
          109,
          94,
          84,
          79,
          76,
          67,
          66,
          62,
          58,
          56,
          43,
          31,
          20,
          20,
          20,
          9,
          8
         ],
         "yaxis": "y3"
        },
        {
         "name": "Not-Free",
         "opacity": 0.7,
         "text": [
          "51.10%",
          "10.22%",
          "6.40%",
          "5.79%",
          "4.43%",
          "3.69%",
          "3.31%",
          "2.26%",
          "1.59%",
          "1.46%",
          "1.40%",
          "1.31%",
          "1.18%",
          "1.11%",
          "0.83%",
          "0.80%",
          "0.76%",
          "0.64%",
          "0.64%",
          "0.54%",
          "0.48%",
          "0.03%",
          "0.03%"
         ],
         "type": "bar",
         "x": [
          "Games",
          "Education",
          "Entertainment",
          "Photo & Video",
          "Utilities",
          "Productivity",
          "Health & Fitness",
          "Music",
          "Lifestyle",
          "Book",
          "Reference",
          "Weather",
          "Business",
          "Sports",
          "Navigation",
          "Travel",
          "Social Networking",
          "Food & Drink",
          "Finance",
          "News",
          "Medical",
          "Shopping",
          "Catalogs"
         ],
         "xaxis": "x3",
         "y": [
          1605,
          321,
          201,
          182,
          139,
          116,
          104,
          71,
          50,
          46,
          44,
          41,
          37,
          35,
          26,
          25,
          24,
          20,
          20,
          17,
          15,
          1,
          1
         ],
         "yaxis": "y3"
        }
       ],
       "layout": {
        "annotations": [
         {
          "font": {
           "size": 16
          },
          "showarrow": false,
          "text": "(1) Countplot for Prime_genre of Free",
          "x": 0.225,
          "xanchor": "center",
          "xref": "paper",
          "y": 1,
          "yanchor": "bottom",
          "yref": "paper"
         },
         {
          "font": {
           "size": 16
          },
          "showarrow": false,
          "text": "(2) Countplot for Prime_genre of Not-Free",
          "x": 0.775,
          "xanchor": "center",
          "xref": "paper",
          "y": 1,
          "yanchor": "bottom",
          "yref": "paper"
         },
         {
          "font": {
           "size": 16
          },
          "showarrow": false,
          "text": "(3) Grouped barplot containing Free(green) and Not-Free(red)",
          "x": 0.5,
          "xanchor": "center",
          "xref": "paper",
          "y": 0.375,
          "yanchor": "bottom",
          "yref": "paper"
         }
        ],
        "height": 800,
        "showlegend": false,
        "template": {
         "data": {
          "bar": [
           {
            "error_x": {
             "color": "#2a3f5f"
            },
            "error_y": {
             "color": "#2a3f5f"
            },
            "marker": {
             "line": {
              "color": "#E5ECF6",
              "width": 0.5
             }
            },
            "type": "bar"
           }
          ],
          "barpolar": [
           {
            "marker": {
             "line": {
              "color": "#E5ECF6",
              "width": 0.5
             }
            },
            "type": "barpolar"
           }
          ],
          "carpet": [
           {
            "aaxis": {
             "endlinecolor": "#2a3f5f",
             "gridcolor": "white",
             "linecolor": "white",
             "minorgridcolor": "white",
             "startlinecolor": "#2a3f5f"
            },
            "baxis": {
             "endlinecolor": "#2a3f5f",
             "gridcolor": "white",
             "linecolor": "white",
             "minorgridcolor": "white",
             "startlinecolor": "#2a3f5f"
            },
            "type": "carpet"
           }
          ],
          "choropleth": [
           {
            "colorbar": {
             "outlinewidth": 0,
             "ticks": ""
            },
            "type": "choropleth"
           }
          ],
          "contour": [
           {
            "colorbar": {
             "outlinewidth": 0,
             "ticks": ""
            },
            "colorscale": [
             [
              0,
              "#0d0887"
             ],
             [
              0.1111111111111111,
              "#46039f"
             ],
             [
              0.2222222222222222,
              "#7201a8"
             ],
             [
              0.3333333333333333,
              "#9c179e"
             ],
             [
              0.4444444444444444,
              "#bd3786"
             ],
             [
              0.5555555555555556,
              "#d8576b"
             ],
             [
              0.6666666666666666,
              "#ed7953"
             ],
             [
              0.7777777777777778,
              "#fb9f3a"
             ],
             [
              0.8888888888888888,
              "#fdca26"
             ],
             [
              1,
              "#f0f921"
             ]
            ],
            "type": "contour"
           }
          ],
          "contourcarpet": [
           {
            "colorbar": {
             "outlinewidth": 0,
             "ticks": ""
            },
            "type": "contourcarpet"
           }
          ],
          "heatmap": [
           {
            "colorbar": {
             "outlinewidth": 0,
             "ticks": ""
            },
            "colorscale": [
             [
              0,
              "#0d0887"
             ],
             [
              0.1111111111111111,
              "#46039f"
             ],
             [
              0.2222222222222222,
              "#7201a8"
             ],
             [
              0.3333333333333333,
              "#9c179e"
             ],
             [
              0.4444444444444444,
              "#bd3786"
             ],
             [
              0.5555555555555556,
              "#d8576b"
             ],
             [
              0.6666666666666666,
              "#ed7953"
             ],
             [
              0.7777777777777778,
              "#fb9f3a"
             ],
             [
              0.8888888888888888,
              "#fdca26"
             ],
             [
              1,
              "#f0f921"
             ]
            ],
            "type": "heatmap"
           }
          ],
          "heatmapgl": [
           {
            "colorbar": {
             "outlinewidth": 0,
             "ticks": ""
            },
            "colorscale": [
             [
              0,
              "#0d0887"
             ],
             [
              0.1111111111111111,
              "#46039f"
             ],
             [
              0.2222222222222222,
              "#7201a8"
             ],
             [
              0.3333333333333333,
              "#9c179e"
             ],
             [
              0.4444444444444444,
              "#bd3786"
             ],
             [
              0.5555555555555556,
              "#d8576b"
             ],
             [
              0.6666666666666666,
              "#ed7953"
             ],
             [
              0.7777777777777778,
              "#fb9f3a"
             ],
             [
              0.8888888888888888,
              "#fdca26"
             ],
             [
              1,
              "#f0f921"
             ]
            ],
            "type": "heatmapgl"
           }
          ],
          "histogram": [
           {
            "marker": {
             "colorbar": {
              "outlinewidth": 0,
              "ticks": ""
             }
            },
            "type": "histogram"
           }
          ],
          "histogram2d": [
           {
            "colorbar": {
             "outlinewidth": 0,
             "ticks": ""
            },
            "colorscale": [
             [
              0,
              "#0d0887"
             ],
             [
              0.1111111111111111,
              "#46039f"
             ],
             [
              0.2222222222222222,
              "#7201a8"
             ],
             [
              0.3333333333333333,
              "#9c179e"
             ],
             [
              0.4444444444444444,
              "#bd3786"
             ],
             [
              0.5555555555555556,
              "#d8576b"
             ],
             [
              0.6666666666666666,
              "#ed7953"
             ],
             [
              0.7777777777777778,
              "#fb9f3a"
             ],
             [
              0.8888888888888888,
              "#fdca26"
             ],
             [
              1,
              "#f0f921"
             ]
            ],
            "type": "histogram2d"
           }
          ],
          "histogram2dcontour": [
           {
            "colorbar": {
             "outlinewidth": 0,
             "ticks": ""
            },
            "colorscale": [
             [
              0,
              "#0d0887"
             ],
             [
              0.1111111111111111,
              "#46039f"
             ],
             [
              0.2222222222222222,
              "#7201a8"
             ],
             [
              0.3333333333333333,
              "#9c179e"
             ],
             [
              0.4444444444444444,
              "#bd3786"
             ],
             [
              0.5555555555555556,
              "#d8576b"
             ],
             [
              0.6666666666666666,
              "#ed7953"
             ],
             [
              0.7777777777777778,
              "#fb9f3a"
             ],
             [
              0.8888888888888888,
              "#fdca26"
             ],
             [
              1,
              "#f0f921"
             ]
            ],
            "type": "histogram2dcontour"
           }
          ],
          "mesh3d": [
           {
            "colorbar": {
             "outlinewidth": 0,
             "ticks": ""
            },
            "type": "mesh3d"
           }
          ],
          "parcoords": [
           {
            "line": {
             "colorbar": {
              "outlinewidth": 0,
              "ticks": ""
             }
            },
            "type": "parcoords"
           }
          ],
          "scatter": [
           {
            "marker": {
             "colorbar": {
              "outlinewidth": 0,
              "ticks": ""
             }
            },
            "type": "scatter"
           }
          ],
          "scatter3d": [
           {
            "line": {
             "colorbar": {
              "outlinewidth": 0,
              "ticks": ""
             }
            },
            "marker": {
             "colorbar": {
              "outlinewidth": 0,
              "ticks": ""
             }
            },
            "type": "scatter3d"
           }
          ],
          "scattercarpet": [
           {
            "marker": {
             "colorbar": {
              "outlinewidth": 0,
              "ticks": ""
             }
            },
            "type": "scattercarpet"
           }
          ],
          "scattergeo": [
           {
            "marker": {
             "colorbar": {
              "outlinewidth": 0,
              "ticks": ""
             }
            },
            "type": "scattergeo"
           }
          ],
          "scattergl": [
           {
            "marker": {
             "colorbar": {
              "outlinewidth": 0,
              "ticks": ""
             }
            },
            "type": "scattergl"
           }
          ],
          "scattermapbox": [
           {
            "marker": {
             "colorbar": {
              "outlinewidth": 0,
              "ticks": ""
             }
            },
            "type": "scattermapbox"
           }
          ],
          "scatterpolar": [
           {
            "marker": {
             "colorbar": {
              "outlinewidth": 0,
              "ticks": ""
             }
            },
            "type": "scatterpolar"
           }
          ],
          "scatterpolargl": [
           {
            "marker": {
             "colorbar": {
              "outlinewidth": 0,
              "ticks": ""
             }
            },
            "type": "scatterpolargl"
           }
          ],
          "scatterternary": [
           {
            "marker": {
             "colorbar": {
              "outlinewidth": 0,
              "ticks": ""
             }
            },
            "type": "scatterternary"
           }
          ],
          "surface": [
           {
            "colorbar": {
             "outlinewidth": 0,
             "ticks": ""
            },
            "colorscale": [
             [
              0,
              "#0d0887"
             ],
             [
              0.1111111111111111,
              "#46039f"
             ],
             [
              0.2222222222222222,
              "#7201a8"
             ],
             [
              0.3333333333333333,
              "#9c179e"
             ],
             [
              0.4444444444444444,
              "#bd3786"
             ],
             [
              0.5555555555555556,
              "#d8576b"
             ],
             [
              0.6666666666666666,
              "#ed7953"
             ],
             [
              0.7777777777777778,
              "#fb9f3a"
             ],
             [
              0.8888888888888888,
              "#fdca26"
             ],
             [
              1,
              "#f0f921"
             ]
            ],
            "type": "surface"
           }
          ],
          "table": [
           {
            "cells": {
             "fill": {
              "color": "#EBF0F8"
             },
             "line": {
              "color": "white"
             }
            },
            "header": {
             "fill": {
              "color": "#C8D4E3"
             },
             "line": {
              "color": "white"
             }
            },
            "type": "table"
           }
          ]
         },
         "layout": {
          "annotationdefaults": {
           "arrowcolor": "#2a3f5f",
           "arrowhead": 0,
           "arrowwidth": 1
          },
          "colorscale": {
           "diverging": [
            [
             0,
             "#8e0152"
            ],
            [
             0.1,
             "#c51b7d"
            ],
            [
             0.2,
             "#de77ae"
            ],
            [
             0.3,
             "#f1b6da"
            ],
            [
             0.4,
             "#fde0ef"
            ],
            [
             0.5,
             "#f7f7f7"
            ],
            [
             0.6,
             "#e6f5d0"
            ],
            [
             0.7,
             "#b8e186"
            ],
            [
             0.8,
             "#7fbc41"
            ],
            [
             0.9,
             "#4d9221"
            ],
            [
             1,
             "#276419"
            ]
           ],
           "sequential": [
            [
             0,
             "#0d0887"
            ],
            [
             0.1111111111111111,
             "#46039f"
            ],
            [
             0.2222222222222222,
             "#7201a8"
            ],
            [
             0.3333333333333333,
             "#9c179e"
            ],
            [
             0.4444444444444444,
             "#bd3786"
            ],
            [
             0.5555555555555556,
             "#d8576b"
            ],
            [
             0.6666666666666666,
             "#ed7953"
            ],
            [
             0.7777777777777778,
             "#fb9f3a"
            ],
            [
             0.8888888888888888,
             "#fdca26"
            ],
            [
             1,
             "#f0f921"
            ]
           ],
           "sequentialminus": [
            [
             0,
             "#0d0887"
            ],
            [
             0.1111111111111111,
             "#46039f"
            ],
            [
             0.2222222222222222,
             "#7201a8"
            ],
            [
             0.3333333333333333,
             "#9c179e"
            ],
            [
             0.4444444444444444,
             "#bd3786"
            ],
            [
             0.5555555555555556,
             "#d8576b"
            ],
            [
             0.6666666666666666,
             "#ed7953"
            ],
            [
             0.7777777777777778,
             "#fb9f3a"
            ],
            [
             0.8888888888888888,
             "#fdca26"
            ],
            [
             1,
             "#f0f921"
            ]
           ]
          },
          "colorway": [
           "#636efa",
           "#EF553B",
           "#00cc96",
           "#ab63fa",
           "#FFA15A",
           "#19d3f3",
           "#FF6692",
           "#B6E880",
           "#FF97FF",
           "#FECB52"
          ],
          "font": {
           "color": "#2a3f5f"
          },
          "geo": {
           "bgcolor": "white",
           "lakecolor": "white",
           "landcolor": "#E5ECF6",
           "showlakes": true,
           "showland": true,
           "subunitcolor": "white"
          },
          "hoverlabel": {
           "align": "left"
          },
          "hovermode": "closest",
          "mapbox": {
           "style": "light"
          },
          "paper_bgcolor": "white",
          "plot_bgcolor": "#E5ECF6",
          "polar": {
           "angularaxis": {
            "gridcolor": "white",
            "linecolor": "white",
            "ticks": ""
           },
           "bgcolor": "#E5ECF6",
           "radialaxis": {
            "gridcolor": "white",
            "linecolor": "white",
            "ticks": ""
           }
          },
          "scene": {
           "xaxis": {
            "backgroundcolor": "#E5ECF6",
            "gridcolor": "white",
            "gridwidth": 2,
            "linecolor": "white",
            "showbackground": true,
            "ticks": "",
            "zerolinecolor": "white"
           },
           "yaxis": {
            "backgroundcolor": "#E5ECF6",
            "gridcolor": "white",
            "gridwidth": 2,
            "linecolor": "white",
            "showbackground": true,
            "ticks": "",
            "zerolinecolor": "white"
           },
           "zaxis": {
            "backgroundcolor": "#E5ECF6",
            "gridcolor": "white",
            "gridwidth": 2,
            "linecolor": "white",
            "showbackground": true,
            "ticks": "",
            "zerolinecolor": "white"
           }
          },
          "shapedefaults": {
           "line": {
            "color": "#2a3f5f"
           }
          },
          "ternary": {
           "aaxis": {
            "gridcolor": "white",
            "linecolor": "white",
            "ticks": ""
           },
           "baxis": {
            "gridcolor": "white",
            "linecolor": "white",
            "ticks": ""
           },
           "bgcolor": "#E5ECF6",
           "caxis": {
            "gridcolor": "white",
            "linecolor": "white",
            "ticks": ""
           }
          },
          "title": {
           "x": 0.05
          },
          "xaxis": {
           "automargin": true,
           "gridcolor": "white",
           "linecolor": "white",
           "ticks": "",
           "zerolinecolor": "white",
           "zerolinewidth": 2
          },
          "yaxis": {
           "automargin": true,
           "gridcolor": "white",
           "linecolor": "white",
           "ticks": "",
           "zerolinecolor": "white",
           "zerolinewidth": 2
          }
         }
        },
        "width": 800,
        "xaxis": {
         "anchor": "y",
         "domain": [
          0,
          0.45
         ]
        },
        "xaxis2": {
         "anchor": "y2",
         "domain": [
          0.55,
          1
         ]
        },
        "xaxis3": {
         "anchor": "y3",
         "domain": [
          0,
          1
         ]
        },
        "yaxis": {
         "anchor": "x",
         "domain": [
          0.625,
          1
         ],
         "title": {
          "text": "Count"
         }
        },
        "yaxis2": {
         "anchor": "x2",
         "domain": [
          0.625,
          1
         ],
         "title": {
          "text": "Count"
         }
        },
        "yaxis3": {
         "anchor": "x3",
         "domain": [
          0,
          0.375
         ],
         "title": {
          "text": "Count"
         }
        }
       }
      },
      "text/html": [
       "<div>\n",
       "        \n",
       "        \n",
       "            <div id=\"32f510d3-fc27-4af8-b510-5dbefce0a72d\" class=\"plotly-graph-div\" style=\"height:800px; width:800px;\"></div>\n",
       "            <script type=\"text/javascript\">\n",
       "                require([\"plotly\"], function(Plotly) {\n",
       "                    window.PLOTLYENV=window.PLOTLYENV || {};\n",
       "                    \n",
       "                if (document.getElementById(\"32f510d3-fc27-4af8-b510-5dbefce0a72d\")) {\n",
       "                    Plotly.newPlot(\n",
       "                        '32f510d3-fc27-4af8-b510-5dbefce0a72d',\n",
       "                        [{\"marker\": {\"color\": [\"#DE31D7\", \"#CC28EA\", \"#E6DC6D\", \"#B9B67C\", \"#3F60FA\", \"#41C917\", \"#4DF28F\", \"#FB6862\", \"#972D5D\", \"#5905F5\", \"#0AB8C6\", \"#26CD13\", \"#C0B750\", \"#FC8793\", \"#4A3DD9\", \"#B5A14C\", \"#9C9E68\", \"#05FE4F\", \"#A27F9F\", \"#AF52F6\", \"#F02FB3\", \"#8C0947\", \"#EABA88\", \"#A8F3A0\", \"#A89C63\", \"#7C5C0A\", \"#8BC59B\", \"#F51A0F\", \"#953B0E\", \"#0306E7\", \"#E011FC\", \"#BC176D\", \"#875FD6\", \"#4C7B57\", \"#F9A344\", \"#B422D7\", \"#4B0A1C\", \"#DAA74A\", \"#FA7339\", \"#246A6D\", \"#5BE052\", \"#789991\", \"#2E4576\", \"#5A77CA\", \"#ECFC69\", \"#C457B6\", \"#03104E\", \"#D70A83\", \"#6E9357\", \"#FB29AE\", \"#A5AFF5\", \"#17D256\", \"#3A6853\", \"#B9CA94\", \"#60993A\", \"#995587\", \"#577E1D\", \"#4F25C6\", \"#F27761\", \"#1B749A\", \"#A148DC\", \"#E9F1C9\", \"#31FBEC\", \"#9BDFD8\", \"#244477\", \"#F82ADE\", \"#424DF5\", \"#922B41\", \"#A3C209\", \"#F6BF2A\", \"#B30D92\", \"#F21663\", \"#7E904D\", \"#241985\", \"#BC1D81\", \"#04C815\", \"#D530E4\", \"#055D80\", \"#EF342B\", \"#EAFAE0\", \"#7A778B\", \"#0B4626\", \"#E2F4D0\", \"#11ADE0\", \"#7B78AA\", \"#D02E02\", \"#641FB2\", \"#AF347D\", \"#C5C3B0\", \"#C68398\", \"#880DE0\", \"#AD103F\", \"#1972CA\", \"#4EEDB9\", \"#F388B5\", \"#76590C\", \"#D41891\", \"#234586\", \"#CFC78A\", \"#B2B3ED\"], \"line\": {\"color\": \"rgb(8, 48, 107)\", \"width\": 1.5}}, \"opacity\": 0.7, \"text\": [\"55.65%\", \"8.23%\", \"4.12%\", \"3.53%\", \"3.25%\", \"2.98%\", \"2.69%\", \"2.32%\", \"2.07%\", \"1.95%\", \"1.87%\", \"1.65%\", \"1.63%\", \"1.53%\", \"1.43%\", \"1.38%\", \"1.06%\", \"0.76%\", \"0.49%\", \"0.49%\", \"0.49%\", \"0.22%\", \"0.20%\"], \"type\": \"bar\", \"x\": [\"Games\", \"Entertainment\", \"Photo & Video\", \"Social Networking\", \"Education\", \"Shopping\", \"Utilities\", \"Lifestyle\", \"Finance\", \"Sports\", \"Health & Fitness\", \"Music\", \"Book\", \"Productivity\", \"News\", \"Travel\", \"Food & Drink\", \"Weather\", \"Reference\", \"Navigation\", \"Business\", \"Catalogs\", \"Medical\"], \"xaxis\": \"x\", \"y\": [2257, 334, 167, 143, 132, 121, 109, 94, 84, 79, 76, 67, 66, 62, 58, 56, 43, 31, 20, 20, 20, 9, 8], \"yaxis\": \"y\"}, {\"marker\": {\"color\": [\"#D971F4\", \"#3C3A2C\", \"#3DDA2E\", \"#725444\", \"#DA94B2\", \"#06872A\", \"#92F919\", \"#EAF3CF\", \"#38C518\", \"#5E4A77\", \"#EB65DD\", \"#61F7B3\", \"#6DEA72\", \"#563671\", \"#0B3326\", \"#266AB5\", \"#5AE00A\", \"#CC489E\", \"#AD7793\", \"#D6804F\", \"#14BE52\", \"#AD25F8\", \"#0CAB30\", \"#CAEEB4\", \"#A3BEF8\", \"#46766E\", \"#7DEF54\", \"#E8B645\", \"#5E89DA\", \"#E2D0DE\", \"#9DDDAB\", \"#49A678\", \"#48DE78\", \"#EDF454\", \"#3B4E6A\", \"#F1EF5E\", \"#B300C5\", \"#3A0289\", \"#D295DC\", \"#61F341\", \"#8722C8\", \"#0C8152\", \"#BF16CE\", \"#3103C8\", \"#682313\", \"#A09D27\", \"#E456A8\", \"#DCC9D2\", \"#6D48D5\", \"#BBEBF0\", \"#DBC11C\", \"#64ADD4\", \"#83DF87\", \"#F4E98A\", \"#CBA845\", \"#DA63D5\", \"#74977D\", \"#1C7430\", \"#6E21C5\", \"#C42407\", \"#C86EFC\", \"#54F9CF\", \"#E6AA49\", \"#71B8CC\", \"#87EC6B\", \"#1EA10A\", \"#9896F3\", \"#D8E80C\", \"#924A65\", \"#AF6250\", \"#A17E7F\", \"#5C88CA\", \"#9BCDFA\", \"#F5473B\", \"#9B08C4\", \"#D8C252\", \"#7A850D\", \"#7A7F6D\", \"#AE4857\", \"#172329\", \"#32D4E5\", \"#8EC627\", \"#8A5C7A\", \"#4F0740\", \"#2C232F\", \"#7BC273\", \"#5C95B0\", \"#FE033A\", \"#09D363\", \"#EDD396\", \"#BCD11C\", \"#83DF04\", \"#02278D\", \"#E44345\", \"#424264\", \"#6DA56F\", \"#27A453\", \"#2A629D\", \"#E68387\", \"#E390A0\"], \"line\": {\"color\": \"rgb(8, 48, 107)\", \"width\": 1.5}}, \"opacity\": 0.7, \"text\": [\"51.10%\", \"10.22%\", \"6.40%\", \"5.79%\", \"4.43%\", \"3.69%\", \"3.31%\", \"2.26%\", \"1.59%\", \"1.46%\", \"1.40%\", \"1.31%\", \"1.18%\", \"1.11%\", \"0.83%\", \"0.80%\", \"0.76%\", \"0.64%\", \"0.64%\", \"0.54%\", \"0.48%\", \"0.03%\", \"0.03%\"], \"type\": \"bar\", \"x\": [\"Games\", \"Education\", \"Entertainment\", \"Photo & Video\", \"Utilities\", \"Productivity\", \"Health & Fitness\", \"Music\", \"Lifestyle\", \"Book\", \"Reference\", \"Weather\", \"Business\", \"Sports\", \"Navigation\", \"Travel\", \"Social Networking\", \"Food & Drink\", \"Finance\", \"News\", \"Medical\", \"Shopping\", \"Catalogs\"], \"xaxis\": \"x2\", \"y\": [1605, 321, 201, 182, 139, 116, 104, 71, 50, 46, 44, 41, 37, 35, 26, 25, 24, 20, 20, 17, 15, 1, 1], \"yaxis\": \"y2\"}, {\"name\": \"Free\", \"opacity\": 0.7, \"text\": [\"55.65%\", \"8.23%\", \"4.12%\", \"3.53%\", \"3.25%\", \"2.98%\", \"2.69%\", \"2.32%\", \"2.07%\", \"1.95%\", \"1.87%\", \"1.65%\", \"1.63%\", \"1.53%\", \"1.43%\", \"1.38%\", \"1.06%\", \"0.76%\", \"0.49%\", \"0.49%\", \"0.49%\", \"0.22%\", \"0.20%\"], \"type\": \"bar\", \"x\": [\"Games\", \"Entertainment\", \"Photo & Video\", \"Social Networking\", \"Education\", \"Shopping\", \"Utilities\", \"Lifestyle\", \"Finance\", \"Sports\", \"Health & Fitness\", \"Music\", \"Book\", \"Productivity\", \"News\", \"Travel\", \"Food & Drink\", \"Weather\", \"Reference\", \"Navigation\", \"Business\", \"Catalogs\", \"Medical\"], \"xaxis\": \"x3\", \"y\": [2257, 334, 167, 143, 132, 121, 109, 94, 84, 79, 76, 67, 66, 62, 58, 56, 43, 31, 20, 20, 20, 9, 8], \"yaxis\": \"y3\"}, {\"name\": \"Not-Free\", \"opacity\": 0.7, \"text\": [\"51.10%\", \"10.22%\", \"6.40%\", \"5.79%\", \"4.43%\", \"3.69%\", \"3.31%\", \"2.26%\", \"1.59%\", \"1.46%\", \"1.40%\", \"1.31%\", \"1.18%\", \"1.11%\", \"0.83%\", \"0.80%\", \"0.76%\", \"0.64%\", \"0.64%\", \"0.54%\", \"0.48%\", \"0.03%\", \"0.03%\"], \"type\": \"bar\", \"x\": [\"Games\", \"Education\", \"Entertainment\", \"Photo & Video\", \"Utilities\", \"Productivity\", \"Health & Fitness\", \"Music\", \"Lifestyle\", \"Book\", \"Reference\", \"Weather\", \"Business\", \"Sports\", \"Navigation\", \"Travel\", \"Social Networking\", \"Food & Drink\", \"Finance\", \"News\", \"Medical\", \"Shopping\", \"Catalogs\"], \"xaxis\": \"x3\", \"y\": [1605, 321, 201, 182, 139, 116, 104, 71, 50, 46, 44, 41, 37, 35, 26, 25, 24, 20, 20, 17, 15, 1, 1], \"yaxis\": \"y3\"}],\n",
       "                        {\"annotations\": [{\"font\": {\"size\": 16}, \"showarrow\": false, \"text\": \"(1) Countplot for Prime_genre of Free\", \"x\": 0.225, \"xanchor\": \"center\", \"xref\": \"paper\", \"y\": 1.0, \"yanchor\": \"bottom\", \"yref\": \"paper\"}, {\"font\": {\"size\": 16}, \"showarrow\": false, \"text\": \"(2) Countplot for Prime_genre of Not-Free\", \"x\": 0.775, \"xanchor\": \"center\", \"xref\": \"paper\", \"y\": 1.0, \"yanchor\": \"bottom\", \"yref\": \"paper\"}, {\"font\": {\"size\": 16}, \"showarrow\": false, \"text\": \"(3) Grouped barplot containing Free(green) and Not-Free(red)\", \"x\": 0.5, \"xanchor\": \"center\", \"xref\": \"paper\", \"y\": 0.375, \"yanchor\": \"bottom\", \"yref\": \"paper\"}], \"height\": 800, \"showlegend\": false, \"template\": {\"data\": {\"bar\": [{\"error_x\": {\"color\": \"#2a3f5f\"}, \"error_y\": {\"color\": \"#2a3f5f\"}, \"marker\": {\"line\": {\"color\": \"#E5ECF6\", \"width\": 0.5}}, \"type\": \"bar\"}], \"barpolar\": [{\"marker\": {\"line\": {\"color\": \"#E5ECF6\", \"width\": 0.5}}, \"type\": \"barpolar\"}], \"carpet\": [{\"aaxis\": {\"endlinecolor\": \"#2a3f5f\", \"gridcolor\": \"white\", \"linecolor\": \"white\", \"minorgridcolor\": \"white\", \"startlinecolor\": \"#2a3f5f\"}, \"baxis\": {\"endlinecolor\": \"#2a3f5f\", \"gridcolor\": \"white\", \"linecolor\": \"white\", \"minorgridcolor\": \"white\", \"startlinecolor\": \"#2a3f5f\"}, \"type\": \"carpet\"}], \"choropleth\": [{\"colorbar\": {\"outlinewidth\": 0, \"ticks\": \"\"}, \"type\": \"choropleth\"}], \"contour\": [{\"colorbar\": {\"outlinewidth\": 0, \"ticks\": \"\"}, \"colorscale\": [[0.0, \"#0d0887\"], [0.1111111111111111, \"#46039f\"], [0.2222222222222222, \"#7201a8\"], [0.3333333333333333, \"#9c179e\"], [0.4444444444444444, \"#bd3786\"], [0.5555555555555556, \"#d8576b\"], [0.6666666666666666, \"#ed7953\"], [0.7777777777777778, \"#fb9f3a\"], [0.8888888888888888, \"#fdca26\"], [1.0, \"#f0f921\"]], \"type\": \"contour\"}], \"contourcarpet\": [{\"colorbar\": {\"outlinewidth\": 0, \"ticks\": \"\"}, \"type\": \"contourcarpet\"}], \"heatmap\": [{\"colorbar\": {\"outlinewidth\": 0, \"ticks\": \"\"}, \"colorscale\": [[0.0, \"#0d0887\"], [0.1111111111111111, \"#46039f\"], [0.2222222222222222, \"#7201a8\"], [0.3333333333333333, \"#9c179e\"], [0.4444444444444444, \"#bd3786\"], [0.5555555555555556, \"#d8576b\"], [0.6666666666666666, \"#ed7953\"], [0.7777777777777778, \"#fb9f3a\"], [0.8888888888888888, \"#fdca26\"], [1.0, \"#f0f921\"]], \"type\": \"heatmap\"}], \"heatmapgl\": [{\"colorbar\": {\"outlinewidth\": 0, \"ticks\": \"\"}, \"colorscale\": [[0.0, \"#0d0887\"], [0.1111111111111111, \"#46039f\"], [0.2222222222222222, \"#7201a8\"], [0.3333333333333333, \"#9c179e\"], [0.4444444444444444, \"#bd3786\"], [0.5555555555555556, \"#d8576b\"], [0.6666666666666666, \"#ed7953\"], [0.7777777777777778, \"#fb9f3a\"], [0.8888888888888888, \"#fdca26\"], [1.0, \"#f0f921\"]], \"type\": \"heatmapgl\"}], \"histogram\": [{\"marker\": {\"colorbar\": {\"outlinewidth\": 0, \"ticks\": \"\"}}, \"type\": \"histogram\"}], \"histogram2d\": [{\"colorbar\": {\"outlinewidth\": 0, \"ticks\": \"\"}, \"colorscale\": [[0.0, \"#0d0887\"], [0.1111111111111111, \"#46039f\"], [0.2222222222222222, \"#7201a8\"], [0.3333333333333333, \"#9c179e\"], [0.4444444444444444, \"#bd3786\"], [0.5555555555555556, \"#d8576b\"], [0.6666666666666666, \"#ed7953\"], [0.7777777777777778, \"#fb9f3a\"], [0.8888888888888888, \"#fdca26\"], [1.0, \"#f0f921\"]], \"type\": \"histogram2d\"}], \"histogram2dcontour\": [{\"colorbar\": {\"outlinewidth\": 0, \"ticks\": \"\"}, \"colorscale\": [[0.0, \"#0d0887\"], [0.1111111111111111, \"#46039f\"], [0.2222222222222222, \"#7201a8\"], [0.3333333333333333, \"#9c179e\"], [0.4444444444444444, \"#bd3786\"], [0.5555555555555556, \"#d8576b\"], [0.6666666666666666, \"#ed7953\"], [0.7777777777777778, \"#fb9f3a\"], [0.8888888888888888, \"#fdca26\"], [1.0, \"#f0f921\"]], \"type\": \"histogram2dcontour\"}], \"mesh3d\": [{\"colorbar\": {\"outlinewidth\": 0, \"ticks\": \"\"}, \"type\": \"mesh3d\"}], \"parcoords\": [{\"line\": {\"colorbar\": {\"outlinewidth\": 0, \"ticks\": \"\"}}, \"type\": \"parcoords\"}], \"scatter\": [{\"marker\": {\"colorbar\": {\"outlinewidth\": 0, \"ticks\": \"\"}}, \"type\": \"scatter\"}], \"scatter3d\": [{\"line\": {\"colorbar\": {\"outlinewidth\": 0, \"ticks\": \"\"}}, \"marker\": {\"colorbar\": {\"outlinewidth\": 0, \"ticks\": \"\"}}, \"type\": \"scatter3d\"}], \"scattercarpet\": [{\"marker\": {\"colorbar\": {\"outlinewidth\": 0, \"ticks\": \"\"}}, \"type\": \"scattercarpet\"}], \"scattergeo\": [{\"marker\": {\"colorbar\": {\"outlinewidth\": 0, \"ticks\": \"\"}}, \"type\": \"scattergeo\"}], \"scattergl\": [{\"marker\": {\"colorbar\": {\"outlinewidth\": 0, \"ticks\": \"\"}}, \"type\": \"scattergl\"}], \"scattermapbox\": [{\"marker\": {\"colorbar\": {\"outlinewidth\": 0, \"ticks\": \"\"}}, \"type\": \"scattermapbox\"}], \"scatterpolar\": [{\"marker\": {\"colorbar\": {\"outlinewidth\": 0, \"ticks\": \"\"}}, \"type\": \"scatterpolar\"}], \"scatterpolargl\": [{\"marker\": {\"colorbar\": {\"outlinewidth\": 0, \"ticks\": \"\"}}, \"type\": \"scatterpolargl\"}], \"scatterternary\": [{\"marker\": {\"colorbar\": {\"outlinewidth\": 0, \"ticks\": \"\"}}, \"type\": \"scatterternary\"}], \"surface\": [{\"colorbar\": {\"outlinewidth\": 0, \"ticks\": \"\"}, \"colorscale\": [[0.0, \"#0d0887\"], [0.1111111111111111, \"#46039f\"], [0.2222222222222222, \"#7201a8\"], [0.3333333333333333, \"#9c179e\"], [0.4444444444444444, \"#bd3786\"], [0.5555555555555556, \"#d8576b\"], [0.6666666666666666, \"#ed7953\"], [0.7777777777777778, \"#fb9f3a\"], [0.8888888888888888, \"#fdca26\"], [1.0, \"#f0f921\"]], \"type\": \"surface\"}], \"table\": [{\"cells\": {\"fill\": {\"color\": \"#EBF0F8\"}, \"line\": {\"color\": \"white\"}}, \"header\": {\"fill\": {\"color\": \"#C8D4E3\"}, \"line\": {\"color\": \"white\"}}, \"type\": \"table\"}]}, \"layout\": {\"annotationdefaults\": {\"arrowcolor\": \"#2a3f5f\", \"arrowhead\": 0, \"arrowwidth\": 1}, \"colorscale\": {\"diverging\": [[0, \"#8e0152\"], [0.1, \"#c51b7d\"], [0.2, \"#de77ae\"], [0.3, \"#f1b6da\"], [0.4, \"#fde0ef\"], [0.5, \"#f7f7f7\"], [0.6, \"#e6f5d0\"], [0.7, \"#b8e186\"], [0.8, \"#7fbc41\"], [0.9, \"#4d9221\"], [1, \"#276419\"]], \"sequential\": [[0.0, \"#0d0887\"], [0.1111111111111111, \"#46039f\"], [0.2222222222222222, \"#7201a8\"], [0.3333333333333333, \"#9c179e\"], [0.4444444444444444, \"#bd3786\"], [0.5555555555555556, \"#d8576b\"], [0.6666666666666666, \"#ed7953\"], [0.7777777777777778, \"#fb9f3a\"], [0.8888888888888888, \"#fdca26\"], [1.0, \"#f0f921\"]], \"sequentialminus\": [[0.0, \"#0d0887\"], [0.1111111111111111, \"#46039f\"], [0.2222222222222222, \"#7201a8\"], [0.3333333333333333, \"#9c179e\"], [0.4444444444444444, \"#bd3786\"], [0.5555555555555556, \"#d8576b\"], [0.6666666666666666, \"#ed7953\"], [0.7777777777777778, \"#fb9f3a\"], [0.8888888888888888, \"#fdca26\"], [1.0, \"#f0f921\"]]}, \"colorway\": [\"#636efa\", \"#EF553B\", \"#00cc96\", \"#ab63fa\", \"#FFA15A\", \"#19d3f3\", \"#FF6692\", \"#B6E880\", \"#FF97FF\", \"#FECB52\"], \"font\": {\"color\": \"#2a3f5f\"}, \"geo\": {\"bgcolor\": \"white\", \"lakecolor\": \"white\", \"landcolor\": \"#E5ECF6\", \"showlakes\": true, \"showland\": true, \"subunitcolor\": \"white\"}, \"hoverlabel\": {\"align\": \"left\"}, \"hovermode\": \"closest\", \"mapbox\": {\"style\": \"light\"}, \"paper_bgcolor\": \"white\", \"plot_bgcolor\": \"#E5ECF6\", \"polar\": {\"angularaxis\": {\"gridcolor\": \"white\", \"linecolor\": \"white\", \"ticks\": \"\"}, \"bgcolor\": \"#E5ECF6\", \"radialaxis\": {\"gridcolor\": \"white\", \"linecolor\": \"white\", \"ticks\": \"\"}}, \"scene\": {\"xaxis\": {\"backgroundcolor\": \"#E5ECF6\", \"gridcolor\": \"white\", \"gridwidth\": 2, \"linecolor\": \"white\", \"showbackground\": true, \"ticks\": \"\", \"zerolinecolor\": \"white\"}, \"yaxis\": {\"backgroundcolor\": \"#E5ECF6\", \"gridcolor\": \"white\", \"gridwidth\": 2, \"linecolor\": \"white\", \"showbackground\": true, \"ticks\": \"\", \"zerolinecolor\": \"white\"}, \"zaxis\": {\"backgroundcolor\": \"#E5ECF6\", \"gridcolor\": \"white\", \"gridwidth\": 2, \"linecolor\": \"white\", \"showbackground\": true, \"ticks\": \"\", \"zerolinecolor\": \"white\"}}, \"shapedefaults\": {\"line\": {\"color\": \"#2a3f5f\"}}, \"ternary\": {\"aaxis\": {\"gridcolor\": \"white\", \"linecolor\": \"white\", \"ticks\": \"\"}, \"baxis\": {\"gridcolor\": \"white\", \"linecolor\": \"white\", \"ticks\": \"\"}, \"bgcolor\": \"#E5ECF6\", \"caxis\": {\"gridcolor\": \"white\", \"linecolor\": \"white\", \"ticks\": \"\"}}, \"title\": {\"x\": 0.05}, \"xaxis\": {\"automargin\": true, \"gridcolor\": \"white\", \"linecolor\": \"white\", \"ticks\": \"\", \"zerolinecolor\": \"white\", \"zerolinewidth\": 2}, \"yaxis\": {\"automargin\": true, \"gridcolor\": \"white\", \"linecolor\": \"white\", \"ticks\": \"\", \"zerolinecolor\": \"white\", \"zerolinewidth\": 2}}}, \"width\": 800, \"xaxis\": {\"anchor\": \"y\", \"domain\": [0.0, 0.45]}, \"xaxis2\": {\"anchor\": \"y2\", \"domain\": [0.55, 1.0]}, \"xaxis3\": {\"anchor\": \"y3\", \"domain\": [0.0, 1.0]}, \"yaxis\": {\"anchor\": \"x\", \"domain\": [0.625, 1.0], \"title\": {\"text\": \"Count\"}}, \"yaxis2\": {\"anchor\": \"x2\", \"domain\": [0.625, 1.0], \"title\": {\"text\": \"Count\"}}, \"yaxis3\": {\"anchor\": \"x3\", \"domain\": [0.0, 0.375], \"title\": {\"text\": \"Count\"}}},\n",
       "                        {\"responsive\": true}\n",
       "                    ).then(function(){\n",
       "                            \n",
       "var gd = document.getElementById('32f510d3-fc27-4af8-b510-5dbefce0a72d');\n",
       "var x = new MutationObserver(function (mutations, observer) {{\n",
       "        var display = window.getComputedStyle(gd).display;\n",
       "        if (!display || display === 'none') {{\n",
       "            console.log([gd, 'removed!']);\n",
       "            Plotly.purge(gd);\n",
       "            observer.disconnect();\n",
       "        }}\n",
       "}});\n",
       "\n",
       "// Listen for the removal of the full notebook cells\n",
       "var notebookContainer = gd.closest('#notebook-container');\n",
       "if (notebookContainer) {{\n",
       "    x.observe(notebookContainer, {childList: true});\n",
       "}}\n",
       "\n",
       "// Listen for the clearing of the current output cell\n",
       "var outputEl = gd.closest('.output');\n",
       "if (outputEl) {{\n",
       "    x.observe(outputEl, {childList: true});\n",
       "}}\n",
       "\n",
       "                        })\n",
       "                };\n",
       "                });\n",
       "            </script>\n",
       "        </div>"
      ]
     },
     "metadata": {},
     "output_type": "display_data"
    }
   ],
   "source": [
    "cnt_srs1 = df_app_free['prime_genre'].value_counts()\n",
    "text1 = ['{:.2f}%'.format(100 * (value / cnt_srs1.sum())) for value in cnt_srs1.values]\n",
    "\n",
    "trace1 = go.Bar(\n",
    "    x = cnt_srs1.index,\n",
    "    y = cnt_srs1.values,\n",
    "    text = text1,\n",
    "    marker = dict(\n",
    "        color = random_color_generator(100),\n",
    "        line = dict(color='rgb(8, 48, 107)',\n",
    "                    width = 1.5)\n",
    "    ),\n",
    "    opacity = 0.7\n",
    ")\n",
    "\n",
    "cnt_srs2 = df_app_notfree['prime_genre'].value_counts()\n",
    "text2 = ['{:.2f}%'.format(100 * (value / cnt_srs2.sum())) for value in cnt_srs2.values]\n",
    "\n",
    "trace2 = go.Bar(\n",
    "    x = cnt_srs2.index,\n",
    "    y = cnt_srs2.values,\n",
    "    text = text2,\n",
    "    marker = dict(\n",
    "        color = random_color_generator(100),\n",
    "        line = dict(color='rgb(8, 48, 107)',\n",
    "                    width = 1.5)\n",
    "    ),\n",
    "    opacity = 0.7\n",
    ")\n",
    "\n",
    "trace3 = go.Bar(\n",
    "    x = cnt_srs1.index,\n",
    "    y = cnt_srs1.values,\n",
    "    text = text1,\n",
    "    opacity = 0.7,\n",
    "    name='Free'\n",
    ")\n",
    "\n",
    "\n",
    "trace4 = go.Bar(\n",
    "    x = cnt_srs2.index,\n",
    "    y = cnt_srs2.values,\n",
    "    text = text2,\n",
    "    opacity = 0.7,\n",
    "    name='Not-Free'\n",
    ")\n",
    "\n",
    "\n",
    "\n",
    "fig = tools.make_subplots(rows=2, cols=2, specs = [[{}, {}], [{'colspan':2}, None]], \n",
    "                          subplot_titles=('(1) Countplot for Prime_genre of Free', '(2) Countplot for Prime_genre of Not-Free', \n",
    "                                          '(3) Grouped barplot containing Free(green) and Not-Free(red)'), print_grid=False)\n",
    "fig.append_trace(trace1, 1, 1)\n",
    "fig.append_trace(trace2, 1, 2)\n",
    "fig.append_trace(trace3, 2, 1)\n",
    "fig.append_trace(trace4, 2, 1)\n",
    "\n",
    "fig['layout']['yaxis1'].update(title='Count')\n",
    "fig['layout']['yaxis2'].update(title='Count')\n",
    "fig['layout']['yaxis3'].update(title='Count')\n",
    "\n",
    "fig['layout'].update(showlegend=False, width=800, height=800)\n",
    "\n",
    "py.iplot(fig)"
   ]
  },
  {
   "cell_type": "markdown",
   "metadata": {
    "_uuid": "4f0fd6b9a655a5d9f978452eb7f84332e08b966d"
   },
   "source": [
    "### Figure 1\n",
    "- For Free App, Top 3 is below.\n",
    "\n",
    "(1) Games (2) Entertainments (3) Photo & Video\n",
    "### Figure 2\n",
    "\n",
    "- For Not-Free App, Top 3 is below\n",
    "\n",
    "(1) Games (2) Education (3) Entertainments\n",
    "### Figure 3\n",
    "\n",
    "- Many social network App is free."
   ]
  },
  {
   "cell_type": "markdown",
   "metadata": {
    "_uuid": "b1846450f69ca39612e4787a58cf2f219b4bd02a"
   },
   "source": [
    "- below are Not-free social networking App. Do you know these Apps?"
   ]
  },
  {
   "cell_type": "code",
   "execution_count": null,
   "metadata": {
    "_kg_hide-input": true,
    "_uuid": "ef2b41ac6dd223dd70f88a3e82a501f39bb7410c"
   },
   "outputs": [],
   "source": [
    "for app in df_app.loc[(df_app['isNotFree'] == 1) & (df_app['prime_genre'] == 'Social Networking'), 'track_name'].values:\n",
    "    print(app)"
   ]
  },
  {
   "cell_type": "markdown",
   "metadata": {
    "_uuid": "256ebd19b3969d9c3c519948704ed0300dcba24d"
   },
   "source": [
    "## 2.2 User rating depending on price_genre"
   ]
  },
  {
   "cell_type": "code",
   "execution_count": null,
   "metadata": {
    "_kg_hide-input": true,
    "_uuid": "d3825adc924837e9a41ec03a45cbaaebc36fa471"
   },
   "outputs": [],
   "source": [
    "cnt_srs = df_app[['prime_genre', 'user_rating']].groupby('prime_genre').mean()['user_rating'].sort_values(ascending=False)\n",
    "\n",
    "trace = go.Bar(\n",
    "    x = cnt_srs.index,\n",
    "    y = cnt_srs.values,\n",
    "    marker = dict(\n",
    "        color = random_color_generator(100),\n",
    "        line = dict(color='rgb(8, 48, 107)',\n",
    "                    width = 1.5)\n",
    "    ),\n",
    "    opacity = 0.7\n",
    ")\n",
    "data = [trace]\n",
    "\n",
    "layout = go.Layout(\n",
    "    title = 'User rating depending on Prime genre',\n",
    "    margin = dict(\n",
    "        l = 100\n",
    "    ),\n",
    "    xaxis = dict(\n",
    "        title = 'Genre'\n",
    "    ),\n",
    "    yaxis = dict(\n",
    "        title = 'Mean User Rating'\n",
    "    ),\n",
    "    width = 800,\n",
    "    height = 500\n",
    ")\n",
    "\n",
    "fig = go.Figure(data=data, layout=layout)\n",
    "py.iplot(fig)"
   ]
  },
  {
   "cell_type": "markdown",
   "metadata": {
    "_uuid": "b8dfdbc9f51e2781916e57173cbbf06c7176322e"
   },
   "source": [
    "- With not considering 'isNotFree', The Apps for Productivity, Music and Photo & Vidio have higher mean user rating.\n",
    "- The mean user rating of Book, Finance and Catalogs are less than 2.5."
   ]
  },
  {
   "cell_type": "code",
   "execution_count": null,
   "metadata": {
    "_kg_hide-input": true,
    "_uuid": "6fdb63b824dc6cf962fc81edfbab5f60d37a919c"
   },
   "outputs": [],
   "source": [
    "cnt_srs1 = df_app_free[['prime_genre', 'user_rating']].groupby('prime_genre').mean()['user_rating'].sort_values(ascending=False)\n",
    "text1 = ['{:.2f}%'.format(100 * (value / cnt_srs1.sum())) for value in cnt_srs1.values]\n",
    "\n",
    "trace1 = go.Bar(\n",
    "    x = cnt_srs1.index,\n",
    "    y = cnt_srs1.values,\n",
    "    marker = dict(\n",
    "        color = random_color_generator(100),\n",
    "        line = dict(color='rgb(8, 48, 107)',\n",
    "                    width = 1.5)\n",
    "    ),\n",
    "    opacity = 0.7\n",
    ")\n",
    "\n",
    "cnt_srs2 = df_app_notfree[['prime_genre', 'user_rating']].groupby('prime_genre').mean()['user_rating'].sort_values(ascending=False)\n",
    "text2 = ['{:.2f}%'.format(100 * (value / cnt_srs2.sum())) for value in cnt_srs2.values]\n",
    "\n",
    "trace2 = go.Bar(\n",
    "    x = cnt_srs2.index,\n",
    "    y = cnt_srs2.values,\n",
    "    marker = dict(\n",
    "        color = random_color_generator(100),\n",
    "        line = dict(color='rgb(8, 48, 107)',\n",
    "                    width = 1.5)\n",
    "    ),\n",
    "    opacity = 0.7\n",
    ")\n",
    "\n",
    "trace3 = go.Bar(\n",
    "    x = cnt_srs1.index,\n",
    "    y = cnt_srs1.values,\n",
    "    opacity = 0.7,\n",
    "    name='Free'\n",
    ")\n",
    "\n",
    "\n",
    "trace4 = go.Bar(\n",
    "    x = cnt_srs2.index,\n",
    "    y = cnt_srs2.values,\n",
    "    opacity = 0.7,\n",
    "    name='Not-Free'\n",
    ")\n",
    "\n",
    "\n",
    "\n",
    "fig = tools.make_subplots(rows=2, cols=2, specs = [[{}, {}], [{'colspan':2}, None]], \n",
    "                          subplot_titles=('(1) Mean user rating of Free', '(2) Mean user rating of Not-Free', \n",
    "                                          '(3) Grouped barplot containing Free(green) and Not-Free(red)'), print_grid=False)\n",
    "fig.append_trace(trace1, 1, 1)\n",
    "fig.append_trace(trace2, 1, 2)\n",
    "fig.append_trace(trace3, 2, 1)\n",
    "fig.append_trace(trace4, 2, 1)\n",
    "\n",
    "fig['layout']['yaxis1'].update(title='Mean User Rating')\n",
    "fig['layout']['yaxis2'].update(title='Mean User Rating')\n",
    "fig['layout']['yaxis3'].update(title='Mean User Rating')\n",
    "fig['layout'].update(showlegend=False, width=800, height=800)\n",
    "\n",
    "py.iplot(fig)"
   ]
  },
  {
   "cell_type": "markdown",
   "metadata": {
    "_uuid": "8664829fa4584e2b7f43aa1a9a8c165c3f1b910b"
   },
   "source": [
    "### Figure 1\n",
    "- For Free App, Top 3 is below.\n",
    "\n",
    "(1) Productivity (2) Music (3) Photo & Video\n",
    "### Figure 2\n",
    "\n",
    "- For Not-Free App, Top 3 is below\n",
    "\n",
    "(1) Catalogs (2) Shopping (3) Productivity\n",
    "### Figure 3\n",
    "\n",
    "- Book, Catalogs and Navigation Apps have much higher ratings when they are Not-free."
   ]
  },
  {
   "cell_type": "markdown",
   "metadata": {
    "_uuid": "b572058a690635e2a58944b0abd2f4e41ebdc1e0"
   },
   "source": [
    "## 2.3 App size based on price_genre"
   ]
  },
  {
   "cell_type": "code",
   "execution_count": null,
   "metadata": {
    "_uuid": "0470acb599a9758816232fb42d87ab17c73ecc8c"
   },
   "outputs": [],
   "source": [
    "cnt_srs = df_app[['prime_genre', 'size_bytes_in_MB']].groupby('prime_genre').mean()['size_bytes_in_MB'].sort_values(ascending=False)\n",
    "text = ['{:.2f}'.format(value) for value in cnt_srs.values]\n",
    "\n",
    "trace = go.Bar(\n",
    "    x = cnt_srs.index,\n",
    "    y = cnt_srs.values,\n",
    "    marker = dict(\n",
    "        color = random_color_generator(100),\n",
    "        line = dict(color='rgb(8, 48, 107)',\n",
    "                    width = 1.5)\n",
    "    ),\n",
    "    opacity = 0.7\n",
    ")\n",
    "data = [trace]\n",
    "\n",
    "layout = go.Layout(\n",
    "    title = 'Mean App size(MB) depending on Prime genre',\n",
    "    margin = dict(\n",
    "        l = 100\n",
    "    ),\n",
    "    xaxis = dict(\n",
    "        title = 'Genre'\n",
    "    ),\n",
    "    yaxis = dict(\n",
    "        title = 'Mean App size'\n",
    "    ),\n",
    "    width = 800,\n",
    "    height = 500\n",
    ")\n",
    "\n",
    "fig = go.Figure(data=data, layout=layout)\n",
    "py.iplot(fig)"
   ]
  },
  {
   "cell_type": "markdown",
   "metadata": {
    "_uuid": "d7dd8f35584120e5c377a61cad282531065e6812"
   },
   "source": [
    "- With not considering 'isNotFree', Medical App has the largest size of ~400MB, followed by Games(~300MB)."
   ]
  },
  {
   "cell_type": "code",
   "execution_count": null,
   "metadata": {
    "_kg_hide-input": true,
    "_uuid": "593f4bcda52a9de776a52f086460d1e75776b887"
   },
   "outputs": [],
   "source": [
    "cnt_srs1 = df_app_free[['prime_genre', 'size_bytes_in_MB']].groupby('prime_genre').mean()['size_bytes_in_MB'].sort_values(ascending=False)\n",
    "text1 = ['{:.2f}%'.format(100 * (value / cnt_srs1.sum())) for value in cnt_srs1.values]\n",
    "\n",
    "trace1 = go.Bar(\n",
    "    x = cnt_srs1.index,\n",
    "    y = cnt_srs1.values,\n",
    "    text = text1,\n",
    "    marker = dict(\n",
    "        color = random_color_generator(100),\n",
    "        line = dict(color='rgb(8, 48, 107)',\n",
    "                    width = 1.5)\n",
    "    ),\n",
    "    opacity = 0.7\n",
    ")\n",
    "\n",
    "cnt_srs2 = df_app_notfree[['prime_genre', 'size_bytes_in_MB']].groupby('prime_genre').mean()['size_bytes_in_MB'].sort_values(ascending=False)\n",
    "text2 = ['{:.2f}%'.format(100 * (value / cnt_srs2.sum())) for value in cnt_srs2.values]\n",
    "\n",
    "trace2 = go.Bar(\n",
    "    x = cnt_srs2.index,\n",
    "    y = cnt_srs2.values,\n",
    "    text = text2,\n",
    "    marker = dict(\n",
    "        color = random_color_generator(100),\n",
    "        line = dict(color='rgb(8, 48, 107)',\n",
    "                    width = 1.5)\n",
    "    ),\n",
    "    opacity = 0.7\n",
    ")\n",
    "\n",
    "trace3 = go.Bar(\n",
    "    x = cnt_srs1.index,\n",
    "    y = cnt_srs1.values,\n",
    "    text = text1,\n",
    "    opacity = 0.7,\n",
    "    name='Free'\n",
    ")\n",
    "\n",
    "\n",
    "trace4 = go.Bar(\n",
    "    x = cnt_srs2.index,\n",
    "    y = cnt_srs2.values,\n",
    "    text = text2,\n",
    "    opacity = 0.7,\n",
    "    name='Not-Free'\n",
    ")\n",
    "\n",
    "\n",
    "\n",
    "fig = tools.make_subplots(rows=2, cols=2, specs = [[{}, {}], [{'colspan':2}, None]], subplot_titles=('Free', 'Not-Free', 'third'), print_grid=False)\n",
    "fig = tools.make_subplots(rows=2, cols=2, specs = [[{}, {}], [{'colspan':2}, None]], \n",
    "                          subplot_titles=('(1) Mean App size(MB) of Free', '(2) Mean App size(MB) of Not-Free', \n",
    "                                          '(3) Grouped barplot containing Free(green) and Not-Free(red)'), print_grid=False)\n",
    "\n",
    "fig.append_trace(trace1, 1, 1)\n",
    "fig.append_trace(trace2, 1, 2)\n",
    "fig.append_trace(trace3, 2, 1)\n",
    "fig.append_trace(trace4, 2, 1)\n",
    "\n",
    "fig['layout']['yaxis1'].update(title='Mean App size(MB)')\n",
    "fig['layout']['yaxis2'].update(title='Mean App size(MB)')\n",
    "fig['layout']['yaxis3'].update(title='Mean App size(MB)')\n",
    "fig['layout'].update(showlegend=False, width=800, height=800)\n",
    "\n",
    "py.iplot(fig)"
   ]
  },
  {
   "cell_type": "markdown",
   "metadata": {
    "_uuid": "b64a374e0b749e766caed93626c2bf5940c6d9fb"
   },
   "source": [
    "### Figure 1\n",
    "- For Free App, Top 3 is below.\n",
    "\n",
    "(1) Games (2) Medical (3) Education\n",
    "### Figure 2\n",
    "\n",
    "- For Not-Free App, Top 3 is below\n",
    "\n",
    "(1) Medical (2) Games (3) Book\n",
    "### Figure 3\n",
    "\n",
    "- The bytesize of Not-Free Book, Catalogs and Medical Apps are more than 2 times than that of Free Book, Catalogs and Medical Apps.\n",
    "- Because the service form of  those 3 Apps is information, the price for Apps have a relationship with the amount of information.\n",
    "- For Games, I think the price is responsible for high quality graphic, good interface, etc."
   ]
  },
  {
   "cell_type": "markdown",
   "metadata": {
    "_uuid": "dbf2801bc77828ec87d88a306e7af089ae52ceec"
   },
   "source": [
    "## 2.4 App price based on prime_genre"
   ]
  },
  {
   "cell_type": "markdown",
   "metadata": {
    "_uuid": "4f945e8640d1632a22bf0c2318681a8c577ffa54"
   },
   "source": [
    "- Medical App is the most expensive, near to 9\\$.\n",
    "- The Apps (Business, Reference, Music, Productivity, Navigation, Education) have the mean price near to 5$."
   ]
  },
  {
   "cell_type": "code",
   "execution_count": null,
   "metadata": {
    "_kg_hide-input": true,
    "_uuid": "ba17da9e5e687e22642f41164c52fbfca5c20d0b"
   },
   "outputs": [],
   "source": [
    "cnt_srs = df_app_notfree[['prime_genre', 'price']].groupby('prime_genre').mean()['price'].sort_values(ascending=False)\n",
    "text = ['{:.2f}%'.format(100 * (value / cnt_srs.sum())) for value in cnt_srs.values]\n",
    "\n",
    "trace = go.Bar(\n",
    "    x = cnt_srs.index,\n",
    "    y = cnt_srs.values,\n",
    "    text = text,\n",
    "    marker = dict(\n",
    "        color = random_color_generator(100),\n",
    "        line = dict(color='rgb(8, 48, 107)',\n",
    "                    width = 1.5)\n",
    "    ),\n",
    "    opacity = 0.7\n",
    ")\n",
    "data = [trace]\n",
    "\n",
    "layout = go.Layout(\n",
    "    title = 'Mean App price of Not-Free Apps',\n",
    "    margin = dict(\n",
    "        l = 100\n",
    "    ),\n",
    "    yaxis = dict(\n",
    "        title = 'Mean App price'\n",
    "    ),\n",
    "    width = 800,\n",
    "    height = 500\n",
    ")\n",
    "\n",
    "fig = go.Figure(data=data, layout=layout)\n",
    "py.iplot(fig)"
   ]
  },
  {
   "cell_type": "markdown",
   "metadata": {
    "_uuid": "3c443eca56af3b16c1f01bbdec6c3fd8adb2a68e"
   },
   "source": [
    "- When considering only Not-Free apps, Medical App is the most expensive, near to 14$."
   ]
  },
  {
   "cell_type": "markdown",
   "metadata": {
    "_uuid": "b2ce2f7257bee5587d490656af33e4a2b4ee4610"
   },
   "source": [
    "# 3. Rating change"
   ]
  },
  {
   "cell_type": "code",
   "execution_count": null,
   "metadata": {
    "_uuid": "9b0c2530238a28892eacd9f2ac71d17f9733395f"
   },
   "outputs": [],
   "source": [
    "sns.lmplot(x='user_rating', y='user_rating_ver', hue='isNotFree', data=df_app)"
   ]
  },
  {
   "cell_type": "markdown",
   "metadata": {
    "_uuid": "a80551dc4584590ec36a963db0ab4d32294a2a44"
   },
   "source": [
    "# 4. Float columns"
   ]
  },
  {
   "cell_type": "code",
   "execution_count": null,
   "metadata": {
    "_uuid": "4c990fbe42f4d8225305b96b71d93083b6909435",
    "collapsed": true
   },
   "outputs": [],
   "source": [
    "df_temp = df_app.drop('id', axis=1)"
   ]
  },
  {
   "cell_type": "code",
   "execution_count": null,
   "metadata": {
    "_uuid": "bb051141987465f7eeba6aef64626af219715dde",
    "scrolled": false
   },
   "outputs": [],
   "source": [
    "data = [\n",
    "    go.Heatmap(\n",
    "        z = df_temp.corr().values,\n",
    "        x = df_temp.corr().columns.values,\n",
    "        y = df_temp.corr().columns.values,\n",
    "        colorscale='YlGnBu',\n",
    "        reversescale=False,\n",
    "    )\n",
    "]\n",
    "\n",
    "layout = go.Layout(\n",
    "    title='Pearson Correlation of float-type features',\n",
    "    xaxis = dict(ticks=''),\n",
    "    yaxis = dict(ticks='' ),\n",
    "    width = 800, height = 800,\n",
    "    margin = dict(\n",
    "        l = 100\n",
    "    )\n",
    ")\n",
    "\n",
    "fig = go.Figure(data=data, layout=layout)\n",
    "py.iplot(fig, filename='labelled-heatmap')"
   ]
  },
  {
   "cell_type": "code",
   "execution_count": null,
   "metadata": {
    "_uuid": "421a37f790bf87422c157ff9a15840eb3b0ff43a",
    "collapsed": true
   },
   "outputs": [],
   "source": [
    "df_corr = df_app.drop('id', axis=1).corr()"
   ]
  },
  {
   "cell_type": "code",
   "execution_count": null,
   "metadata": {
    "_uuid": "ab33cdf8a6a84f447b1d091dc86a191ce314a793"
   },
   "outputs": [],
   "source": [
    "df_corr['user_rating'].sort_values(ascending=False)"
   ]
  },
  {
   "cell_type": "code",
   "execution_count": null,
   "metadata": {
    "_uuid": "a3c9cbdda280542a0ba4bf6e91277fc23469fa6d"
   },
   "outputs": [],
   "source": [
    "df_corr['price'].sort_values(ascending=False)"
   ]
  },
  {
   "cell_type": "code",
   "execution_count": null,
   "metadata": {
    "_uuid": "efc81d5f3012f03e1864188b77d8869d928ac7bd"
   },
   "outputs": [],
   "source": [
    "plt.scatter(df_app['user_rating'], df_app['rating_count_ver'])"
   ]
  },
  {
   "cell_type": "markdown",
   "metadata": {
    "_uuid": "bccb427624167d0ba682de32b4d12dfed488e576"
   },
   "source": [
    "# 4. Description"
   ]
  },
  {
   "cell_type": "code",
   "execution_count": null,
   "metadata": {
    "_uuid": "d37dd28aecae4264e4998c754271827a3e38e3e5",
    "collapsed": true
   },
   "outputs": [],
   "source": [
    "foo = df_app['app_desc'][0].split(' ')"
   ]
  },
  {
   "cell_type": "code",
   "execution_count": null,
   "metadata": {
    "_uuid": "dd283349f4a74f1856ee5b4bd9d1d55ff45bfd8b",
    "collapsed": true
   },
   "outputs": [],
   "source": [
    "import nltk\n",
    "from nltk.corpus import stopwords"
   ]
  },
  {
   "cell_type": "code",
   "execution_count": null,
   "metadata": {
    "_uuid": "773636ac5e85d3ed837c865aac8337cc50198555"
   },
   "outputs": [],
   "source": [
    "%%time\n",
    "for i in range(df_app.shape[0]):\n",
    "    temp_desc = df_app['app_desc'][i]\n",
    "    temp_word_list = nltk.word_tokenize(temp_desc)\n",
    "    temp_word_list = [word.lower() for word in temp_word_list if word not in stopwords.words('english')]\n",
    "    for char in \" {}()#&[]^`´-_·@|¿?¡!'+*\\\"?.!/;:<>’•“”–»%■,\":\n",
    "        for ele in temp_word_list:\n",
    "            if char in ele:\n",
    "                temp_word_list.remove(ele)\n",
    "    fdist = nltk.FreqDist(temp_word_list)\n",
    "    temp_srs = pd.Series(fdist).sort_values(ascending=False)\n",
    "    try:\n",
    "        df_app.loc[i, 'most_freq_word_1'] = temp_srs.index[0]\n",
    "        df_app.loc[i, 'most_freq_word_2'] = temp_srs.index[1]\n",
    "        df_app.loc[i, 'most_freq_word_3'] = temp_srs.index[2]\n",
    "    except:\n",
    "        df_app.loc[i, 'most_freq_word_1'] = temp_srs.index[0]"
   ]
  },
  {
   "cell_type": "code",
   "execution_count": null,
   "metadata": {
    "_uuid": "bd0650c82fc8a52b9032a6e9b9039037627ef216"
   },
   "outputs": [],
   "source": [
    "df_app.loc[df_app['user_rating'] > 4, 'most_freq_word_3'].value_counts().head(20).plot.bar()"
   ]
  },
  {
   "cell_type": "code",
   "execution_count": null,
   "metadata": {
    "_uuid": "bfcb17e3c3fa5da1cb0a9d3e91481827acadb028",
    "collapsed": true
   },
   "outputs": [],
   "source": [
    "freq_total = nltk.FreqDist(df_app['most_freq_word_1'].tolist() + \n",
    "              df_app['most_freq_word_2'].tolist() +\n",
    "             df_app['most_freq_word_3'].tolist())"
   ]
  },
  {
   "cell_type": "code",
   "execution_count": null,
   "metadata": {
    "_uuid": "c009e19136f78e73d93a909f0f9ca79e6877e302",
    "collapsed": true
   },
   "outputs": [],
   "source": [
    "freq_total = pd.Series(freq_total).sort_values(ascending=False)"
   ]
  },
  {
   "cell_type": "code",
   "execution_count": null,
   "metadata": {
    "_uuid": "26fe39665e4bacf8175cb895e80f80ba27f75d2b"
   },
   "outputs": [],
   "source": [
    "freq_total.head(20).plot.bar()"
   ]
  },
  {
   "cell_type": "markdown",
   "metadata": {
    "_uuid": "5b3e2917ab72d376d4abb305c5d9c7079e64b138"
   },
   "source": [
    "# 4. Simple feature engineering and preparation"
   ]
  },
  {
   "cell_type": "code",
   "execution_count": 20,
   "metadata": {
    "ExecuteTime": {
     "end_time": "2019-07-18T12:03:39.952880Z",
     "start_time": "2019-07-18T12:03:39.644059Z"
    },
    "_uuid": "82202149f4e36ce729d071279b1db1d9631d1f10"
   },
   "outputs": [
    {
     "ename": "ModuleNotFoundError",
     "evalue": "No module named 'xgboost'",
     "output_type": "error",
     "traceback": [
      "\u001b[0;31m---------------------------------------------------------------------------\u001b[0m",
      "\u001b[0;31mModuleNotFoundError\u001b[0m                       Traceback (most recent call last)",
      "\u001b[0;32m<ipython-input-20-de8972c76554>\u001b[0m in \u001b[0;36m<module>\u001b[0;34m\u001b[0m\n\u001b[1;32m      2\u001b[0m \u001b[0;32mfrom\u001b[0m \u001b[0msklearn\u001b[0m\u001b[0;34m.\u001b[0m\u001b[0mpreprocessing\u001b[0m \u001b[0;32mimport\u001b[0m \u001b[0mOneHotEncoder\u001b[0m\u001b[0;34m\u001b[0m\u001b[0;34m\u001b[0m\u001b[0m\n\u001b[1;32m      3\u001b[0m \u001b[0;32mfrom\u001b[0m \u001b[0msklearn\u001b[0m\u001b[0;34m.\u001b[0m\u001b[0mmodel_selection\u001b[0m \u001b[0;32mimport\u001b[0m \u001b[0mtrain_test_split\u001b[0m\u001b[0;34m\u001b[0m\u001b[0;34m\u001b[0m\u001b[0m\n\u001b[0;32m----> 4\u001b[0;31m \u001b[0;32mimport\u001b[0m \u001b[0mxgboost\u001b[0m \u001b[0;32mas\u001b[0m \u001b[0mxgb\u001b[0m\u001b[0;34m\u001b[0m\u001b[0;34m\u001b[0m\u001b[0m\n\u001b[0m",
      "\u001b[0;31mModuleNotFoundError\u001b[0m: No module named 'xgboost'"
     ]
    }
   ],
   "source": [
    "from sklearn.metrics import confusion_matrix\n",
    "from sklearn.preprocessing import OneHotEncoder\n",
    "from sklearn.model_selection import train_test_split\n",
    "import xgboost as xgb"
   ]
  },
  {
   "cell_type": "code",
   "execution_count": null,
   "metadata": {
    "_uuid": "51f4c7bbd47c24f62e7700a88eaa53078721f371",
    "collapsed": true
   },
   "outputs": [],
   "source": [
    "df_app['rating_count_before'] = df_app['rating_count_tot'] - df_app['rating_count_ver']"
   ]
  },
  {
   "cell_type": "code",
   "execution_count": null,
   "metadata": {
    "_uuid": "67cfb505e74930ac2c40276eb7ccb956bc2544bf"
   },
   "outputs": [],
   "source": [
    "df_app.head()"
   ]
  },
  {
   "cell_type": "code",
   "execution_count": null,
   "metadata": {
    "_uuid": "f0b006b760c30ab5c8bfd9ce8e1c32643718650f",
    "collapsed": true
   },
   "outputs": [],
   "source": [
    "df_train = df_app[['size_bytes_in_MB', 'isNotFree', 'price', 'rating_count_before', 'sup_devices.num', 'ipadSc_urls.num', 'lang.num', 'vpp_lic', 'prime_genre']]\n",
    "target = df_app['user_rating']\n",
    "\n",
    "df_train = pd.get_dummies(df_train)\n",
    "\n",
    "def categorize_rating(x):\n",
    "    if x <= 4:\n",
    "        return 0\n",
    "    else:\n",
    "        return 1\n",
    "\n",
    "target = target.apply(categorize_rating)\n",
    "\n",
    "target.astype(str).hist()"
   ]
  },
  {
   "cell_type": "code",
   "execution_count": null,
   "metadata": {
    "_uuid": "8db64f765339770522e905c12b7f314645be7e34",
    "collapsed": true
   },
   "outputs": [],
   "source": [
    "X_train, X_test, y_train, y_test = train_test_split(df_train.values, target, test_size=0.2, random_state=1989, stratify=target)\n",
    "\n",
    "print('X_train shape:', X_train.shape)\n",
    "print('X_test shape:', X_test.shape)"
   ]
  },
  {
   "cell_type": "markdown",
   "metadata": {
    "_uuid": "0363e776dd0fabc78826102f991857bc96149fab"
   },
   "source": [
    "# 5. Success prediction"
   ]
  },
  {
   "cell_type": "code",
   "execution_count": null,
   "metadata": {
    "_uuid": "82299419be89399fe291a5b0466993d4ce7dbd26",
    "collapsed": true
   },
   "outputs": [],
   "source": [
    "from sklearn.metrics import accuracy_score\n",
    "from sklearn.model_selection import KFold\n",
    "from sklearn.model_selection import cross_val_score, cross_validate"
   ]
  },
  {
   "cell_type": "code",
   "execution_count": null,
   "metadata": {
    "_uuid": "725b49c36681792538bcd7f156275e652d78a8a3",
    "collapsed": true
   },
   "outputs": [],
   "source": [
    "from sklearn.ensemble import RandomForestClassifier\n",
    "from lightgbm import LGBMClassifier\n",
    "from xgboost import XGBClassifier"
   ]
  },
  {
   "cell_type": "code",
   "execution_count": null,
   "metadata": {
    "_uuid": "124150b79c9a2061d53a45a1f1f5237143f31d74",
    "collapsed": true
   },
   "outputs": [],
   "source": [
    "models = [RandomForestClassifier(), LGBMClassifier(), XGBClassifier()]\n",
    "\n",
    "kfold = KFold(n_splits=5, random_state=1989)\n",
    "\n",
    "clf_comparison = pd.DataFrame(columns=['Classfier_name', 'train_score', 'test_score'])\n",
    "\n",
    "for i, model in enumerate(models):\n",
    "    clf = model\n",
    "    cv_result = cross_validate(model, X_train, y_train, cv=kfold, scoring='accuracy')\n",
    "    clf_comparison.loc[i, 'Classfier_name'] = model.__class__.__name__\n",
    "    clf_comparison.loc[i, 'train_score'] = cv_result['train_score'].mean()\n",
    "    clf_comparison.loc[i, 'test_score'] = cv_result['test_score'].mean()\n",
    "\n",
    "clf_comparison"
   ]
  },
  {
   "cell_type": "markdown",
   "metadata": {
    "_uuid": "2a7784cd52043ae896a7f8ae830e7d9acd6f2cd4"
   },
   "source": [
    "# 6. Success prediction with description variable"
   ]
  },
  {
   "cell_type": "code",
   "execution_count": null,
   "metadata": {
    "_uuid": "b13134546295f7d3e32343d73c356eaa3f18cdbd",
    "collapsed": true
   },
   "outputs": [],
   "source": [
    "df_app.loc[:, 'isGame'] = df_app['app_desc'].apply(lambda x: 1 if 'game' in x.lower() else 0)"
   ]
  },
  {
   "cell_type": "code",
   "execution_count": null,
   "metadata": {
    "_uuid": "05336cc8af626d8c742d2e0ec59535c92185c936"
   },
   "outputs": [],
   "source": [
    "df_app.loc[:, 'descLen'] = df_app['app_desc'].apply(lambda x: len(x.lower()))"
   ]
  },
  {
   "cell_type": "code",
   "execution_count": null,
   "metadata": {
    "_uuid": "6cdbd21c75732ad3177d17eccb32f9d3ca8fada7"
   },
   "outputs": [],
   "source": [
    "df_train = df_app[['size_bytes_in_MB', 'isNotFree', 'price', 'rating_count_before', 'sup_devices.num', 'ipadSc_urls.num', 'lang.num', 'vpp_lic', 'prime_genre', 'isGame', 'descLen']]\n",
    "target = df_app['user_rating']\n",
    "\n",
    "df_train = pd.get_dummies(df_train)\n",
    "\n",
    "def categorize_rating(x):\n",
    "    if x <= 4:\n",
    "        return 0\n",
    "    else:\n",
    "        return 1\n",
    "\n",
    "target = target.apply(categorize_rating)\n",
    "\n",
    "target.astype(str).hist()"
   ]
  },
  {
   "cell_type": "code",
   "execution_count": null,
   "metadata": {
    "_uuid": "48a2f162c77e7f9c1165eebdfc6f7dc5dbc7135e"
   },
   "outputs": [],
   "source": [
    "X_train, X_test, y_train, y_test = train_test_split(df_train.values, target, test_size=0.2, random_state=1989, stratify=target)\n",
    "\n",
    "print('X_train shape:', X_train.shape)\n",
    "print('X_test shape:', X_test.shape)"
   ]
  },
  {
   "cell_type": "code",
   "execution_count": null,
   "metadata": {
    "_uuid": "631101220d152d4fd119939684d2342b9a669328"
   },
   "outputs": [],
   "source": [
    "models = [RandomForestClassifier(), LGBMClassifier(), XGBClassifier()]\n",
    "\n",
    "kfold = KFold(n_splits=5, random_state=1989)\n",
    "\n",
    "clf_comparison = pd.DataFrame(columns=['Classfier_name', 'train_score', 'test_score'])\n",
    "\n",
    "for i, model in enumerate(models):\n",
    "    clf = model\n",
    "    cv_result = cross_validate(model, X_train, y_train, cv=kfold, scoring='accuracy')\n",
    "    clf_comparison.loc[i, 'Classfier_name'] = model.__class__.__name__\n",
    "    clf_comparison.loc[i, 'train_score'] = cv_result['train_score'].mean()\n",
    "    clf_comparison.loc[i, 'test_score'] = cv_result['test_score'].mean()\n",
    "\n",
    "clf_comparison"
   ]
  },
  {
   "cell_type": "markdown",
   "metadata": {
    "_uuid": "47b2c2c0a250243e89f80c99095a3567f6ee9fb5"
   },
   "source": [
    "# Conclusion\n",
    "- At the beginning, I set a multi class classfication problem to predict user_rating using this dataset. I categorized user ratings into 5 groups, (1) 0~1 (2) 1~2 (3) 2~3 (4) 3~4 (5) 4~5.\n",
    "- But, the output was bad."
   ]
  },
  {
   "cell_type": "markdown",
   "metadata": {
    "_uuid": "dcea49645dcf9a7928babaecdbc4e47e7dd606ae"
   },
   "source": [
    "- For now, I set a binary classfication problem to predict success of apps. I supposed that app which has more than 4 user_rating is succeful. \n",
    "- For this approach, the prediction accuracy is about 70%. It is not bad.\n",
    "- I'm planning to add more features to improve the performance."
   ]
  },
  {
   "cell_type": "markdown",
   "metadata": {
    "_uuid": "0eef77816b4220fb3a0ed587f0e139c41b5f0696"
   },
   "source": []
  },
  {
   "cell_type": "code",
   "execution_count": null,
   "metadata": {
    "_uuid": "8cb02b4e0e647352c4a03b8963418e57bf8e5129",
    "collapsed": true
   },
   "outputs": [],
   "source": []
  },
  {
   "cell_type": "code",
   "execution_count": null,
   "metadata": {
    "_uuid": "b166f6787050ebfaf97cd521cc766530cdf0e0b9",
    "collapsed": true
   },
   "outputs": [],
   "source": []
  },
  {
   "cell_type": "code",
   "execution_count": null,
   "metadata": {
    "_uuid": "1645b94f72231bf2207ef5d1bbaa4826537e60be",
    "collapsed": true
   },
   "outputs": [],
   "source": []
  }
 ],
 "metadata": {
  "kernelspec": {
   "display_name": "Python 3",
   "language": "python",
   "name": "python3"
  },
  "language_info": {
   "codemirror_mode": {
    "name": "ipython",
    "version": 3
   },
   "file_extension": ".py",
   "mimetype": "text/x-python",
   "name": "python",
   "nbconvert_exporter": "python",
   "pygments_lexer": "ipython3",
   "version": "3.7.2"
  },
  "toc": {
   "base_numbering": 1,
   "nav_menu": {},
   "number_sections": true,
   "sideBar": true,
   "skip_h1_title": false,
   "title_cell": "Table of Contents",
   "title_sidebar": "Contents",
   "toc_cell": false,
   "toc_position": {},
   "toc_section_display": true,
   "toc_window_display": true
  },
  "varInspector": {
   "cols": {
    "lenName": 16,
    "lenType": 16,
    "lenVar": 40
   },
   "kernels_config": {
    "python": {
     "delete_cmd_postfix": "",
     "delete_cmd_prefix": "del ",
     "library": "var_list.py",
     "varRefreshCmd": "print(var_dic_list())"
    },
    "r": {
     "delete_cmd_postfix": ") ",
     "delete_cmd_prefix": "rm(",
     "library": "var_list.r",
     "varRefreshCmd": "cat(var_dic_list()) "
    }
   },
   "types_to_exclude": [
    "module",
    "function",
    "builtin_function_or_method",
    "instance",
    "_Feature"
   ],
   "window_display": false
  }
 },
 "nbformat": 4,
 "nbformat_minor": 1
}
