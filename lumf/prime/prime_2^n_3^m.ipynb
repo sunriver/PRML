{
 "cells": [
  {
   "cell_type": "code",
   "execution_count": 3,
   "metadata": {
    "ExecuteTime": {
     "end_time": "2019-08-15T10:01:36.607105Z",
     "start_time": "2019-08-15T10:01:36.602342Z"
    }
   },
   "outputs": [],
   "source": [
    "import pandas as pd\n",
    "import numpy as np"
   ]
  },
  {
   "cell_type": "code",
   "execution_count": 23,
   "metadata": {
    "ExecuteTime": {
     "end_time": "2019-08-15T11:32:35.813655Z",
     "start_time": "2019-08-15T11:32:35.797896Z"
    }
   },
   "outputs": [
    {
     "name": "stdout",
     "output_type": "stream",
     "text": [
      "[[    5    11    29    83   245   731  2189  6563 19685 59051]\n",
      " [    7    13    31    85   247   733  2191  6565 19687 59053]\n",
      " [   11    17    35    89   251   737  2195  6569 19691 59057]\n",
      " [   19    25    43    97   259   745  2203  6577 19699 59065]\n",
      " [   35    41    59   113   275   761  2219  6593 19715 59081]\n",
      " [   67    73    91   145   307   793  2251  6625 19747 59113]\n",
      " [  131   137   155   209   371   857  2315  6689 19811 59177]\n",
      " [  259   265   283   337   499   985  2443  6817 19939 59305]\n",
      " [  515   521   539   593   755  1241  2699  7073 20195 59561]\n",
      " [ 1027  1033  1051  1105  1267  1753  3211  7585 20707 60073]]\n",
      "[[    1     7    25    79   241   727  2185  6559 19681 59047]\n",
      " [    1     5    23    77   239   725  2183  6557 19679 59045]\n",
      " [    5     1    19    73   235   721  2179  6553 19675 59041]\n",
      " [   13     7    11    65   227   713  2171  6545 19667 59033]\n",
      " [   29    23     5    49   211   697  2155  6529 19651 59017]\n",
      " [   61    55    37    17   179   665  2123  6497 19619 58985]\n",
      " [  125   119   101    47   115   601  2059  6433 19555 58921]\n",
      " [  253   247   229   175    13   473  1931  6305 19427 58793]\n",
      " [  509   503   485   431   269   217  1675  6049 19171 58537]\n",
      " [ 1021  1015   997   943   781   295  1163  5537 18659 58025]]\n",
      "[    1     5     7    11    13    17    19    23    25    29    31    35\n",
      "    37    41    43    47    49    55    59    61    65    67    73    77\n",
      "    79    83    85    89    91    97   101   113   115   119   125   131\n",
      "   137   145   155   175   179   209   211   217   227   229   235   239\n",
      "   241   245   247   251   253   259   265   269   275   283   295   307\n",
      "   337   371   431   473   485   499   503   509   515   521   539   593\n",
      "   601   665   697   713   721   725   727   731   733   737   745   755\n",
      "   761   781   793   857   943   985   997  1015  1021  1027  1033  1051\n",
      "  1105  1163  1241  1267  1675  1753  1931  2059  2123  2155  2171  2179\n",
      "  2183  2185  2189  2191  2195  2203  2219  2251  2315  2443  2699  3211\n",
      "  5537  6049  6305  6433  6497  6529  6545  6553  6557  6559  6563  6565\n",
      "  6569  6577  6593  6625  6689  6817  7073  7585 18659 19171 19427 19555\n",
      " 19619 19651 19667 19675 19679 19681 19685 19687 19691 19699 19715 19747\n",
      " 19811 19939 20195 20707 58025 58537 58793 58921 58985 59017 59033 59041\n",
      " 59045 59047 59051 59053 59057 59065 59081 59113 59177 59305 59561 60073]\n"
     ]
    }
   ],
   "source": [
    "len = 10\n",
    "data_sum = np.zeros((len, len), dtype = np.int64)\n",
    "data_diff = np.zeros((len, len), dtype = np.int64)\n",
    "for n in range(0, len):\n",
    "    for m in range (0, len):\n",
    "        n2 = 2 ** (n + 1)\n",
    "        m3 = 3 ** (m + 1)\n",
    "        data_sum[n][m] = n2 + m3\n",
    "        data_diff[n][m] = abs(n2 - m3)\n",
    "\n",
    "result = np.append(data_sum, data_diff)     \n",
    "print(data_sum)  \n",
    "print(data_diff)\n",
    "result = np.unique(result)\n",
    "print(result)\n"
   ]
  },
  {
   "cell_type": "code",
   "execution_count": null,
   "metadata": {},
   "outputs": [],
   "source": []
  }
 ],
 "metadata": {
  "kernelspec": {
   "display_name": "Python 3",
   "language": "python",
   "name": "python3"
  },
  "language_info": {
   "codemirror_mode": {
    "name": "ipython",
    "version": 3
   },
   "file_extension": ".py",
   "mimetype": "text/x-python",
   "name": "python",
   "nbconvert_exporter": "python",
   "pygments_lexer": "ipython3",
   "version": "3.7.2"
  },
  "latex_envs": {
   "LaTeX_envs_menu_present": true,
   "autoclose": false,
   "autocomplete": true,
   "bibliofile": "biblio.bib",
   "cite_by": "apalike",
   "current_citInitial": 1,
   "eqLabelWithNumbers": true,
   "eqNumInitial": 1,
   "hotkeys": {
    "equation": "Ctrl-E",
    "itemize": "Ctrl-I"
   },
   "labels_anchors": false,
   "latex_user_defs": false,
   "report_style_numbering": false,
   "user_envs_cfg": false
  },
  "toc": {
   "base_numbering": 1,
   "nav_menu": {},
   "number_sections": true,
   "sideBar": true,
   "skip_h1_title": false,
   "title_cell": "Table of Contents",
   "title_sidebar": "Contents",
   "toc_cell": false,
   "toc_position": {},
   "toc_section_display": true,
   "toc_window_display": false
  },
  "varInspector": {
   "cols": {
    "lenName": 16,
    "lenType": 16,
    "lenVar": 40
   },
   "kernels_config": {
    "python": {
     "delete_cmd_postfix": "",
     "delete_cmd_prefix": "del ",
     "library": "var_list.py",
     "varRefreshCmd": "print(var_dic_list())"
    },
    "r": {
     "delete_cmd_postfix": ") ",
     "delete_cmd_prefix": "rm(",
     "library": "var_list.r",
     "varRefreshCmd": "cat(var_dic_list()) "
    }
   },
   "types_to_exclude": [
    "module",
    "function",
    "builtin_function_or_method",
    "instance",
    "_Feature"
   ],
   "window_display": true
  }
 },
 "nbformat": 4,
 "nbformat_minor": 2
}
