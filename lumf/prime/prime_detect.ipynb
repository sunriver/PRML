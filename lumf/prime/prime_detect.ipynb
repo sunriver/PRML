{
 "cells": [
  {
   "cell_type": "markdown",
   "metadata": {},
   "source": [
    "# import"
   ]
  },
  {
   "cell_type": "code",
   "execution_count": 15,
   "metadata": {
    "ExecuteTime": {
     "end_time": "2019-07-16T06:45:51.955562Z",
     "start_time": "2019-07-16T06:45:51.951029Z"
    }
   },
   "outputs": [],
   "source": [
    "import pandas as pd\n",
    "import numpy as np\n",
    "import pixiedust\n",
    "import math\n",
    "import tensorflow as tf\n",
    "from sklearn.model_selection import train_test_split\n",
    "import matplotlib.pyplot as plt"
   ]
  },
  {
   "cell_type": "code",
   "execution_count": null,
   "metadata": {},
   "outputs": [],
   "source": []
  },
  {
   "cell_type": "markdown",
   "metadata": {},
   "source": [
    "# load & process data"
   ]
  },
  {
   "cell_type": "code",
   "execution_count": 43,
   "metadata": {
    "ExecuteTime": {
     "end_time": "2019-07-15T09:16:37.821378Z",
     "start_time": "2019-07-15T09:16:37.805897Z"
    }
   },
   "outputs": [],
   "source": [
    "primes_100k = pd.read_csv(\"prime/primes-to-100k.txt\", names=['prime'], dtype=int)"
   ]
  },
  {
   "cell_type": "code",
   "execution_count": 44,
   "metadata": {
    "ExecuteTime": {
     "end_time": "2019-07-15T09:16:40.585104Z",
     "start_time": "2019-07-15T09:16:40.561094Z"
    }
   },
   "outputs": [
    {
     "data": {
      "text/plain": [
       "9592"
      ]
     },
     "execution_count": 44,
     "metadata": {},
     "output_type": "execute_result"
    }
   ],
   "source": [
    "primes_100k.head()\n",
    "primes_100k.describe()\n",
    "primes_100k.size"
   ]
  },
  {
   "cell_type": "code",
   "execution_count": null,
   "metadata": {},
   "outputs": [],
   "source": []
  },
  {
   "cell_type": "code",
   "execution_count": 16,
   "metadata": {
    "ExecuteTime": {
     "end_time": "2019-07-16T06:45:56.684676Z",
     "start_time": "2019-07-16T06:45:56.609638Z"
    },
    "pixiedust": {
     "displayParams": {}
    }
   },
   "outputs": [],
   "source": [
    "# %%pixie_debugger\n",
    "def isPrime(n):\n",
    "    if n <= 1:  \n",
    "        return 0 \n",
    "    for i in range(2, int(math.sqrt(n)) + 1):  \n",
    "        if n % i == 0:  \n",
    "            return 0 \n",
    "    return 1 \n",
    "\n",
    "def get_num_vector(num, vector_len):\n",
    "    vec = [0] * vector_len\n",
    "    j = vector_len - 1\n",
    "    while num > 0:\n",
    "        reminder = num % 10\n",
    "        num = math.floor(num / 10)\n",
    "        vec[j] = reminder\n",
    "        j = j - 1\n",
    "    return vec\n",
    "\n",
    "def createXy(n, features_num):\n",
    "    ls = list(range(2, n))\n",
    "    np.random.shuffle(ls)\n",
    "    sample_X = []\n",
    "    sample_y = []\n",
    "    for v in ls:\n",
    "        y = isPrime(v)\n",
    "        x = get_num_vector(v, features_num)\n",
    "        sample_X.append(x)\n",
    "        sample_y.append(y)\n",
    "#         print(x)\n",
    "    return sample_X, sample_y\n",
    "\n",
    "features_num = 10\n",
    "X, y = createXy(10000, features_num)\n",
    "X, y = np.array(X), np.array(y)\n",
    "X_train, X_test, y_train, y_test = train_test_split(X, y, test_size=0.33, random_state=42)\n",
    "\n",
    "        \n",
    "        "
   ]
  },
  {
   "cell_type": "markdown",
   "metadata": {},
   "source": [
    "# define model"
   ]
  },
  {
   "cell_type": "code",
   "execution_count": 17,
   "metadata": {
    "ExecuteTime": {
     "end_time": "2019-07-16T06:45:59.580396Z",
     "start_time": "2019-07-16T06:45:59.284880Z"
    }
   },
   "outputs": [
    {
     "name": "stdout",
     "output_type": "stream",
     "text": [
      "_________________________________________________________________\n",
      "Layer (type)                 Output Shape              Param #   \n",
      "=================================================================\n",
      "dense_8 (Dense)              (None, 64)                704       \n",
      "_________________________________________________________________\n",
      "dense_9 (Dense)              (None, 1)                 65        \n",
      "=================================================================\n",
      "Total params: 769\n",
      "Trainable params: 769\n",
      "Non-trainable params: 0\n",
      "_________________________________________________________________\n"
     ]
    }
   ],
   "source": [
    "model = tf.keras.Sequential()\n",
    "model.add(tf.keras.layers.Dense(64, input_shape=(features_num, ), activation=\"relu\"))\n",
    "model.add(tf.keras.layers.Dense(1, activation=\"sigmoid\"))\n",
    "model.compile(optimizer='adam',\n",
    "              loss='binary_crossentropy',\n",
    "              metrics=['acc'])\n",
    "\n",
    "model.summary()\n"
   ]
  },
  {
   "cell_type": "markdown",
   "metadata": {},
   "source": [
    "# train model"
   ]
  },
  {
   "cell_type": "code",
   "execution_count": 18,
   "metadata": {
    "ExecuteTime": {
     "end_time": "2019-07-16T06:59:53.929363Z",
     "start_time": "2019-07-16T06:46:02.422788Z"
    }
   },
   "outputs": [
    {
     "name": "stdout",
     "output_type": "stream",
     "text": [
      "Train on 5358 samples, validate on 1340 samples\n",
      "Epoch 1/100\n",
      "5358/5358 [==============================] - 9s 2ms/sample - loss: 0.4040 - acc: 0.8703 - val_loss: 0.3909 - val_acc: 0.8799\n",
      "Epoch 2/100\n",
      "5358/5358 [==============================] - 7s 1ms/sample - loss: 0.3901 - acc: 0.8725 - val_loss: 0.3753 - val_acc: 0.8799\n",
      "Epoch 3/100\n",
      "5358/5358 [==============================] - 8s 2ms/sample - loss: 0.3808 - acc: 0.8723 - val_loss: 0.3691 - val_acc: 0.8799\n",
      "Epoch 4/100\n",
      "5358/5358 [==============================] - 9s 2ms/sample - loss: 0.3735 - acc: 0.8725 - val_loss: 0.3500 - val_acc: 0.87994 - - ETA: 5s - loss: 0.3 - ETA: 4s - -  - ETA: 1s - los - ETA: 0s - loss: 0.3721 - acc: 0. - ETA: 0s - loss: 0.3740 - acc:  - ETA: 0s - loss: 0.3731 - acc: 0.873 - ETA: 0s - loss: 0.3724 - ac\n",
      "Epoch 5/100\n",
      "5358/5358 [==============================] - 10s 2ms/sample - loss: 0.3666 - acc: 0.8725 - val_loss: 0.3601 - val_acc: 0.87992s - loss: 0.3676 - acc: 0.8 - ETA: 2s - loss: 0. - ETA: 1s  - ETA: 0s - loss:\n",
      "Epoch 6/100\n",
      "5358/5358 [==============================] - 9s 2ms/sample - loss: 0.3634 - acc: 0.8725 - val_loss: 0.3601 - val_acc: 0.8799\n",
      "Epoch 7/100\n",
      "5358/5358 [==============================] - 8s 2ms/sample - loss: 0.3608 - acc: 0.8725 - val_loss: 0.3415 - val_acc: 0.8799 ETA: 1s\n",
      "Epoch 8/100\n",
      "5358/5358 [==============================] - 9s 2ms/sample - loss: 0.3579 - acc: 0.8725 - val_loss: 0.3463 - val_acc: 0.8799oss: 0.3619 - acc: 0.87 - ETA: 2s - loss: 0.3605 - acc: 0. - ETA: 2s - loss: 0.3584 - a\n",
      "Epoch 9/100\n",
      "5358/5358 [==============================] - 8s 2ms/sample - loss: 0.3568 - acc: 0.8727 - val_loss: 0.3401 - val_acc: 0.8799\n",
      "Epoch 10/100\n",
      "5358/5358 [==============================] - 9s 2ms/sample - loss: 0.3533 - acc: 0.8725 - val_loss: 0.3415 - val_acc: 0.879969 - ETA: 3s - loss: 0.3572 - acc: - ETA: 3s - loss: 0.3600 - a - ETA:  - ETA: 0s - los\n",
      "Epoch 11/100\n",
      "5358/5358 [==============================] - 9s 2ms/sample - loss: 0.3529 - acc: 0.8722 - val_loss: 0.3352 - val_acc: 0.8799\n",
      "Epoch 12/100\n",
      "5358/5358 [==============================] - 10s 2ms/sample - loss: 0.3520 - acc: 0.8727 - val_loss: 0.3323 - val_acc: 0.8799\n",
      "Epoch 13/100\n",
      "5358/5358 [==============================] - 10s 2ms/sample - loss: 0.3498 - acc: 0.8716 - val_loss: 0.3309 - val_acc: 0.8799\n",
      "Epoch 14/100\n",
      "5358/5358 [==============================] - 7s 1ms/sample - loss: 0.3497 - acc: 0.8718 - val_loss: 0.3327 - val_acc: 0.8799\n",
      "Epoch 15/100\n",
      "5358/5358 [==============================] - 7s 1ms/sample - loss: 0.3502 - acc: 0.8720 - val_loss: 0.3334 - val_acc: 0.8799.3672 - ETA: 1s - l - ETA: 0s - loss: 0.3511 - acc: 0.871 - ETA: 0s - loss: 0.3510 - acc: \n",
      "Epoch 16/100\n",
      "5358/5358 [==============================] - 7s 1ms/sample - loss: 0.3495 - acc: 0.8723 - val_loss: 0.3356 - val_acc: 0.8776481 - acc: - ETA: 3s - loss: 0.347 - ETA: 3s - loss: 0.3354 - acc: 0. - ETA: 2s -  - ETA: 1s - loss: 0.3456 - a - ETA: 0s - loss: 0.35 - ETA: 0s - loss: 0.3500 - acc: 0.87\n",
      "Epoch 17/100\n",
      "5358/5358 [==============================] - 7s 1ms/sample - loss: 0.3465 - acc: 0.8720 - val_loss: 0.3365 - val_acc: 0.8799loss: 0.3443 - acc: 0. - ETA: 0s - loss: 0.3441 - acc: 0.8 - ETA: 0s - loss: 0.3451 - acc\n",
      "Epoch 18/100\n",
      "5358/5358 [==============================] - 8s 1ms/sample - loss: 0.3454 - acc: 0.8722 - val_loss: 0.3287 - val_acc: 0.8791\n",
      "Epoch 19/100\n",
      "5358/5358 [==============================] - 7s 1ms/sample - loss: 0.3474 - acc: 0.8723 - val_loss: 0.3310 - val_acc: 0.8776oss: 0.3429 - ETA: 1s - loss: 0.3449 - acc: - ETA: 0s - loss: 0.3481 - acc: 0.872 - ETA: 0s - loss: 0.3474 \n",
      "Epoch 20/100\n",
      "5358/5358 [==============================] - 7s 1ms/sample - loss: 0.3454 - acc: 0.8720 - val_loss: 0.3282 - val_acc: 0.8799:  - ETA: 2s - loss: 0.3498 -  - ET\n",
      "Epoch 21/100\n",
      "5358/5358 [==============================] - 7s 1ms/sample - loss: 0.3443 - acc: 0.8733 - val_loss: 0.3350 - val_acc: 0.8776\n",
      "Epoch 22/100\n",
      "5358/5358 [==============================] - 8s 2ms/sample - loss: 0.3450 - acc: 0.8720 - val_loss: 0.3284 - val_acc: 0.8784\n",
      "Epoch 23/100\n",
      "5358/5358 [==============================] - 9s 2ms/sample - loss: 0.3447 - acc: 0.8733 - val_loss: 0.3303 - val_acc: 0.8784ETA: 3s - loss: 0.339\n",
      "Epoch 24/100\n",
      "5358/5358 [==============================] - 9s 2ms/sample - loss: 0.3452 - acc: 0.8729 - val_loss: 0.3269 - val_acc: 0.8799\n",
      "Epoch 25/100\n",
      "5358/5358 [==============================] - 6s 1ms/sample - loss: 0.3437 - acc: 0.8705 - val_loss: 0.3278 - val_acc: 0.87993s -  - ETA: 1s - loss: 0.3296 - acc: 0.876\n",
      "Epoch 26/100\n",
      "5358/5358 [==============================] - 9s 2ms/sample - loss: 0.3447 - acc: 0.8718 - val_loss: 0.3340 - val_acc: 0.8784\n",
      "Epoch 27/100\n",
      "5358/5358 [==============================] - 10s 2ms/sample - loss: 0.3444 - acc: 0.8722 - val_loss: 0.3356 - val_acc: 0.8799\n",
      "Epoch 28/100\n",
      "5358/5358 [==============================] - 10s 2ms/sample - loss: 0.3430 - acc: 0.8729 - val_loss: 0.3285 - val_acc: 0.8791\n",
      "Epoch 29/100\n",
      "5358/5358 [==============================] - 9s 2ms/sample - loss: 0.3439 - acc: 0.8731 - val_loss: 0.3368 - val_acc: 0.8769\n",
      "Epoch 30/100\n",
      "5358/5358 [==============================] - 9s 2ms/sample - loss: 0.3457 - acc: 0.8722 - val_loss: 0.3279 - val_acc: 0.8784\n",
      "Epoch 31/100\n",
      "5358/5358 [==============================] - 7s 1ms/sample - loss: 0.3454 - acc: 0.8723 - val_loss: 0.3369 - val_acc: 0.8784\n",
      "Epoch 32/100\n",
      "5358/5358 [==============================] - 8s 1ms/sample - loss: 0.3427 - acc: 0.8722 - val_loss: 0.3304 - val_acc: 0.8791\n",
      "Epoch 33/100\n",
      "5358/5358 [==============================] - 8s 1ms/sample - loss: 0.3438 - acc: 0.8736 - val_loss: 0.3304 - val_acc: 0.8791\n",
      "Epoch 34/100\n",
      "5358/5358 [==============================] - 8s 2ms/sample - loss: 0.3428 - acc: 0.8731 - val_loss: 0.3294 - val_acc: 0.8776\n",
      "Epoch 35/100\n",
      "5358/5358 [==============================] - 8s 2ms/sample - loss: 0.3420 - acc: 0.8738 - val_loss: 0.3327 - val_acc: 0.8791\n",
      "Epoch 36/100\n",
      "5358/5358 [==============================] - 9s 2ms/sample - loss: 0.3436 - acc: 0.8722 - val_loss: 0.3272 - val_acc: 0.8791 0.3407 -\n",
      "Epoch 37/100\n",
      "5358/5358 [==============================] - 8s 1ms/sample - loss: 0.3426 - acc: 0.8733 - val_loss: 0.3282 - val_acc: 0.8791\n",
      "Epoch 38/100\n",
      "5358/5358 [==============================] - 8s 1ms/sample - loss: 0.3422 - acc: 0.8722 - val_loss: 0.3306 - val_acc: 0.8799\n",
      "Epoch 39/100\n",
      "5358/5358 [==============================] - 10s 2ms/sample - loss: 0.3434 - acc: 0.8725 - val_loss: 0.3257 - val_acc: 0.8784\n",
      "Epoch 40/100\n",
      "5358/5358 [==============================] - 9s 2ms/sample - loss: 0.3423 - acc: 0.8729 - val_loss: 0.3284 - val_acc: 0.8791\n",
      "Epoch 41/100\n",
      "5358/5358 [==============================] - 9s 2ms/sample - loss: 0.3409 - acc: 0.8725 - val_loss: 0.3408 - val_acc: 0.8799\n",
      "Epoch 42/100\n",
      "5358/5358 [==============================] - 8s 1ms/sample - loss: 0.3420 - acc: 0.8727 - val_loss: 0.3276 - val_acc: 0.8791\n",
      "Epoch 43/100\n",
      "5358/5358 [==============================] - 9s 2ms/sample - loss: 0.3416 - acc: 0.8727 - val_loss: 0.3278 - val_acc: 0.8769\n",
      "Epoch 44/100\n",
      "5358/5358 [==============================] - 9s 2ms/sample - loss: 0.3416 - acc: 0.8725 - val_loss: 0.3285 - val_acc: 0.8791\n",
      "Epoch 45/100\n",
      "5358/5358 [==============================] - 8s 1ms/sample - loss: 0.3420 - acc: 0.8712 - val_loss: 0.3290 - val_acc: 0.8806\n",
      "Epoch 46/100\n",
      "5358/5358 [==============================] - 11s 2ms/sample - loss: 0.3419 - acc: 0.8722 - val_loss: 0.3300 - val_acc: 0.8784\n",
      "Epoch 47/100\n",
      "5358/5358 [==============================] - 9s 2ms/sample - loss: 0.3412 - acc: 0.8729 - val_loss: 0.3310 - val_acc: 0.8799\n",
      "Epoch 48/100\n",
      "5358/5358 [==============================] - 10s 2ms/sample - loss: 0.3442 - acc: 0.8722 - val_loss: 0.3298 - val_acc: 0.8776: 0.3481 - acc: 0.869 - ETA: 4s - loss: 0.3448 - ac - ETA: 0s - loss: 0.3456 - acc - ETA: 0s - loss: 0.3424 - acc: \n",
      "Epoch 49/100\n",
      "5358/5358 [==============================] - 10s 2ms/sample - loss: 0.3414 - acc: 0.8720 - val_loss: 0.3266 - val_acc: 0.8784\n",
      "Epoch 50/100\n",
      "5358/5358 [==============================] - 7s 1ms/sample - loss: 0.3413 - acc: 0.8729 - val_loss: 0.3269 - val_acc: 0.8784\n",
      "Epoch 51/100\n"
     ]
    },
    {
     "name": "stdout",
     "output_type": "stream",
     "text": [
      "5358/5358 [==============================] - 8s 2ms/sample - loss: 0.3401 - acc: 0.8731 - val_loss: 0.3290 - val_acc: 0.8791\n",
      "Epoch 52/100\n",
      "5358/5358 [==============================] - 11s 2ms/sample - loss: 0.3412 - acc: 0.8723 - val_loss: 0.3283 - val_acc: 0.8799\n",
      "Epoch 53/100\n",
      "5358/5358 [==============================] - 10s 2ms/sample - loss: 0.3417 - acc: 0.8729 - val_loss: 0.3257 - val_acc: 0.8799\n",
      "Epoch 54/100\n",
      "5358/5358 [==============================] - 8s 1ms/sample - loss: 0.3412 - acc: 0.8718 - val_loss: 0.3305 - val_acc: 0.8799\n",
      "Epoch 55/100\n",
      "5358/5358 [==============================] - 8s 2ms/sample - loss: 0.3400 - acc: 0.8731 - val_loss: 0.3323 - val_acc: 0.8761TA: 3s \n",
      "Epoch 56/100\n",
      "5358/5358 [==============================] - 7s 1ms/sample - loss: 0.3404 - acc: 0.8716 - val_loss: 0.3269 - val_acc: 0.8791\n",
      "Epoch 57/100\n",
      "5358/5358 [==============================] - 10s 2ms/sample - loss: 0.3393 - acc: 0.8710 - val_loss: 0.3349 - val_acc: 0.8716\n",
      "Epoch 58/100\n",
      "5358/5358 [==============================] - 11s 2ms/sample - loss: 0.3404 - acc: 0.8723 - val_loss: 0.3330 - val_acc: 0.8776\n",
      "Epoch 59/100\n",
      "5358/5358 [==============================] - 7s 1ms/sample - loss: 0.3396 - acc: 0.8720 - val_loss: 0.3287 - val_acc: 0.8784\n",
      "Epoch 60/100\n",
      "5358/5358 [==============================] - 7s 1ms/sample - loss: 0.3393 - acc: 0.8731 - val_loss: 0.3441 - val_acc: 0.8791\n",
      "Epoch 61/100\n",
      "5358/5358 [==============================] - 8s 1ms/sample - loss: 0.3402 - acc: 0.8710 - val_loss: 0.3286 - val_acc: 0.8791\n",
      "Epoch 62/100\n",
      "5358/5358 [==============================] - 9s 2ms/sample - loss: 0.3386 - acc: 0.8723 - val_loss: 0.3322 - val_acc: 0.8784\n",
      "Epoch 63/100\n",
      "5358/5358 [==============================] - 7s 1ms/sample - loss: 0.3402 - acc: 0.8714 - val_loss: 0.3289 - val_acc: 0.8791s: 0.3460 - acc: 0.866 - ETA: 2s - loss: 0.3463 - acc: - ETA: 2s - lo - ETA: 1s - loss:\n",
      "Epoch 64/100\n",
      "5358/5358 [==============================] - 7s 1ms/sample - loss: 0.3404 - acc: 0.8723 - val_loss: 0.3272 - val_acc: 0.8776\n",
      "Epoch 65/100\n",
      "5358/5358 [==============================] - 7s 1ms/sample - loss: 0.3392 - acc: 0.8729 - val_loss: 0.3278 - val_acc: 0.8791\n",
      "Epoch 66/100\n",
      "5358/5358 [==============================] - 8s 1ms/sample - loss: 0.3397 - acc: 0.8729 - val_loss: 0.3262 - val_acc: 0.8776\n",
      "Epoch 67/100\n",
      "5358/5358 [==============================] - 7s 1ms/sample - loss: 0.3401 - acc: 0.8727 - val_loss: 0.3283 - val_acc: 0.8784\n",
      "Epoch 68/100\n",
      "5358/5358 [==============================] - 11s 2ms/sample - loss: 0.3393 - acc: 0.8736 - val_loss: 0.3256 - val_acc: 0.8791\n",
      "Epoch 69/100\n",
      "5358/5358 [==============================] - 10s 2ms/sample - loss: 0.3407 - acc: 0.8718 - val_loss: 0.3255 - val_acc: 0.8791\n",
      "Epoch 70/100\n",
      "5358/5358 [==============================] - 10s 2ms/sample - loss: 0.3393 - acc: 0.8735 - val_loss: 0.3324 - val_acc: 0.8754\n",
      "Epoch 71/100\n",
      "5358/5358 [==============================] - 10s 2ms/sample - loss: 0.3385 - acc: 0.8729 - val_loss: 0.3243 - val_acc: 0.8791\n",
      "Epoch 72/100\n",
      "5358/5358 [==============================] - 9s 2ms/sample - loss: 0.3391 - acc: 0.8722 - val_loss: 0.3253 - val_acc: 0.8791\n",
      "Epoch 73/100\n",
      "5358/5358 [==============================] - 7s 1ms/sample - loss: 0.3378 - acc: 0.8729 - val_loss: 0.3349 - val_acc: 0.8769oss: 0.33\n",
      "Epoch 74/100\n",
      "5358/5358 [==============================] - 7s 1ms/sample - loss: 0.3393 - acc: 0.8720 - val_loss: 0.3225 - val_acc: 0.87847\n",
      "Epoch 75/100\n",
      "5358/5358 [==============================] - 7s 1ms/sample - loss: 0.3397 - acc: 0.8716 - val_loss: 0.3247 - val_acc: 0.8791\n",
      "Epoch 76/100\n",
      "5358/5358 [==============================] - 6s 1ms/sample - loss: 0.3356 - acc: 0.8723 - val_loss: 0.3265 - val_acc: 0.8769\n",
      "Epoch 77/100\n",
      "5358/5358 [==============================] - 7s 1ms/sample - loss: 0.3372 - acc: 0.8729 - val_loss: 0.3244 - val_acc: 0.8791\n",
      "Epoch 78/100\n",
      "5358/5358 [==============================] - 6s 1ms/sample - loss: 0.3373 - acc: 0.8727 - val_loss: 0.3288 - val_acc: 0.87840.3347 -\n",
      "Epoch 79/100\n",
      "5358/5358 [==============================] - 7s 1ms/sample - loss: 0.3382 - acc: 0.8720 - val_loss: 0.3376 - val_acc: 0.8761\n",
      "Epoch 80/100\n",
      "5358/5358 [==============================] - 7s 1ms/sample - loss: 0.3362 - acc: 0.8731 - val_loss: 0.3241 - val_acc: 0.8776\n",
      "Epoch 81/100\n",
      "5358/5358 [==============================] - 7s 1ms/sample - loss: 0.3360 - acc: 0.8718 - val_loss: 0.3351 - val_acc: 0.8769\n",
      "Epoch 82/100\n",
      "5358/5358 [==============================] - 7s 1ms/sample - loss: 0.3381 - acc: 0.8720 - val_loss: 0.3242 - val_acc: 0.8799\n",
      "Epoch 83/100\n",
      "5358/5358 [==============================] - 10s 2ms/sample - loss: 0.3389 - acc: 0.8725 - val_loss: 0.3242 - val_acc: 0.8784\n",
      "Epoch 84/100\n",
      "5358/5358 [==============================] - 9s 2ms/sample - loss: 0.3353 - acc: 0.8722 - val_loss: 0.3215 - val_acc: 0.8791\n",
      "Epoch 85/100\n",
      "5358/5358 [==============================] - 9s 2ms/sample - loss: 0.3350 - acc: 0.8722 - val_loss: 0.3231 - val_acc: 0.8791\n",
      "Epoch 86/100\n",
      "5358/5358 [==============================] - 7s 1ms/sample - loss: 0.3365 - acc: 0.8723 - val_loss: 0.3308 - val_acc: 0.8776\n",
      "Epoch 87/100\n",
      "5358/5358 [==============================] - 8s 1ms/sample - loss: 0.3341 - acc: 0.8733 - val_loss: 0.3201 - val_acc: 0.8799\n",
      "Epoch 88/100\n",
      "5358/5358 [==============================] - 8s 1ms/sample - loss: 0.3350 - acc: 0.8705 - val_loss: 0.3218 - val_acc: 0.8791\n",
      "Epoch 89/100\n",
      "5358/5358 [==============================] - 8s 1ms/sample - loss: 0.3369 - acc: 0.8727 - val_loss: 0.3192 - val_acc: 0.8791\n",
      "Epoch 90/100\n",
      "5358/5358 [==============================] - 12s 2ms/sample - loss: 0.3334 - acc: 0.8725 - val_loss: 0.3238 - val_acc: 0.8776\n",
      "Epoch 91/100\n",
      "5358/5358 [==============================] - 10s 2ms/sample - loss: 0.3338 - acc: 0.8720 - val_loss: 0.3179 - val_acc: 0.8791\n",
      "Epoch 92/100\n",
      "5358/5358 [==============================] - 11s 2ms/sample - loss: 0.3344 - acc: 0.8712 - val_loss: 0.3195 - val_acc: 0.8799\n",
      "Epoch 93/100\n",
      "5358/5358 [==============================] - 14s 3ms/sample - loss: 0.3320 - acc: 0.8718 - val_loss: 0.3272 - val_acc: 0.8709\n",
      "Epoch 94/100\n",
      "5358/5358 [==============================] - 7s 1ms/sample - loss: 0.3331 - acc: 0.8718 - val_loss: 0.3163 - val_acc: 0.8799\n",
      "Epoch 95/100\n",
      "5358/5358 [==============================] - 8s 1ms/sample - loss: 0.3328 - acc: 0.8722 - val_loss: 0.3166 - val_acc: 0.8791\n",
      "Epoch 96/100\n",
      "5358/5358 [==============================] - 7s 1ms/sample - loss: 0.3336 - acc: 0.8718 - val_loss: 0.3209 - val_acc: 0.8769\n",
      "Epoch 97/100\n",
      "5358/5358 [==============================] - 7s 1ms/sample - loss: 0.3327 - acc: 0.8716 - val_loss: 0.3192 - val_acc: 0.8791\n",
      "Epoch 98/100\n",
      "5358/5358 [==============================] - 7s 1ms/sample - loss: 0.3331 - acc: 0.8712 - val_loss: 0.3185 - val_acc: 0.8791s: 0.3373 - acc - ETA: 0s - loss: 0.3343 - ac - ETA: 0s - loss: 0.3349 - acc\n",
      "Epoch 99/100\n",
      "5358/5358 [==============================] - 7s 1ms/sample - loss: 0.3326 - acc: 0.8720 - val_loss: 0.3170 - val_acc: 0.8799\n",
      "Epoch 100/100\n",
      "5358/5358 [==============================] - 8s 2ms/sample - loss: 0.3320 - acc: 0.8710 - val_loss: 0.3182 - val_acc: 0.8776\n"
     ]
    }
   ],
   "source": [
    "history = model.fit(X_train, y_train, epochs=100, validation_split = 0.2, batch_size=1, verbose=1)"
   ]
  },
  {
   "cell_type": "code",
   "execution_count": null,
   "metadata": {},
   "outputs": [],
   "source": []
  },
  {
   "cell_type": "code",
   "execution_count": 19,
   "metadata": {
    "ExecuteTime": {
     "end_time": "2019-07-16T06:59:54.274246Z",
     "start_time": "2019-07-16T06:59:54.246595Z"
    }
   },
   "outputs": [
    {
     "name": "stdout",
     "output_type": "stream",
     "text": [
      "keys= dict_keys(['loss', 'acc', 'val_loss', 'val_acc'])\n"
     ]
    },
    {
     "data": {
      "text/html": [
       "<div>\n",
       "<style scoped>\n",
       "    .dataframe tbody tr th:only-of-type {\n",
       "        vertical-align: middle;\n",
       "    }\n",
       "\n",
       "    .dataframe tbody tr th {\n",
       "        vertical-align: top;\n",
       "    }\n",
       "\n",
       "    .dataframe thead th {\n",
       "        text-align: right;\n",
       "    }\n",
       "</style>\n",
       "<table border=\"1\" class=\"dataframe\">\n",
       "  <thead>\n",
       "    <tr style=\"text-align: right;\">\n",
       "      <th></th>\n",
       "      <th>loss</th>\n",
       "      <th>acc</th>\n",
       "      <th>val_loss</th>\n",
       "      <th>val_acc</th>\n",
       "      <th>epoch</th>\n",
       "    </tr>\n",
       "  </thead>\n",
       "  <tbody>\n",
       "    <tr>\n",
       "      <th>95</th>\n",
       "      <td>0.333562</td>\n",
       "      <td>0.871781</td>\n",
       "      <td>0.320858</td>\n",
       "      <td>0.876866</td>\n",
       "      <td>95</td>\n",
       "    </tr>\n",
       "    <tr>\n",
       "      <th>96</th>\n",
       "      <td>0.332662</td>\n",
       "      <td>0.871594</td>\n",
       "      <td>0.319184</td>\n",
       "      <td>0.879104</td>\n",
       "      <td>96</td>\n",
       "    </tr>\n",
       "    <tr>\n",
       "      <th>97</th>\n",
       "      <td>0.333131</td>\n",
       "      <td>0.871221</td>\n",
       "      <td>0.318469</td>\n",
       "      <td>0.879104</td>\n",
       "      <td>97</td>\n",
       "    </tr>\n",
       "    <tr>\n",
       "      <th>98</th>\n",
       "      <td>0.332616</td>\n",
       "      <td>0.871967</td>\n",
       "      <td>0.317032</td>\n",
       "      <td>0.879851</td>\n",
       "      <td>98</td>\n",
       "    </tr>\n",
       "    <tr>\n",
       "      <th>99</th>\n",
       "      <td>0.332041</td>\n",
       "      <td>0.871034</td>\n",
       "      <td>0.318189</td>\n",
       "      <td>0.877612</td>\n",
       "      <td>99</td>\n",
       "    </tr>\n",
       "  </tbody>\n",
       "</table>\n",
       "</div>"
      ],
      "text/plain": [
       "        loss       acc  val_loss   val_acc  epoch\n",
       "95  0.333562  0.871781  0.320858  0.876866     95\n",
       "96  0.332662  0.871594  0.319184  0.879104     96\n",
       "97  0.333131  0.871221  0.318469  0.879104     97\n",
       "98  0.332616  0.871967  0.317032  0.879851     98\n",
       "99  0.332041  0.871034  0.318189  0.877612     99"
      ]
     },
     "execution_count": 19,
     "metadata": {},
     "output_type": "execute_result"
    }
   ],
   "source": [
    "\n",
    "history_history = history.history\n",
    "print(\"keys=\", history_history.keys())\n",
    "\n",
    "hist = pd.DataFrame(history.history)\n",
    "hist['epoch'] = history.epoch\n",
    "hist.tail()"
   ]
  },
  {
   "cell_type": "code",
   "execution_count": 20,
   "metadata": {
    "ExecuteTime": {
     "end_time": "2019-07-16T06:59:54.832403Z",
     "start_time": "2019-07-16T06:59:54.524757Z"
    }
   },
   "outputs": [
    {
     "data": {
      "image/png": "[encoded data removed]",
      "text/plain": [
       "<Figure size 432x288 with 1 Axes>"
      ]
     },
     "metadata": {
      "needs_background": "light"
     },
     "output_type": "display_data"
    }
   ],
   "source": [
    "def print_history(history):\n",
    "    loss = history.history['loss']\n",
    "    epochs = history.epoch\n",
    "    val_loss = history.history['val_loss']\n",
    "\n",
    "#     epochs = range(1, len(mean_absolute_error) + 1)\n",
    "\n",
    "    # \"bo\" is for \"blue dot\"\n",
    "    plt.figure()\n",
    "    plt.plot(epochs, loss, 'b', label='Training loss')\n",
    "\n",
    "    # b is for \"solid blue line\"\n",
    "    plt.plot(epochs, val_loss, 'r', label='Validation loss')\n",
    "    plt.title('Training loss')\n",
    "    plt.xlabel('Epochs')\n",
    "    plt.ylabel('Loss')\n",
    "    plt.legend()\n",
    "    \n",
    "#     plt.figure()\n",
    "#     plt.plot(epochs, mean_absolute_error, 'r', label=\"Metrics mae\")\n",
    "#     plt.plot(epochs, val_mean_absolute_error, 'b', label=\"Metrics mae val \")\n",
    "#     plt.title('Metrics MAE')\n",
    "#     plt.xlabel('Epochs')\n",
    "#     plt.ylabel('Metrics')\n",
    "#     \n",
    "#     plt.legend()\n",
    "    plt.show()\n",
    "    \n",
    "print_history(history)"
   ]
  },
  {
   "cell_type": "markdown",
   "metadata": {},
   "source": [
    "# predict"
   ]
  },
  {
   "cell_type": "code",
   "execution_count": 21,
   "metadata": {
    "ExecuteTime": {
     "end_time": "2019-07-16T07:05:21.535514Z",
     "start_time": "2019-07-16T07:05:21.434658Z"
    }
   },
   "outputs": [
    {
     "name": "stdout",
     "output_type": "stream",
     "text": [
      "3300/3300 [==============================] - 0s 27us/sample - loss: 0.3203 - acc: 0.8827\n"
     ]
    }
   ],
   "source": [
    "results = model.evaluate(X_test, y_test)"
   ]
  },
  {
   "cell_type": "code",
   "execution_count": 28,
   "metadata": {
    "ExecuteTime": {
     "end_time": "2019-07-16T07:17:41.785286Z",
     "start_time": "2019-07-16T07:17:41.663154Z"
    }
   },
   "outputs": [
    {
     "name": "stdout",
     "output_type": "stream",
     "text": [
      "3300\n",
      "0.093629956 0 [0 0 0 0 0 0 2 8 2 4]\n",
      "0.06757185 0 [0 0 0 0 0 0 5 5 4 2]\n",
      "0.04926762 0 [0 0 0 0 0 0 7 0 4 5]\n",
      "0.031435728 0 [0 0 0 0 0 0 9 2 8 2]\n",
      "0.0 0 [0 0 0 0 0 0 0 9 4 0]\n",
      "0.078267455 0 [0 0 0 0 0 0 3 8 0 4]\n",
      "0.38340423 0 [0 0 0 0 0 0 0 5 9 1]\n",
      "0.046100825 0 [0 0 0 0 0 0 5 0 4 5]\n",
      "0.5088711 0 [0 0 0 0 0 0 9 0 3 9]\n",
      "0.20793629 0 [0 0 0 0 0 0 0 2 6 8]\n",
      "0.096958995 0 [0 0 0 0 0 0 1 6 6 4]\n",
      "0.24155873 0 [0 0 0 0 0 0 8 5 6 9]\n",
      "0.07573813 0 [0 0 0 0 0 0 3 1 5 4]\n",
      "0.0 0 [0 0 0 0 0 0 9 0 8 0]\n",
      "0.17246956 0 [0 0 0 0 0 0 2 4 0 8]\n",
      "0.12844887 0 [0 0 0 0 0 0 0 8 4 7]\n",
      "0.07202685 0 [0 0 0 0 0 0 4 3 7 6]\n",
      "0.07226956 0 [0 0 0 0 0 0 6 4 6 6]\n",
      "0.12981236 1 [0 0 0 0 0 0 6 3 1 7]\n",
      "0.070794284 0 [0 0 0 0 0 0 5 5 2 2]\n",
      "0.11790481 1 [0 0 0 0 0 0 5 5 5 7]\n",
      "0.06834379 0 [0 0 0 0 0 0 8 5 6 5]\n",
      "0.121990055 0 [0 0 0 0 0 0 4 3 2 3]\n",
      "0.05746144 0 [0 0 0 0 0 0 3 8 7 2]\n",
      "0.09225497 0 [0 0 0 0 0 0 9 8 0 7]\n",
      "0.3801448 1 [0 0 0 0 0 0 2 0 9 9]\n",
      "0.08422181 0 [0 0 0 0 0 0 1 5 6 6]\n",
      "0.06789893 0 [0 0 0 0 0 0 4 3 8 6]\n",
      "0.19920322 0 [0 0 0 0 0 0 8 4 9 9]\n",
      "0.088453144 0 [0 0 0 0 0 0 3 3 3 6]\n",
      "0.0 0 [0 0 0 0 0 0 7 3 6 0]\n",
      "0.13671961 0 [0 0 0 0 0 0 1 0 5 7]\n",
      "0.0 0 [0 0 0 0 0 0 7 4 3 0]\n",
      "0.052087754 0 [0 0 0 0 0 0 2 9 5 2]\n",
      "0.05197987 0 [0 0 0 0 0 0 6 1 0 5]\n",
      "0.14377639 0 [0 0 0 0 0 0 8 8 8 8]\n",
      "0.20110199 0 [0 0 0 0 0 0 9 3 7 9]\n",
      "0.13075906 0 [0 0 0 0 0 0 3 3 6 3]\n",
      "0.13915506 0 [0 0 0 0 0 0 7 4 9 8]\n",
      "0.18189934 0 [0 0 0 0 0 0 1 9 9 1]\n",
      "0.21791485 1 [0 0 0 0 0 0 9 9 4 9]\n",
      "0.062252074 0 [0 0 0 0 0 0 8 1 4 6]\n",
      "0.07207769 0 [0 0 0 0 0 0 4 7 1 2]\n",
      "0.22179416 0 [0 0 0 0 0 0 1 8 0 9]\n",
      "0.0 0 [0 0 0 0 0 0 2 4 6 0]\n",
      "0.39024732 1 [0 0 0 0 0 0 8 6 4 1]\n",
      "0.08611843 0 [0 0 0 0 0 0 6 9 0 4]\n",
      "0.2555191 0 [0 0 0 0 0 0 5 1 4 9]\n",
      "0.17091653 0 [0 0 0 0 0 0 9 0 8 1]\n",
      "0.09034452 0 [0 0 0 0 0 0 2 3 5 4]\n",
      "0.06259599 1 [0 0 0 0 0 0 9 1 7 3]\n",
      "0.24433154 1 [0 0 0 0 0 0 3 9 8 9]\n",
      "0.19005927 0 [0 0 0 0 0 0 9 0 3 7]\n",
      "0.07736462 0 [0 0 0 0 0 0 1 6 9 6]\n",
      "0.06849748 0 [0 0 0 0 0 0 0 5 1 2]\n",
      "0.072799176 0 [0 0 0 0 0 0 6 6 1 2]\n",
      "0.1008172 0 [0 0 0 0 0 0 0 2 4 2]\n",
      "0.109206975 0 [0 0 0 0 0 0 8 9 8 4]\n",
      "0.0 0 [0 0 0 0 0 0 2 3 2 0]\n",
      "0.06515068 0 [0 0 0 0 0 0 6 7 2 5]\n",
      "0.13200125 0 [0 0 0 0 0 0 0 5 5 3]\n",
      "0.056241244 0 [0 0 0 0 0 0 6 2 4 5]\n",
      "0.073860765 0 [0 0 0 0 0 0 8 0 4 3]\n",
      "0.09463778 0 [0 0 0 0 0 0 0 3 5 6]\n",
      "0.0 0 [0 0 0 0 0 0 6 3 5 0]\n",
      "0.104876965 0 [0 0 0 0 0 0 0 7 8 4]\n",
      "0.2197274 0 [0 0 0 0 0 0 0 1 4 8]\n",
      "0.19883937 0 [0 0 0 0 0 0 2 9 6 1]\n",
      "0.20611659 0 [0 0 0 0 0 0 3 2 1 8]\n",
      "0.07733318 0 [0 0 0 0 0 0 2 1 8 6]\n",
      "0.1483627 0 [0 0 0 0 0 0 3 8 0 8]\n",
      "0.091073126 0 [0 0 0 0 0 0 3 2 3 6]\n",
      "0.094899714 0 [0 0 0 0 0 0 1 1 9 5]\n",
      "0.14607367 0 [0 0 0 0 0 0 3 0 5 7]\n",
      "0.095371634 0 [0 0 0 0 0 0 8 5 8 7]\n",
      "0.24089506 0 [0 0 0 0 0 0 6 4 7 9]\n",
      "0.1467396 0 [0 0 0 0 0 0 8 5 8 8]\n",
      "0.06879708 0 [0 0 0 0 0 0 0 7 6 5]\n",
      "0.0 0 [0 0 0 0 0 0 0 8 5 0]\n",
      "0.068199545 0 [0 0 0 0 0 0 7 8 4 2]\n",
      "0.28693193 0 [0 0 0 0 0 0 2 5 6 9]\n",
      "0.069132 0 [0 0 0 0 0 0 1 5 8 5]\n",
      "0.07270566 0 [0 0 0 0 0 0 7 0 5 3]\n",
      "0.13921013 0 [0 0 0 0 0 0 6 6 9 3]\n",
      "0.2804569 0 [0 0 0 0 0 0 4 0 4 8]\n",
      "0.11202201 1 [0 0 0 0 0 0 2 2 8 7]\n",
      "0.1757217 0 [0 0 0 0 0 0 5 5 7 8]\n",
      "0.22424534 0 [0 0 0 0 0 0 6 9 8 9]\n",
      "0.24730209 1 [0 0 0 0 0 0 5 7 7 9]\n",
      "0.07417706 0 [0 0 0 0 0 0 0 3 6 5]\n",
      "0.13011077 1 [0 0 0 0 0 0 2 6 3 3]\n",
      "0.055627406 0 [0 0 0 0 0 0 8 0 2 5]\n",
      "0.19731617 0 [0 0 0 0 0 0 1 1 9 8]\n",
      "0.0 0 [0 0 0 0 0 0 6 4 9 0]\n",
      "0.090096235 0 [0 0 0 0 0 0 2 4 2 6]\n",
      "0.06409556 0 [0 0 0 0 0 0 7 1 5 4]\n",
      "0.06818649 0 [0 0 0 0 0 0 7 9 4 2]\n",
      "0.3508162 0 [0 0 0 0 0 0 1 1 3 1]\n",
      "0.040251642 0 [0 0 0 0 0 0 8 0 8 4]\n",
      "0.13878283 0 [0 0 0 0 0 0 1 5 3 7]\n",
      "0.16805124 0 [0 0 0 0 0 0 8 6 2 8]\n"
     ]
    }
   ],
   "source": [
    "predictions = model.predict(X_test).flatten()\n",
    "print(len(predictions))\n",
    "count = 0;\n",
    "for y_predict, y_label, x in zip(predictions, y_test, X_test):\n",
    "    print(y_predict, y_label, x)\n",
    "    count = count + 1\n",
    "    if (count > 100):\n",
    "        break"
   ]
  },
  {
   "cell_type": "code",
   "execution_count": null,
   "metadata": {},
   "outputs": [],
   "source": []
  }
 ],
 "metadata": {
  "kernelspec": {
   "display_name": "Python 3",
   "language": "python",
   "name": "python3"
  },
  "language_info": {
   "codemirror_mode": {
    "name": "ipython",
    "version": 3
   },
   "file_extension": ".py",
   "mimetype": "text/x-python",
   "name": "python",
   "nbconvert_exporter": "python",
   "pygments_lexer": "ipython3",
   "version": "3.7.2"
  },
  "toc": {
   "base_numbering": 1,
   "nav_menu": {},
   "number_sections": true,
   "sideBar": true,
   "skip_h1_title": false,
   "title_cell": "Table of Contents",
   "title_sidebar": "Contents",
   "toc_cell": false,
   "toc_position": {},
   "toc_section_display": true,
   "toc_window_display": true
  },
  "varInspector": {
   "cols": {
    "lenName": 16,
    "lenType": 16,
    "lenVar": 40
   },
   "kernels_config": {
    "python": {
     "delete_cmd_postfix": "",
     "delete_cmd_prefix": "del ",
     "library": "var_list.py",
     "varRefreshCmd": "print(var_dic_list())"
    },
    "r": {
     "delete_cmd_postfix": ") ",
     "delete_cmd_prefix": "rm(",
     "library": "var_list.r",
     "varRefreshCmd": "cat(var_dic_list()) "
    }
   },
   "position": {
    "height": "307px",
    "left": "1044px",
    "right": "20px",
    "top": "120px",
    "width": "356px"
   },
   "types_to_exclude": [
    "module",
    "function",
    "builtin_function_or_method",
    "instance",
    "_Feature"
   ],
   "window_display": true
  }
 },
 "nbformat": 4,
 "nbformat_minor": 2
}
