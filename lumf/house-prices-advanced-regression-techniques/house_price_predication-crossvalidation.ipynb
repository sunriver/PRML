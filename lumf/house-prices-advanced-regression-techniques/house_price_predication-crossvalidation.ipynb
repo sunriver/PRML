{
 "cells": [
  {
   "cell_type": "markdown",
   "metadata": {},
   "source": [
    "# import lib"
   ]
  },
  {
   "cell_type": "code",
   "execution_count": 123,
   "metadata": {
    "ExecuteTime": {
     "end_time": "2019-07-22T09:31:38.353791Z",
     "start_time": "2019-07-22T09:31:38.344117Z"
    }
   },
   "outputs": [],
   "source": [
    "#K折交叉验证（k-fold cross validation）https://www.cnblogs.com/bymo/p/9026198.html#_label0\n",
    "#将数据集分成k份，每一轮用其中(k-1)份做训练而剩余1份做验证，以这种方式执行k轮，得到k个模型．将k次的性能取平均，作为该算法的整体性能．k一般取值为5或者10．\n",
    "\n",
    "#优点：能比较鲁棒性地评估模型在未知数据上的性能．\n",
    "#缺点：计算复杂度较大．因此，在数据集较大，模型复杂度较高，或者计算资源不是很充沛的情况下，可能不适用，尤其是在训练深度学习模型的时候．\n",
    "#sklearn.model_selection提供了KFold以及RepeatedKFold, LeaveOneOut, LeavePOut, ShuffleSplit, StratifiedKFold, GroupKFold, TimeSeriesSplit等变体．\n",
    "\n",
    "#下面的例子中用的StratifiedKFold采用的是分层抽样，它保证各类别的样本在切割后每一份小数据集中的比例都与原数据集中的比例相同．\n",
    "#\n",
    "#dataset is  'https://www.kaggle.com/c/house-prices-advanced-regression-techniques'\n",
    "#refer https://www.kaggle.com/marsggbo/kaggle/comments#%E4%BA%8C%E3%80%81%E8%A7%82%E5%AF%9F%E5%90%84%E9%A1%B9%E4%B8%BB%E8%A6%81%E7%89%B9%E5%BE%81%E4%B8%8E%E6%88%BF%E5%B1%8B%E5%94%AE%E4%BB%B7%E7%9A%84%E5%85%B3%E7%B3%BB"
   ]
  },
  {
   "cell_type": "code",
   "execution_count": 3,
   "metadata": {
    "ExecuteTime": {
     "end_time": "2019-07-24T02:26:37.966744Z",
     "start_time": "2019-07-24T02:26:37.962502Z"
    }
   },
   "outputs": [],
   "source": [
    "import pandas as pd\n",
    "import numpy as np\n",
    "\n",
    "from sklearn import preprocessing\n",
    "from sklearn.model_selection import StratifiedKFold\n",
    "\n",
    "import matplotlib.pyplot as plt\n",
    "import seaborn as sns\n",
    "\n",
    "# !pip3 install -q tensorflow==2.0.0-beta1\n",
    "import tensorflow as tf\n",
    "\n",
    "\n",
    "# import sklearn.preprocessing"
   ]
  },
  {
   "cell_type": "code",
   "execution_count": 4,
   "metadata": {
    "ExecuteTime": {
     "end_time": "2019-07-24T02:26:40.362380Z",
     "start_time": "2019-07-24T02:26:40.358073Z"
    }
   },
   "outputs": [
    {
     "name": "stdout",
     "output_type": "stream",
     "text": [
      "1.13.1\n"
     ]
    }
   ],
   "source": [
    "print(tf.__version__)"
   ]
  },
  {
   "cell_type": "markdown",
   "metadata": {},
   "source": [
    "# load data"
   ]
  },
  {
   "cell_type": "code",
   "execution_count": 5,
   "metadata": {
    "ExecuteTime": {
     "end_time": "2019-07-24T02:26:42.316962Z",
     "start_time": "2019-07-24T02:26:42.236988Z"
    }
   },
   "outputs": [],
   "source": [
    "dataset_train = pd.read_csv(\"house-prices-advanced-regression-techniques/train.csv\")\n",
    "dataset_test = pd.read_csv(\"house-prices-advanced-regression-techniques/test.csv\")\n",
    "\n",
    "\n",
    "# dataset_train.describe()\n"
   ]
  },
  {
   "cell_type": "code",
   "execution_count": 6,
   "metadata": {
    "ExecuteTime": {
     "end_time": "2019-07-24T02:26:44.822525Z",
     "start_time": "2019-07-24T02:26:44.805746Z"
    }
   },
   "outputs": [
    {
     "data": {
      "text/html": [
       "<div>\n",
       "<style scoped>\n",
       "    .dataframe tbody tr th:only-of-type {\n",
       "        vertical-align: middle;\n",
       "    }\n",
       "\n",
       "    .dataframe tbody tr th {\n",
       "        vertical-align: top;\n",
       "    }\n",
       "\n",
       "    .dataframe thead th {\n",
       "        text-align: right;\n",
       "    }\n",
       "</style>\n",
       "<table border=\"1\" class=\"dataframe\">\n",
       "  <thead>\n",
       "    <tr style=\"text-align: right;\">\n",
       "      <th></th>\n",
       "      <th>Neighborhood</th>\n",
       "      <th>CentralAir</th>\n",
       "    </tr>\n",
       "  </thead>\n",
       "  <tbody>\n",
       "    <tr>\n",
       "      <th>0</th>\n",
       "      <td>CollgCr</td>\n",
       "      <td>Y</td>\n",
       "    </tr>\n",
       "    <tr>\n",
       "      <th>1</th>\n",
       "      <td>Veenker</td>\n",
       "      <td>Y</td>\n",
       "    </tr>\n",
       "    <tr>\n",
       "      <th>2</th>\n",
       "      <td>CollgCr</td>\n",
       "      <td>Y</td>\n",
       "    </tr>\n",
       "    <tr>\n",
       "      <th>3</th>\n",
       "      <td>Crawfor</td>\n",
       "      <td>Y</td>\n",
       "    </tr>\n",
       "    <tr>\n",
       "      <th>4</th>\n",
       "      <td>NoRidge</td>\n",
       "      <td>Y</td>\n",
       "    </tr>\n",
       "  </tbody>\n",
       "</table>\n",
       "</div>"
      ],
      "text/plain": [
       "  Neighborhood CentralAir\n",
       "0      CollgCr          Y\n",
       "1      Veenker          Y\n",
       "2      CollgCr          Y\n",
       "3      Crawfor          Y\n",
       "4      NoRidge          Y"
      ]
     },
     "execution_count": 6,
     "metadata": {},
     "output_type": "execute_result"
    }
   ],
   "source": [
    "# dataset_train.head()\n",
    "dataset_train[['Neighborhood', 'CentralAir']].head()"
   ]
  },
  {
   "cell_type": "code",
   "execution_count": 7,
   "metadata": {
    "ExecuteTime": {
     "end_time": "2019-07-24T02:26:47.969982Z",
     "start_time": "2019-07-24T02:26:47.598584Z"
    }
   },
   "outputs": [
    {
     "data": {
      "text/plain": [
       "<matplotlib.axes._subplots.AxesSubplot at 0x12a685198>"
      ]
     },
     "execution_count": 7,
     "metadata": {},
     "output_type": "execute_result"
    },
    {
     "data": {
      "image/png": "[encoded data removed]",
      "text/plain": [
       "<Figure size 432x288 with 1 Axes>"
      ]
     },
     "metadata": {
      "needs_background": "light"
     },
     "output_type": "display_data"
    }
   ],
   "source": [
    "# show distirbution of sale price\n",
    "sns.distplot(dataset_train['SalePrice'])"
   ]
  },
  {
   "cell_type": "code",
   "execution_count": 6,
   "metadata": {
    "ExecuteTime": {
     "end_time": "2019-07-23T09:17:09.697334Z",
     "start_time": "2019-07-23T09:17:09.628971Z"
    }
   },
   "outputs": [
    {
     "data": {
      "text/html": [
       "<div>\n",
       "<style scoped>\n",
       "    .dataframe tbody tr th:only-of-type {\n",
       "        vertical-align: middle;\n",
       "    }\n",
       "\n",
       "    .dataframe tbody tr th {\n",
       "        vertical-align: top;\n",
       "    }\n",
       "\n",
       "    .dataframe thead th {\n",
       "        text-align: right;\n",
       "    }\n",
       "</style>\n",
       "<table border=\"1\" class=\"dataframe\">\n",
       "  <thead>\n",
       "    <tr style=\"text-align: right;\">\n",
       "      <th></th>\n",
       "      <th>Alley</th>\n",
       "      <th>BldgType</th>\n",
       "      <th>BsmtCond</th>\n",
       "      <th>BsmtExposure</th>\n",
       "      <th>BsmtFinType1</th>\n",
       "      <th>BsmtFinType2</th>\n",
       "      <th>BsmtQual</th>\n",
       "      <th>CentralAir</th>\n",
       "      <th>Condition1</th>\n",
       "      <th>Condition2</th>\n",
       "      <th>...</th>\n",
       "      <th>MiscFeature</th>\n",
       "      <th>Neighborhood</th>\n",
       "      <th>PavedDrive</th>\n",
       "      <th>PoolQC</th>\n",
       "      <th>RoofMatl</th>\n",
       "      <th>RoofStyle</th>\n",
       "      <th>SaleCondition</th>\n",
       "      <th>SaleType</th>\n",
       "      <th>Street</th>\n",
       "      <th>Utilities</th>\n",
       "    </tr>\n",
       "  </thead>\n",
       "  <tbody>\n",
       "    <tr>\n",
       "      <th>0</th>\n",
       "      <td>NaN</td>\n",
       "      <td>1Fam</td>\n",
       "      <td>TA</td>\n",
       "      <td>No</td>\n",
       "      <td>GLQ</td>\n",
       "      <td>Unf</td>\n",
       "      <td>Gd</td>\n",
       "      <td>Y</td>\n",
       "      <td>Norm</td>\n",
       "      <td>Norm</td>\n",
       "      <td>...</td>\n",
       "      <td>NaN</td>\n",
       "      <td>CollgCr</td>\n",
       "      <td>Y</td>\n",
       "      <td>NaN</td>\n",
       "      <td>CompShg</td>\n",
       "      <td>Gable</td>\n",
       "      <td>Normal</td>\n",
       "      <td>WD</td>\n",
       "      <td>Pave</td>\n",
       "      <td>AllPub</td>\n",
       "    </tr>\n",
       "    <tr>\n",
       "      <th>1</th>\n",
       "      <td>NaN</td>\n",
       "      <td>1Fam</td>\n",
       "      <td>TA</td>\n",
       "      <td>Gd</td>\n",
       "      <td>ALQ</td>\n",
       "      <td>Unf</td>\n",
       "      <td>Gd</td>\n",
       "      <td>Y</td>\n",
       "      <td>Feedr</td>\n",
       "      <td>Norm</td>\n",
       "      <td>...</td>\n",
       "      <td>NaN</td>\n",
       "      <td>Veenker</td>\n",
       "      <td>Y</td>\n",
       "      <td>NaN</td>\n",
       "      <td>CompShg</td>\n",
       "      <td>Gable</td>\n",
       "      <td>Normal</td>\n",
       "      <td>WD</td>\n",
       "      <td>Pave</td>\n",
       "      <td>AllPub</td>\n",
       "    </tr>\n",
       "    <tr>\n",
       "      <th>2</th>\n",
       "      <td>NaN</td>\n",
       "      <td>1Fam</td>\n",
       "      <td>TA</td>\n",
       "      <td>Mn</td>\n",
       "      <td>GLQ</td>\n",
       "      <td>Unf</td>\n",
       "      <td>Gd</td>\n",
       "      <td>Y</td>\n",
       "      <td>Norm</td>\n",
       "      <td>Norm</td>\n",
       "      <td>...</td>\n",
       "      <td>NaN</td>\n",
       "      <td>CollgCr</td>\n",
       "      <td>Y</td>\n",
       "      <td>NaN</td>\n",
       "      <td>CompShg</td>\n",
       "      <td>Gable</td>\n",
       "      <td>Normal</td>\n",
       "      <td>WD</td>\n",
       "      <td>Pave</td>\n",
       "      <td>AllPub</td>\n",
       "    </tr>\n",
       "    <tr>\n",
       "      <th>3</th>\n",
       "      <td>NaN</td>\n",
       "      <td>1Fam</td>\n",
       "      <td>Gd</td>\n",
       "      <td>No</td>\n",
       "      <td>ALQ</td>\n",
       "      <td>Unf</td>\n",
       "      <td>TA</td>\n",
       "      <td>Y</td>\n",
       "      <td>Norm</td>\n",
       "      <td>Norm</td>\n",
       "      <td>...</td>\n",
       "      <td>NaN</td>\n",
       "      <td>Crawfor</td>\n",
       "      <td>Y</td>\n",
       "      <td>NaN</td>\n",
       "      <td>CompShg</td>\n",
       "      <td>Gable</td>\n",
       "      <td>Abnorml</td>\n",
       "      <td>WD</td>\n",
       "      <td>Pave</td>\n",
       "      <td>AllPub</td>\n",
       "    </tr>\n",
       "    <tr>\n",
       "      <th>4</th>\n",
       "      <td>NaN</td>\n",
       "      <td>1Fam</td>\n",
       "      <td>TA</td>\n",
       "      <td>Av</td>\n",
       "      <td>GLQ</td>\n",
       "      <td>Unf</td>\n",
       "      <td>Gd</td>\n",
       "      <td>Y</td>\n",
       "      <td>Norm</td>\n",
       "      <td>Norm</td>\n",
       "      <td>...</td>\n",
       "      <td>NaN</td>\n",
       "      <td>NoRidge</td>\n",
       "      <td>Y</td>\n",
       "      <td>NaN</td>\n",
       "      <td>CompShg</td>\n",
       "      <td>Gable</td>\n",
       "      <td>Normal</td>\n",
       "      <td>WD</td>\n",
       "      <td>Pave</td>\n",
       "      <td>AllPub</td>\n",
       "    </tr>\n",
       "    <tr>\n",
       "      <th>5</th>\n",
       "      <td>NaN</td>\n",
       "      <td>1Fam</td>\n",
       "      <td>TA</td>\n",
       "      <td>No</td>\n",
       "      <td>GLQ</td>\n",
       "      <td>Unf</td>\n",
       "      <td>Gd</td>\n",
       "      <td>Y</td>\n",
       "      <td>Norm</td>\n",
       "      <td>Norm</td>\n",
       "      <td>...</td>\n",
       "      <td>Shed</td>\n",
       "      <td>Mitchel</td>\n",
       "      <td>Y</td>\n",
       "      <td>NaN</td>\n",
       "      <td>CompShg</td>\n",
       "      <td>Gable</td>\n",
       "      <td>Normal</td>\n",
       "      <td>WD</td>\n",
       "      <td>Pave</td>\n",
       "      <td>AllPub</td>\n",
       "    </tr>\n",
       "    <tr>\n",
       "      <th>6</th>\n",
       "      <td>NaN</td>\n",
       "      <td>1Fam</td>\n",
       "      <td>TA</td>\n",
       "      <td>Av</td>\n",
       "      <td>GLQ</td>\n",
       "      <td>Unf</td>\n",
       "      <td>Ex</td>\n",
       "      <td>Y</td>\n",
       "      <td>Norm</td>\n",
       "      <td>Norm</td>\n",
       "      <td>...</td>\n",
       "      <td>NaN</td>\n",
       "      <td>Somerst</td>\n",
       "      <td>Y</td>\n",
       "      <td>NaN</td>\n",
       "      <td>CompShg</td>\n",
       "      <td>Gable</td>\n",
       "      <td>Normal</td>\n",
       "      <td>WD</td>\n",
       "      <td>Pave</td>\n",
       "      <td>AllPub</td>\n",
       "    </tr>\n",
       "    <tr>\n",
       "      <th>7</th>\n",
       "      <td>NaN</td>\n",
       "      <td>1Fam</td>\n",
       "      <td>TA</td>\n",
       "      <td>Mn</td>\n",
       "      <td>ALQ</td>\n",
       "      <td>BLQ</td>\n",
       "      <td>Gd</td>\n",
       "      <td>Y</td>\n",
       "      <td>PosN</td>\n",
       "      <td>Norm</td>\n",
       "      <td>...</td>\n",
       "      <td>Shed</td>\n",
       "      <td>NWAmes</td>\n",
       "      <td>Y</td>\n",
       "      <td>NaN</td>\n",
       "      <td>CompShg</td>\n",
       "      <td>Gable</td>\n",
       "      <td>Normal</td>\n",
       "      <td>WD</td>\n",
       "      <td>Pave</td>\n",
       "      <td>AllPub</td>\n",
       "    </tr>\n",
       "    <tr>\n",
       "      <th>8</th>\n",
       "      <td>NaN</td>\n",
       "      <td>1Fam</td>\n",
       "      <td>TA</td>\n",
       "      <td>No</td>\n",
       "      <td>Unf</td>\n",
       "      <td>Unf</td>\n",
       "      <td>TA</td>\n",
       "      <td>Y</td>\n",
       "      <td>Artery</td>\n",
       "      <td>Norm</td>\n",
       "      <td>...</td>\n",
       "      <td>NaN</td>\n",
       "      <td>OldTown</td>\n",
       "      <td>Y</td>\n",
       "      <td>NaN</td>\n",
       "      <td>CompShg</td>\n",
       "      <td>Gable</td>\n",
       "      <td>Abnorml</td>\n",
       "      <td>WD</td>\n",
       "      <td>Pave</td>\n",
       "      <td>AllPub</td>\n",
       "    </tr>\n",
       "    <tr>\n",
       "      <th>9</th>\n",
       "      <td>NaN</td>\n",
       "      <td>2fmCon</td>\n",
       "      <td>TA</td>\n",
       "      <td>No</td>\n",
       "      <td>GLQ</td>\n",
       "      <td>Unf</td>\n",
       "      <td>TA</td>\n",
       "      <td>Y</td>\n",
       "      <td>Artery</td>\n",
       "      <td>Artery</td>\n",
       "      <td>...</td>\n",
       "      <td>NaN</td>\n",
       "      <td>BrkSide</td>\n",
       "      <td>Y</td>\n",
       "      <td>NaN</td>\n",
       "      <td>CompShg</td>\n",
       "      <td>Gable</td>\n",
       "      <td>Normal</td>\n",
       "      <td>WD</td>\n",
       "      <td>Pave</td>\n",
       "      <td>AllPub</td>\n",
       "    </tr>\n",
       "  </tbody>\n",
       "</table>\n",
       "<p>10 rows × 43 columns</p>\n",
       "</div>"
      ],
      "text/plain": [
       "  Alley BldgType BsmtCond BsmtExposure BsmtFinType1 BsmtFinType2 BsmtQual  \\\n",
       "0   NaN     1Fam       TA           No          GLQ          Unf       Gd   \n",
       "1   NaN     1Fam       TA           Gd          ALQ          Unf       Gd   \n",
       "2   NaN     1Fam       TA           Mn          GLQ          Unf       Gd   \n",
       "3   NaN     1Fam       Gd           No          ALQ          Unf       TA   \n",
       "4   NaN     1Fam       TA           Av          GLQ          Unf       Gd   \n",
       "5   NaN     1Fam       TA           No          GLQ          Unf       Gd   \n",
       "6   NaN     1Fam       TA           Av          GLQ          Unf       Ex   \n",
       "7   NaN     1Fam       TA           Mn          ALQ          BLQ       Gd   \n",
       "8   NaN     1Fam       TA           No          Unf          Unf       TA   \n",
       "9   NaN   2fmCon       TA           No          GLQ          Unf       TA   \n",
       "\n",
       "  CentralAir Condition1 Condition2  ... MiscFeature Neighborhood PavedDrive  \\\n",
       "0          Y       Norm       Norm  ...         NaN      CollgCr          Y   \n",
       "1          Y      Feedr       Norm  ...         NaN      Veenker          Y   \n",
       "2          Y       Norm       Norm  ...         NaN      CollgCr          Y   \n",
       "3          Y       Norm       Norm  ...         NaN      Crawfor          Y   \n",
       "4          Y       Norm       Norm  ...         NaN      NoRidge          Y   \n",
       "5          Y       Norm       Norm  ...        Shed      Mitchel          Y   \n",
       "6          Y       Norm       Norm  ...         NaN      Somerst          Y   \n",
       "7          Y       PosN       Norm  ...        Shed       NWAmes          Y   \n",
       "8          Y     Artery       Norm  ...         NaN      OldTown          Y   \n",
       "9          Y     Artery     Artery  ...         NaN      BrkSide          Y   \n",
       "\n",
       "  PoolQC RoofMatl RoofStyle SaleCondition SaleType Street Utilities  \n",
       "0    NaN  CompShg     Gable        Normal       WD   Pave    AllPub  \n",
       "1    NaN  CompShg     Gable        Normal       WD   Pave    AllPub  \n",
       "2    NaN  CompShg     Gable        Normal       WD   Pave    AllPub  \n",
       "3    NaN  CompShg     Gable       Abnorml       WD   Pave    AllPub  \n",
       "4    NaN  CompShg     Gable        Normal       WD   Pave    AllPub  \n",
       "5    NaN  CompShg     Gable        Normal       WD   Pave    AllPub  \n",
       "6    NaN  CompShg     Gable        Normal       WD   Pave    AllPub  \n",
       "7    NaN  CompShg     Gable        Normal       WD   Pave    AllPub  \n",
       "8    NaN  CompShg     Gable       Abnorml       WD   Pave    AllPub  \n",
       "9    NaN  CompShg     Gable        Normal       WD   Pave    AllPub  \n",
       "\n",
       "[10 rows x 43 columns]"
      ]
     },
     "execution_count": 6,
     "metadata": {},
     "output_type": "execute_result"
    }
   ],
   "source": [
    "#find all category features\n",
    "columns_numberic = dataset_train.dtypes[dataset_train.dtypes != 'object'].index\n",
    "# print(columns_numberic)\n",
    "columns_string = dataset_train.columns.difference(columns_numberic)\n",
    "dataset_train[columns_string].head(10)\n",
    "# dataset_train[columns_string].head()\n",
    "\n",
    "# for column in columns_string:\n",
    "#     label_encoder = preprocessing.LabelEncoder()\n",
    "#     dataset_train[column] = label_encoder.fit_transform(dataset_train[column])\n",
    "\n",
    "# dataset_train.head()"
   ]
  },
  {
   "cell_type": "code",
   "execution_count": 8,
   "metadata": {
    "ExecuteTime": {
     "end_time": "2019-07-24T02:26:52.500376Z",
     "start_time": "2019-07-24T02:26:51.258988Z"
    },
    "scrolled": true
   },
   "outputs": [
    {
     "data": {
      "text/plain": [
       "<matplotlib.axes._subplots.AxesSubplot at 0x12a8304e0>"
      ]
     },
     "execution_count": 8,
     "metadata": {},
     "output_type": "execute_result"
    },
    {
     "data": {
      "image/png": "[encoded data removed]",
      "text/plain": [
       "<Figure size 1440x648 with 2 Axes>"
      ]
     },
     "metadata": {
      "needs_background": "light"
     },
     "output_type": "display_data"
    }
   ],
   "source": [
    "columns_string=['Neighborhood', 'CentralAir']\n",
    "for column in columns_string:\n",
    "    label_encoder = preprocessing.LabelEncoder()\n",
    "    dataset_train[column] = label_encoder.fit_transform(dataset_train[column])\n",
    "    \n",
    "corrmat = dataset_train.corr()\n",
    "f, ax = plt.subplots(figsize=(20, 9))\n",
    "sns.heatmap(corrmat, vmax=0.8, square=True)"
   ]
  },
  {
   "cell_type": "code",
   "execution_count": 7,
   "metadata": {
    "ExecuteTime": {
     "end_time": "2019-07-23T07:32:03.185381Z",
     "start_time": "2019-07-23T07:32:03.168317Z"
    }
   },
   "outputs": [
    {
     "data": {
      "text/html": [
       "<div>\n",
       "<style scoped>\n",
       "    .dataframe tbody tr th:only-of-type {\n",
       "        vertical-align: middle;\n",
       "    }\n",
       "\n",
       "    .dataframe tbody tr th {\n",
       "        vertical-align: top;\n",
       "    }\n",
       "\n",
       "    .dataframe thead th {\n",
       "        text-align: right;\n",
       "    }\n",
       "</style>\n",
       "<table border=\"1\" class=\"dataframe\">\n",
       "  <thead>\n",
       "    <tr style=\"text-align: right;\">\n",
       "      <th></th>\n",
       "      <th>Neighborhood</th>\n",
       "      <th>CentralAir</th>\n",
       "    </tr>\n",
       "  </thead>\n",
       "  <tbody>\n",
       "    <tr>\n",
       "      <th>0</th>\n",
       "      <td>5</td>\n",
       "      <td>1</td>\n",
       "    </tr>\n",
       "    <tr>\n",
       "      <th>1</th>\n",
       "      <td>24</td>\n",
       "      <td>1</td>\n",
       "    </tr>\n",
       "    <tr>\n",
       "      <th>2</th>\n",
       "      <td>5</td>\n",
       "      <td>1</td>\n",
       "    </tr>\n",
       "    <tr>\n",
       "      <th>3</th>\n",
       "      <td>6</td>\n",
       "      <td>1</td>\n",
       "    </tr>\n",
       "    <tr>\n",
       "      <th>4</th>\n",
       "      <td>15</td>\n",
       "      <td>1</td>\n",
       "    </tr>\n",
       "  </tbody>\n",
       "</table>\n",
       "</div>"
      ],
      "text/plain": [
       "   Neighborhood  CentralAir\n",
       "0             5           1\n",
       "1            24           1\n",
       "2             5           1\n",
       "3             6           1\n",
       "4            15           1"
      ]
     },
     "execution_count": 7,
     "metadata": {},
     "output_type": "execute_result"
    }
   ],
   "source": [
    "dataset_train[columns_string].head()"
   ]
  },
  {
   "cell_type": "markdown",
   "metadata": {},
   "source": [
    "# preprocess data"
   ]
  },
  {
   "cell_type": "code",
   "execution_count": 9,
   "metadata": {
    "ExecuteTime": {
     "end_time": "2019-07-24T02:26:54.694367Z",
     "start_time": "2019-07-24T02:26:54.532207Z"
    }
   },
   "outputs": [],
   "source": [
    "#concat train and test after filter column 'saleprice' in train , and remove column 'id'\n",
    "dataset_all = pd.concat([dataset_train.iloc[:,1:-1], dataset_test.iloc[:,1:]], axis=0, ignore_index=True)\n",
    "\n",
    "#normalize numberic variable\n",
    "features_numberic = dataset_all.dtypes[dataset_all.dtypes != 'object'].index\n",
    "dataset_all[features_numberic] = dataset_all[features_numberic].apply(lambda x : ((x - x.mean()) / x.std()))\n",
    "dataset_all[features_numberic] = dataset_all[features_numberic].fillna(0)\n",
    "\n",
    "#hot-encode discreted varaibale\n",
    "dataset_all = pd.get_dummies(dataset_all, dummy_na=True)"
   ]
  },
  {
   "cell_type": "code",
   "execution_count": null,
   "metadata": {},
   "outputs": [],
   "source": []
  },
  {
   "cell_type": "code",
   "execution_count": 10,
   "metadata": {
    "ExecuteTime": {
     "end_time": "2019-07-24T02:26:57.353975Z",
     "start_time": "2019-07-24T02:26:57.336021Z"
    }
   },
   "outputs": [
    {
     "name": "stdout",
     "output_type": "stream",
     "text": [
      "train_labels.shape= 1460\n",
      "train_X.shape= (1460, 358)\n",
      "test_X.shape= (1459, 358)\n"
     ]
    }
   ],
   "source": [
    "#split train and label dataset\n",
    "train_labels_origin = dataset_train['SalePrice']\n",
    "\n",
    "train_labels_mean = train_labels_origin.mean()\n",
    "train_labels_std = train_labels_origin.std()\n",
    "\n",
    "#normalize train label\n",
    "train_labels = (train_labels_origin - train_labels_mean ) / train_labels_std\n",
    "\n",
    "n_train = train_labels.shape[0]\n",
    "print(\"train_labels.shape=\", n_train)\n",
    "train_X = dataset_all.iloc[0:n_train, :]\n",
    "print(\"train_X.shape=\", train_X.shape)\n",
    "\n",
    "test_X = dataset_all.iloc[n_train: , :]\n",
    "print(\"test_X.shape=\", test_X.shape)"
   ]
  },
  {
   "cell_type": "code",
   "execution_count": 21,
   "metadata": {
    "ExecuteTime": {
     "end_time": "2019-07-24T03:03:15.190242Z",
     "start_time": "2019-07-24T03:03:15.177102Z"
    }
   },
   "outputs": [
    {
     "data": {
      "text/plain": [
       "0    208500\n",
       "1    181500\n",
       "2    223500\n",
       "3    140000\n",
       "4    250000\n",
       "Name: SalePrice, dtype: int64"
      ]
     },
     "execution_count": 21,
     "metadata": {},
     "output_type": "execute_result"
    }
   ],
   "source": [
    "# num_features = train_X.shape[1]\n",
    "# train_X.head()\n",
    "# print(num_features)\n",
    "# print(train_labels.values)\n",
    "train_labels_origin.head()"
   ]
  },
  {
   "cell_type": "markdown",
   "metadata": {},
   "source": [
    "# define model"
   ]
  },
  {
   "cell_type": "code",
   "execution_count": null,
   "metadata": {},
   "outputs": [],
   "source": []
  },
  {
   "cell_type": "code",
   "execution_count": 32,
   "metadata": {
    "ExecuteTime": {
     "end_time": "2019-07-24T05:48:23.105719Z",
     "start_time": "2019-07-24T05:48:23.097841Z"
    },
    "scrolled": true
   },
   "outputs": [],
   "source": [
    "def create_model(model_name):\n",
    "    model = tf.keras.models.Sequential(name=model_name)\n",
    "    model.add(tf.keras.layers.Dense(48, input_shape=(train_X.shape[1], ), activation=\"relu\"))\n",
    "    model.add(tf.keras.layers.Dropout(0.5))\n",
    "    model.add(tf.keras.layers.Dense(1))\n",
    "\n",
    "    optimizer = tf.keras.optimizers.RMSprop\n",
    "    model.compile(optimizer, loss=\"mse\") #平均均方对数误差\n",
    "#     model.summary()\n",
    "    return model"
   ]
  },
  {
   "cell_type": "markdown",
   "metadata": {},
   "source": [
    "# train model"
   ]
  },
  {
   "cell_type": "code",
   "execution_count": 38,
   "metadata": {
    "ExecuteTime": {
     "end_time": "2019-07-24T06:06:23.202130Z",
     "start_time": "2019-07-24T06:05:01.127309Z"
    },
    "scrolled": true
   },
   "outputs": [
    {
     "name": "stderr",
     "output_type": "stream",
     "text": [
      "/usr/local/lib/python3.7/site-packages/sklearn/model_selection/_split.py:657: Warning: The least populated class in y has only 1 members, which is too few. The minimum number of members in any class cannot be less than n_splits=10.\n",
      "  % (min_groups, self.n_splits)), Warning)\n"
     ]
    },
    {
     "name": "stdout",
     "output_type": "stream",
     "text": [
      "model-name=model-1, loss=0.09057522811972797, val-loss=0.11601629520350314\n",
      "model-name=model-2, loss=0.09220976035942063, val-loss=0.11804086844767293\n",
      "model-name=model-3, loss=0.07947729354810858, val-loss=0.5004830956459045\n",
      "model-name=model-4, loss=0.0833179079920373, val-loss=0.07526168604562809\n",
      "model-name=model-5, loss=0.08114466076279016, val-loss=0.08123548885312261\n",
      "model-name=model-6, loss=0.07428892784680093, val-loss=0.23426245300975068\n",
      "model-name=model-7, loss=0.10413475034817625, val-loss=0.08602774121623108\n",
      "model-name=model-8, loss=0.08053281014583197, val-loss=0.2309498217690623\n",
      "model-name=model-9, loss=0.09646561021283098, val-loss=0.08995490652673385\n",
      "model-name=model-10, loss=0.07931783084475666, val-loss=0.09498380359850432\n",
      "loss_kfold_mean=0.08614647801804813, loss_kfold_std=0.008846930777915074\n",
      "val_loss_kfold_mean=0.16272161603161134, val_loss_kfold_std=0.12573318443375503\n"
     ]
    }
   ],
   "source": [
    "# fix random seed for reproducibility\n",
    "seed = 7\n",
    "# define 10-fold cross validation test harness\n",
    "n_splits = 10\n",
    "kfold = StratifiedKFold(n_splits= n_splits, shuffle=True, random_state=seed)\n",
    "index = 1\n",
    "history_list = []\n",
    "for train_indices, validation_indices in kfold.split(train_X, train_labels_origin):\n",
    "    name = \"model-{}\".format(index)\n",
    "    model = create_model(name)\n",
    "    index = index + 1\n",
    "    \n",
    "    history = model.fit(train_X.iloc[train_indices], train_labels[train_indices],\n",
    "              batch_size = 128, epochs=100, verbose=0, \n",
    "              validation_data=(train_X.iloc[validation_indices],train_labels[validation_indices]))\n",
    "    history_list.append((name, history))\n",
    "    print(\"model-name={}, loss={}, val-loss={}\".format(name, history.history['loss'][-1], history.history['val_loss'][-1]))\n",
    "    \n",
    "    \n",
    "    \n",
    "loss_ls = []\n",
    "val_loss_ls = []\n",
    "\n",
    "for name, history in history_list:\n",
    "    loss_ls.append(history.history['loss'][-1])\n",
    "    val_loss_ls.append(history.history['val_loss'][-1])\n",
    "print('loss_kfold_mean={}, loss_kfold_std={}'.format(np.mean(loss_ls), np.std(loss_ls)))\n",
    "print('val_loss_kfold_mean={}, val_loss_kfold_std={}'.format(np.mean(val_loss_ls), np.std(val_loss_ls)))"
   ]
  },
  {
   "cell_type": "code",
   "execution_count": 37,
   "metadata": {
    "ExecuteTime": {
     "end_time": "2019-07-24T06:04:51.415493Z",
     "start_time": "2019-07-24T06:04:51.389787Z"
    }
   },
   "outputs": [
    {
     "ename": "SyntaxError",
     "evalue": "can't assign to literal (<ipython-input-37-93adface9399>, line 2)",
     "output_type": "error",
     "traceback": [
      "\u001b[0;36m  File \u001b[0;32m\"<ipython-input-37-93adface9399>\"\u001b[0;36m, line \u001b[0;32m2\u001b[0m\n\u001b[0;31m    loss_kfold_mean=0.08615403612487263, loss_kfold_std=0.006300540024199064\u001b[0m\n\u001b[0m                   ^\u001b[0m\n\u001b[0;31mSyntaxError\u001b[0m\u001b[0;31m:\u001b[0m can't assign to literal\n"
     ]
    }
   ],
   "source": [
    "output_size = 64\n",
    "loss_kfold_mean=0.08615403612487263, loss_kfold_std=0.006300540024199064\n",
    "val_loss_kfold_mean=0.17164413807207218, val_loss_kfold_std=0.14321114171971097"
   ]
  },
  {
   "cell_type": "code",
   "execution_count": 50,
   "metadata": {
    "ExecuteTime": {
     "end_time": "2019-07-23T09:32:46.134583Z",
     "start_time": "2019-07-23T09:32:45.926428Z"
    }
   },
   "outputs": [
    {
     "data": {
      "image/png": "[encoded data removed]",
      "text/plain": [
       "<Figure size 432x288 with 1 Axes>"
      ]
     },
     "metadata": {
      "needs_background": "light"
     },
     "output_type": "display_data"
    }
   ],
   "source": [
    "df_his = pd.DataFrame(history.history)\n",
    "df_his.plot()\n",
    "plt.show()"
   ]
  },
  {
   "cell_type": "code",
   "execution_count": 51,
   "metadata": {
    "ExecuteTime": {
     "end_time": "2019-07-23T09:32:53.939234Z",
     "start_time": "2019-07-23T09:32:53.649851Z"
    }
   },
   "outputs": [],
   "source": [
    "train_label_predicted = model.predict(train_X) \n",
    "train_label_predicted = train_label_predicted * train_labels_std + train_labels_mean"
   ]
  },
  {
   "cell_type": "code",
   "execution_count": 52,
   "metadata": {
    "ExecuteTime": {
     "end_time": "2019-07-23T09:32:56.512034Z",
     "start_time": "2019-07-23T09:32:56.280498Z"
    }
   },
   "outputs": [
    {
     "data": {
      "image/png": "[encoded data removed]",
      "text/plain": [
       "<Figure size 432x288 with 1 Axes>"
      ]
     },
     "metadata": {
      "needs_background": "light"
     },
     "output_type": "display_data"
    }
   ],
   "source": [
    "plt.figure()\n",
    "plt.scatter(train_labels_origin, train_label_predicted)\n",
    "plt.xlabel(\"train_labels\")\n",
    "plt.ylabel(\"train_label_predicted\")\n",
    "plt.plot()\n",
    "plt.show()"
   ]
  },
  {
   "cell_type": "markdown",
   "metadata": {},
   "source": [
    "# predict "
   ]
  },
  {
   "cell_type": "code",
   "execution_count": 53,
   "metadata": {
    "ExecuteTime": {
     "end_time": "2019-07-23T09:32:59.424569Z",
     "start_time": "2019-07-23T09:32:59.368087Z"
    }
   },
   "outputs": [],
   "source": [
    "results = model.predict(test_X) \n",
    "results  = results * train_labels_std + train_labels_mean "
   ]
  },
  {
   "cell_type": "code",
   "execution_count": 54,
   "metadata": {
    "ExecuteTime": {
     "end_time": "2019-07-23T09:33:02.197428Z",
     "start_time": "2019-07-23T09:33:02.187400Z"
    }
   },
   "outputs": [
    {
     "name": "stdout",
     "output_type": "stream",
     "text": [
      "test_x.shape=1459,  result.shape=1459\n"
     ]
    }
   ],
   "source": [
    "results = results.reshape(1,-1)[0]\n",
    "print('test_x.shape={},  result.shape={}'.format(test_X.shape[0], len(results)))\n",
    "dataset_test[\"SalePrice\"] = pd.Series(results)"
   ]
  },
  {
   "cell_type": "code",
   "execution_count": 55,
   "metadata": {
    "ExecuteTime": {
     "end_time": "2019-07-23T09:33:04.632853Z",
     "start_time": "2019-07-23T09:33:04.607509Z"
    }
   },
   "outputs": [
    {
     "data": {
      "text/html": [
       "<div>\n",
       "<style scoped>\n",
       "    .dataframe tbody tr th:only-of-type {\n",
       "        vertical-align: middle;\n",
       "    }\n",
       "\n",
       "    .dataframe tbody tr th {\n",
       "        vertical-align: top;\n",
       "    }\n",
       "\n",
       "    .dataframe thead th {\n",
       "        text-align: right;\n",
       "    }\n",
       "</style>\n",
       "<table border=\"1\" class=\"dataframe\">\n",
       "  <thead>\n",
       "    <tr style=\"text-align: right;\">\n",
       "      <th></th>\n",
       "      <th>Id</th>\n",
       "      <th>SalePrice</th>\n",
       "    </tr>\n",
       "  </thead>\n",
       "  <tbody>\n",
       "    <tr>\n",
       "      <th>0</th>\n",
       "      <td>1461</td>\n",
       "      <td>127911.875000</td>\n",
       "    </tr>\n",
       "    <tr>\n",
       "      <th>1</th>\n",
       "      <td>1462</td>\n",
       "      <td>138830.171875</td>\n",
       "    </tr>\n",
       "    <tr>\n",
       "      <th>2</th>\n",
       "      <td>1463</td>\n",
       "      <td>183079.937500</td>\n",
       "    </tr>\n",
       "    <tr>\n",
       "      <th>3</th>\n",
       "      <td>1464</td>\n",
       "      <td>180800.281250</td>\n",
       "    </tr>\n",
       "    <tr>\n",
       "      <th>4</th>\n",
       "      <td>1465</td>\n",
       "      <td>175369.546875</td>\n",
       "    </tr>\n",
       "  </tbody>\n",
       "</table>\n",
       "</div>"
      ],
      "text/plain": [
       "     Id      SalePrice\n",
       "0  1461  127911.875000\n",
       "1  1462  138830.171875\n",
       "2  1463  183079.937500\n",
       "3  1464  180800.281250\n",
       "4  1465  175369.546875"
      ]
     },
     "execution_count": 55,
     "metadata": {},
     "output_type": "execute_result"
    }
   ],
   "source": [
    "submission = pd.concat([dataset_test['Id'], dataset_test['SalePrice']], axis = 1)\n",
    "submission.to_csv(\"submission.csv\", index = False, mode=\"w\")\n",
    "submission.head()"
   ]
  },
  {
   "cell_type": "code",
   "execution_count": null,
   "metadata": {},
   "outputs": [],
   "source": []
  }
 ],
 "metadata": {
  "kernelspec": {
   "display_name": "Python 3",
   "language": "python",
   "name": "python3"
  },
  "language_info": {
   "codemirror_mode": {
    "name": "ipython",
    "version": 3
   },
   "file_extension": ".py",
   "mimetype": "text/x-python",
   "name": "python",
   "nbconvert_exporter": "python",
   "pygments_lexer": "ipython3",
   "version": "3.7.2"
  },
  "toc": {
   "base_numbering": 1,
   "nav_menu": {},
   "number_sections": true,
   "sideBar": true,
   "skip_h1_title": false,
   "title_cell": "Table of Contents",
   "title_sidebar": "Contents",
   "toc_cell": false,
   "toc_position": {},
   "toc_section_display": true,
   "toc_window_display": true
  },
  "varInspector": {
   "cols": {
    "lenName": 16,
    "lenType": 16,
    "lenVar": 40
   },
   "kernels_config": {
    "python": {
     "delete_cmd_postfix": "",
     "delete_cmd_prefix": "del ",
     "library": "var_list.py",
     "varRefreshCmd": "print(var_dic_list())"
    },
    "r": {
     "delete_cmd_postfix": ") ",
     "delete_cmd_prefix": "rm(",
     "library": "var_list.r",
     "varRefreshCmd": "cat(var_dic_list()) "
    }
   },
   "position": {
    "height": "407px",
    "left": "1049px",
    "right": "20px",
    "top": "122px",
    "width": "350px"
   },
   "types_to_exclude": [
    "module",
    "function",
    "builtin_function_or_method",
    "instance",
    "_Feature"
   ],
   "window_display": false
  }
 },
 "nbformat": 4,
 "nbformat_minor": 2
}
