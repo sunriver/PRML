{
 "cells": [
  {
   "cell_type": "markdown",
   "metadata": {},
   "source": [
    "# import lib"
   ]
  },
  {
   "cell_type": "code",
   "execution_count": 1,
   "metadata": {
    "ExecuteTime": {
     "end_time": "2019-08-05T01:47:49.755900Z",
     "start_time": "2019-08-05T01:47:49.747683Z"
    }
   },
   "outputs": [],
   "source": [
    "#dataset is  'https://www.kaggle.com/c/house-prices-advanced-regression-techniques'\n",
    "#refer https://www.kaggle.com/marsggbo/kaggle/comments#%E4%BA%8C%E3%80%81%E8%A7%82%E5%AF%9F%E5%90%84%E9%A1%B9%E4%B8%BB%E8%A6%81%E7%89%B9%E5%BE%81%E4%B8%8E%E6%88%BF%E5%B1%8B%E5%94%AE%E4%BB%B7%E7%9A%84%E5%85%B3%E7%B3%BB"
   ]
  },
  {
   "cell_type": "code",
   "execution_count": 1,
   "metadata": {
    "ExecuteTime": {
     "end_time": "2019-08-27T06:29:32.744794Z",
     "start_time": "2019-08-27T06:29:26.055390Z"
    }
   },
   "outputs": [
    {
     "name": "stdout",
     "output_type": "stream",
     "text": [
      "Pixiedust database opened successfully\n"
     ]
    },
    {
     "data": {
      "text/html": [
       "\n",
       "        <div style=\"margin:10px\">\n",
       "            <a href=\"https://github.com/ibm-watson-data-lab/pixiedust\" target=\"_new\">\n",
       "                <img src=\"https://github.com/ibm-watson-data-lab/pixiedust/raw/master/docs/_static/pd_icon32.png\" style=\"float:left;margin-right:10px\"/>\n",
       "            </a>\n",
       "            <span>Pixiedust version 1.1.17</span>\n",
       "        </div>\n",
       "        "
      ],
      "text/plain": [
       "<IPython.core.display.HTML object>"
      ]
     },
     "metadata": {},
     "output_type": "display_data"
    },
    {
     "name": "stdout",
     "output_type": "stream",
     "text": [
      "1.13.1\n"
     ]
    }
   ],
   "source": [
    "import pandas as pd\n",
    "import numpy as np\n",
    "from sklearn import preprocessing\n",
    "from sklearn.preprocessing import StandardScaler\n",
    "\n",
    "import matplotlib.pyplot as plt\n",
    "import seaborn as sns\n",
    "\n",
    "# !pip3 install -q tensorflow==2.0.0-beta1\n",
    "import tensorflow as tf\n",
    "\n",
    "import pixiedust\n",
    "print(tf.__version__)\n",
    "\n",
    "import os \n",
    "import sys \n",
    "module_path = os.path.abspath(os.path.join('..')) \n",
    "if module_path not in sys.path: \n",
    "    sys.path.append(module_path)\n",
    "\n",
    "# import sklearn.preprocessing"
   ]
  },
  {
   "cell_type": "markdown",
   "metadata": {},
   "source": [
    "# load data"
   ]
  },
  {
   "cell_type": "code",
   "execution_count": 3,
   "metadata": {
    "ExecuteTime": {
     "end_time": "2019-08-27T06:29:45.674003Z",
     "start_time": "2019-08-27T06:29:45.604232Z"
    }
   },
   "outputs": [],
   "source": [
    "dataset_train = pd.read_csv(\"train.csv\")\n",
    "dataset_test = pd.read_csv(\"test.csv\")\n",
    "\n",
    "\n",
    "# dataset_train.head()\n",
    "# dataset_train.describe()\n"
   ]
  },
  {
   "cell_type": "markdown",
   "metadata": {},
   "source": [
    "# preprocess data"
   ]
  },
  {
   "cell_type": "code",
   "execution_count": null,
   "metadata": {},
   "outputs": [],
   "source": [
    "from mypackage.data_printer import DataPrinter\n",
    "DataPrinter.print_highly_related_features(dataset_train, 'SalePrice', 0.1)"
   ]
  },
  {
   "cell_type": "code",
   "execution_count": null,
   "metadata": {},
   "outputs": [],
   "source": [
    "high_related_features = ['MSZoning', 'LotFrontage', 'LotArea', 'LotShape', 'Neighborhood',\n",
    "       'HouseStyle', 'OverallQual', 'YearBuilt', 'YearRemodAdd', 'RoofStyle',\n",
    "       'RoofMatl', 'Exterior1st', 'Exterior2nd', 'MasVnrArea', 'ExterQual',\n",
    "       'ExterCond', 'Foundation', 'BsmtQual', 'BsmtExposure', 'BsmtFinSF1',\n",
    "       'BsmtUnfSF', 'TotalBsmtSF', 'HeatingQC', 'CentralAir', 'Electrical',\n",
    "       '1stFlrSF', '2ndFlrSF', 'GrLivArea', 'BsmtFullBath', 'FullBath',\n",
    "       'HalfBath', 'BedroomAbvGr', 'KitchenAbvGr', 'KitchenQual',\n",
    "       'TotRmsAbvGrd', 'Functional', 'Fireplaces', 'GarageType', 'GarageYrBlt',\n",
    "       'GarageFinish', 'GarageCars', 'GarageArea', 'GarageCond', 'PavedDrive',\n",
    "       'WoodDeckSF', 'OpenPorchSF', 'EnclosedPorch', 'ScreenPorch', 'PoolQC',\n",
    "       'SaleCondition']\n",
    "\n",
    "from mypackage.data_handler import get_train_X\n",
    "from mypackage.data_handler import get_test_X\n",
    "from mypackage.data_handler import match_columns_for_text_X\n",
    "\n",
    "\n",
    "train_X = get_train_X(dataset_train[high_related_features])\n",
    "train_y = np.log1p(dataset_train['SalePrice'])\n",
    "\n",
    "test_X = get_test_X(dataset_test[high_related_features])\n",
    "test_X = match_columns_for_text_X(test_X, train_X)\n"
   ]
  },
  {
   "cell_type": "markdown",
   "metadata": {},
   "source": [
    "# define model"
   ]
  },
  {
   "cell_type": "code",
   "execution_count": 7,
   "metadata": {
    "ExecuteTime": {
     "end_time": "2019-08-27T06:30:31.933802Z",
     "start_time": "2019-08-27T06:30:31.763604Z"
    },
    "scrolled": true
   },
   "outputs": [
    {
     "name": "stdout",
     "output_type": "stream",
     "text": [
      "_________________________________________________________________\n",
      "Layer (type)                 Output Shape              Param #   \n",
      "=================================================================\n",
      "dense_3 (Dense)              (None, 1)                 186       \n",
      "_________________________________________________________________\n",
      "dense_4 (Dense)              (None, 1)                 2         \n",
      "_________________________________________________________________\n",
      "dense_5 (Dense)              (None, 1)                 2         \n",
      "=================================================================\n",
      "Total params: 190\n",
      "Trainable params: 190\n",
      "Non-trainable params: 0\n",
      "_________________________________________________________________\n"
     ]
    }
   ],
   "source": [
    "\n",
    "# print('{} num_features'.format(num_features))\n",
    "model = tf.keras.models.Sequential()\n",
    "model.add(tf.keras.layers.Dense(1, input_shape=(train_X.shape[1], ), activation=\"relu\"))\n",
    "# model.add(tf.keras.layers.Dropout(0.2))\n",
    "model.add(tf.keras.layers.Dense(1))\n",
    "model.add(tf.keras.layers.Dense(1))\n",
    "\n",
    "optimizer = tf.keras.optimizers.Adam()\n",
    "metrics = [tf.keras.metrics.MAPE]\n",
    "# loss = tf.keras.losses.MSLE\n",
    "model.compile(optimizer, loss=tf.keras.losses.MSLE, metrics = metrics) #平均均方对数误差\n",
    "# model.compile(optimizer, loss=tf.keras.losses.MeanSquaredLogarithmicError()) #rmsle\n",
    "model.summary()"
   ]
  },
  {
   "cell_type": "markdown",
   "metadata": {},
   "source": [
    "# train model"
   ]
  },
  {
   "cell_type": "code",
   "execution_count": 8,
   "metadata": {
    "ExecuteTime": {
     "end_time": "2019-08-27T06:30:38.826327Z",
     "start_time": "2019-08-27T06:30:36.153190Z"
    },
    "scrolled": false
   },
   "outputs": [
    {
     "name": "stdout",
     "output_type": "stream",
     "text": [
      "Train on 1314 samples, validate on 146 samples\n",
      "Epoch 1/40\n",
      "1314/1314 [==============================] - 0s 190us/sample - loss: 5.7463 - mean_absolute_percentage_error: 98.3744 - val_loss: 5.4308 - val_mean_absolute_percentage_error: 97.7066\n",
      "Epoch 2/40\n",
      "1314/1314 [==============================] - 0s 24us/sample - loss: 5.1733 - mean_absolute_percentage_error: 97.0423 - val_loss: 4.8427 - val_mean_absolute_percentage_error: 96.2188\n",
      "Epoch 3/40\n",
      "1314/1314 [==============================] - 0s 25us/sample - loss: 4.5842 - mean_absolute_percentage_error: 95.4306 - val_loss: 4.2621 - val_mean_absolute_percentage_error: 94.4622\n",
      "Epoch 4/40\n",
      "1314/1314 [==============================] - 0s 34us/sample - loss: 4.0153 - mean_absolute_percentage_error: 93.5545 - val_loss: 3.7149 - val_mean_absolute_percentage_error: 92.4532\n",
      "Epoch 5/40\n",
      "1314/1314 [==============================] - 0s 37us/sample - loss: 3.4920 - mean_absolute_percentage_error: 91.4479 - val_loss: 3.2242 - val_mean_absolute_percentage_error: 90.2371\n",
      "Epoch 6/40\n",
      "1314/1314 [==============================] - 0s 39us/sample - loss: 3.0283 - mean_absolute_percentage_error: 89.1542 - val_loss: 2.7916 - val_mean_absolute_percentage_error: 87.8545\n",
      "Epoch 7/40\n",
      "1314/1314 [==============================] - 0s 30us/sample - loss: 2.6206 - mean_absolute_percentage_error: 86.7101 - val_loss: 2.4161 - val_mean_absolute_percentage_error: 85.3399\n",
      "Epoch 8/40\n",
      "1314/1314 [==============================] - 0s 28us/sample - loss: 2.2679 - mean_absolute_percentage_error: 84.1473 - val_loss: 2.0917 - val_mean_absolute_percentage_error: 82.7263\n",
      "Epoch 9/40\n",
      "1314/1314 [==============================] - 0s 37us/sample - loss: 1.9633 - mean_absolute_percentage_error: 81.4943 - val_loss: 1.8116 - val_mean_absolute_percentage_error: 80.0332\n",
      "Epoch 10/40\n",
      "1314/1314 [==============================] - 0s 36us/sample - loss: 1.7012 - mean_absolute_percentage_error: 78.7828 - val_loss: 1.5710 - val_mean_absolute_percentage_error: 77.2966\n",
      "Epoch 11/40\n",
      "1314/1314 [==============================] - 0s 40us/sample - loss: 1.4755 - mean_absolute_percentage_error: 76.0256 - val_loss: 1.3631 - val_mean_absolute_percentage_error: 74.5201\n",
      "Epoch 12/40\n",
      "1314/1314 [==============================] - 0s 38us/sample - loss: 1.2812 - mean_absolute_percentage_error: 73.2450 - val_loss: 1.1839 - val_mean_absolute_percentage_error: 71.7296\n",
      "Epoch 13/40\n",
      "1314/1314 [==============================] - 0s 38us/sample - loss: 1.1135 - mean_absolute_percentage_error: 70.4561 - val_loss: 1.0293 - val_mean_absolute_percentage_error: 68.9396\n",
      "Epoch 14/40\n",
      "1314/1314 [==============================] - 0s 40us/sample - loss: 0.9685 - mean_absolute_percentage_error: 67.6730 - val_loss: 0.8956 - val_mean_absolute_percentage_error: 66.1619\n",
      "Epoch 15/40\n",
      "1314/1314 [==============================] - 0s 33us/sample - loss: 0.8430 - mean_absolute_percentage_error: 64.9080 - val_loss: 0.7796 - val_mean_absolute_percentage_error: 63.4052\n",
      "Epoch 16/40\n",
      "1314/1314 [==============================] - 0s 38us/sample - loss: 0.7341 - mean_absolute_percentage_error: 62.1648 - val_loss: 0.6788 - val_mean_absolute_percentage_error: 60.6727\n",
      "Epoch 17/40\n",
      "1314/1314 [==============================] - 0s 38us/sample - loss: 0.6394 - mean_absolute_percentage_error: 59.4558 - val_loss: 0.5914 - val_mean_absolute_percentage_error: 57.9845\n",
      "Epoch 18/40\n",
      "1314/1314 [==============================] - 0s 33us/sample - loss: 0.5572 - mean_absolute_percentage_error: 56.7933 - val_loss: 0.5153 - val_mean_absolute_percentage_error: 55.3418\n",
      "Epoch 19/40\n",
      "1314/1314 [==============================] - 0s 64us/sample - loss: 0.4856 - mean_absolute_percentage_error: 54.1729 - val_loss: 0.4489 - val_mean_absolute_percentage_error: 52.7454\n",
      "Epoch 20/40\n",
      "1314/1314 [==============================] - 0s 30us/sample - loss: 0.4231 - mean_absolute_percentage_error: 51.6072 - val_loss: 0.3911 - val_mean_absolute_percentage_error: 50.2084\n",
      "Epoch 21/40\n",
      "1314/1314 [==============================] - 0s 32us/sample - loss: 0.3686 - mean_absolute_percentage_error: 49.1006 - val_loss: 0.3406 - val_mean_absolute_percentage_error: 47.7290\n",
      "Epoch 22/40\n",
      "1314/1314 [==============================] - 0s 28us/sample - loss: 0.3211 - mean_absolute_percentage_error: 46.6532 - val_loss: 0.2965 - val_mean_absolute_percentage_error: 45.3120\n",
      "Epoch 23/40\n",
      "1314/1314 [==============================] - 0s 33us/sample - loss: 0.2796 - mean_absolute_percentage_error: 44.2680 - val_loss: 0.2580 - val_mean_absolute_percentage_error: 42.9587\n",
      "Epoch 24/40\n",
      "1314/1314 [==============================] - 0s 28us/sample - loss: 0.2434 - mean_absolute_percentage_error: 41.9512 - val_loss: 0.2244 - val_mean_absolute_percentage_error: 40.6785\n",
      "Epoch 25/40\n",
      "1314/1314 [==============================] - 0s 35us/sample - loss: 0.2117 - mean_absolute_percentage_error: 39.7123 - val_loss: 0.1951 - val_mean_absolute_percentage_error: 38.4756\n",
      "Epoch 26/40\n",
      "1314/1314 [==============================] - 0s 34us/sample - loss: 0.1841 - mean_absolute_percentage_error: 37.5439 - val_loss: 0.1695 - val_mean_absolute_percentage_error: 36.3403\n",
      "Epoch 27/40\n",
      "1314/1314 [==============================] - 0s 34us/sample - loss: 0.1599 - mean_absolute_percentage_error: 35.4501 - val_loss: 0.1471 - val_mean_absolute_percentage_error: 34.2845\n",
      "Epoch 28/40\n",
      "1314/1314 [==============================] - 0s 31us/sample - loss: 0.1388 - mean_absolute_percentage_error: 33.4250 - val_loss: 0.1276 - val_mean_absolute_percentage_error: 32.2952\n",
      "Epoch 29/40\n",
      "1314/1314 [==============================] - 0s 30us/sample - loss: 0.1204 - mean_absolute_percentage_error: 31.4762 - val_loss: 0.1105 - val_mean_absolute_percentage_error: 30.3855\n",
      "Epoch 30/40\n",
      "1314/1314 [==============================] - 0s 34us/sample - loss: 0.1043 - mean_absolute_percentage_error: 29.6053 - val_loss: 0.0957 - val_mean_absolute_percentage_error: 28.5514\n",
      "Epoch 31/40\n",
      "1314/1314 [==============================] - 0s 32us/sample - loss: 0.0904 - mean_absolute_percentage_error: 27.8109 - val_loss: 0.0827 - val_mean_absolute_percentage_error: 26.7950\n",
      "Epoch 32/40\n",
      "1314/1314 [==============================] - 0s 33us/sample - loss: 0.0781 - mean_absolute_percentage_error: 26.0920 - val_loss: 0.0715 - val_mean_absolute_percentage_error: 25.1144\n",
      "Epoch 33/40\n",
      "1314/1314 [==============================] - 0s 30us/sample - loss: 0.0675 - mean_absolute_percentage_error: 24.4445 - val_loss: 0.0617 - val_mean_absolute_percentage_error: 23.5038\n",
      "Epoch 34/40\n",
      "1314/1314 [==============================] - 0s 40us/sample - loss: 0.0583 - mean_absolute_percentage_error: 22.8701 - val_loss: 0.0531 - val_mean_absolute_percentage_error: 21.9645\n",
      "Epoch 35/40\n",
      "1314/1314 [==============================] - 0s 43us/sample - loss: 0.0503 - mean_absolute_percentage_error: 21.3724 - val_loss: 0.0458 - val_mean_absolute_percentage_error: 20.5044\n",
      "Epoch 36/40\n",
      "1314/1314 [==============================] - 0s 30us/sample - loss: 0.0433 - mean_absolute_percentage_error: 19.9485 - val_loss: 0.0394 - val_mean_absolute_percentage_error: 19.1171\n",
      "Epoch 37/40\n",
      "1314/1314 [==============================] - 0s 32us/sample - loss: 0.0373 - mean_absolute_percentage_error: 18.5938 - val_loss: 0.0338 - val_mean_absolute_percentage_error: 17.7965\n",
      "Epoch 38/40\n",
      "1314/1314 [==============================] - 0s 32us/sample - loss: 0.0321 - mean_absolute_percentage_error: 17.3095 - val_loss: 0.0290 - val_mean_absolute_percentage_error: 16.5462\n",
      "Epoch 39/40\n",
      "1314/1314 [==============================] - 0s 31us/sample - loss: 0.0276 - mean_absolute_percentage_error: 16.0914 - val_loss: 0.0249 - val_mean_absolute_percentage_error: 15.3607\n",
      "Epoch 40/40\n",
      "1314/1314 [==============================] - 0s 32us/sample - loss: 0.0237 - mean_absolute_percentage_error: 14.9377 - val_loss: 0.0213 - val_mean_absolute_percentage_error: 14.2379\n"
     ]
    }
   ],
   "source": [
    "# early_stopping = tf.keras.callbacks.EarlyStopping(monitor='val_loss', patience=5, verbose=2)\n",
    "history = model.fit(train_X, train_y, batch_size=64, epochs=40, validation_split=0.1)"
   ]
  },
  {
   "cell_type": "code",
   "execution_count": 9,
   "metadata": {
    "ExecuteTime": {
     "end_time": "2019-08-27T06:30:48.134908Z",
     "start_time": "2019-08-27T06:30:47.697551Z"
    },
    "scrolled": true
   },
   "outputs": [
    {
     "data": {
      "text/plain": [
       "<Figure size 432x288 with 0 Axes>"
      ]
     },
     "metadata": {},
     "output_type": "display_data"
    },
    {
     "data": {
      "image/png": "[encoded data removed]",
      "text/plain": [
       "<Figure size 432x288 with 1 Axes>"
      ]
     },
     "metadata": {
      "needs_background": "light"
     },
     "output_type": "display_data"
    },
    {
     "data": {
      "text/plain": [
       "<Figure size 432x288 with 0 Axes>"
      ]
     },
     "metadata": {},
     "output_type": "display_data"
    },
    {
     "data": {
      "image/png": "[encoded data removed]",
      "text/plain": [
       "<Figure size 432x288 with 1 Axes>"
      ]
     },
     "metadata": {
      "needs_background": "light"
     },
     "output_type": "display_data"
    }
   ],
   "source": [
    "# his_dict = history.history['loss']\n",
    "plt.figure()\n",
    "df_his = pd.DataFrame({\"loss\" : history.history['loss'], \"val_loss\" : history.history['val_loss']})\n",
    "df_his.plot()\n",
    "\n",
    "plt.figure()\n",
    "df_his = pd.DataFrame({\"mean_squared_error\" : history.history['mean_absolute_percentage_error'], \"val_mean_absolute_percentage_error\" : history.history['val_loss']})\n",
    "df_his.plot()\n",
    "\n",
    "plt.show()"
   ]
  },
  {
   "cell_type": "code",
   "execution_count": 10,
   "metadata": {
    "ExecuteTime": {
     "end_time": "2019-08-27T06:30:53.437288Z",
     "start_time": "2019-08-27T06:30:53.122752Z"
    }
   },
   "outputs": [
    {
     "data": {
      "image/png": "[encoded data removed]",
      "text/plain": [
       "<Figure size 576x576 with 1 Axes>"
      ]
     },
     "metadata": {
      "needs_background": "light"
     },
     "output_type": "display_data"
    }
   ],
   "source": [
    "label_origin = np.expm1(train_y)\n",
    "\n",
    "train_label_predicted = model.predict(train_X) \n",
    "train_label_predicted = np.expm1(train_label_predicted)\n",
    "\n",
    "plt.figure(figsize=(8, 8))\n",
    "plt.scatter(label_origin, train_label_predicted)\n",
    "plt.xlim(40000, 1000000)\n",
    "plt.ylim(40000, 1000000)\n",
    "plt.plot([0, 1000000], [0, 1000000])\n",
    "plt.xlabel(\"train_label\")\n",
    "plt.ylabel(\"train_label_predicted\")\n",
    "plt.show()"
   ]
  },
  {
   "cell_type": "markdown",
   "metadata": {},
   "source": [
    "# predict "
   ]
  },
  {
   "cell_type": "code",
   "execution_count": 12,
   "metadata": {
    "ExecuteTime": {
     "end_time": "2019-08-27T03:12:36.473225Z",
     "start_time": "2019-08-27T03:12:36.116656Z"
    },
    "pixiedust": {
     "displayParams": {}
    }
   },
   "outputs": [
    {
     "data": {
      "text/plain": [
       "array([[2669.6345],\n",
       "       [3305.5088],\n",
       "       [3025.123 ],\n",
       "       ...,\n",
       "       [5219.9883],\n",
       "       [4141.37  ],\n",
       "       [8602.6455]], dtype=float32)"
      ]
     },
     "metadata": {},
     "output_type": "display_data"
    }
   ],
   "source": [
    "results = model.predict(test_X) \n",
    "results  = np.expm1(results)\n",
    "display(results)"
   ]
  },
  {
   "cell_type": "code",
   "execution_count": 13,
   "metadata": {
    "ExecuteTime": {
     "end_time": "2019-08-27T03:12:40.091270Z",
     "start_time": "2019-08-27T03:12:40.085224Z"
    }
   },
   "outputs": [
    {
     "name": "stdout",
     "output_type": "stream",
     "text": [
      "test_x.shape=1459,  result.shape=1459\n"
     ]
    }
   ],
   "source": [
    "results = results.reshape(1,-1)[0]\n",
    "print('test_x.shape={},  result.shape={}'.format(test_X.shape[0], len(results)))\n",
    "dataset_test[\"SalePrice\"] = pd.Series(results)"
   ]
  },
  {
   "cell_type": "code",
   "execution_count": 14,
   "metadata": {
    "ExecuteTime": {
     "end_time": "2019-08-27T03:12:46.387645Z",
     "start_time": "2019-08-27T03:12:46.366178Z"
    }
   },
   "outputs": [
    {
     "data": {
      "text/html": [
       "<div>\n",
       "<style scoped>\n",
       "    .dataframe tbody tr th:only-of-type {\n",
       "        vertical-align: middle;\n",
       "    }\n",
       "\n",
       "    .dataframe tbody tr th {\n",
       "        vertical-align: top;\n",
       "    }\n",
       "\n",
       "    .dataframe thead th {\n",
       "        text-align: right;\n",
       "    }\n",
       "</style>\n",
       "<table border=\"1\" class=\"dataframe\">\n",
       "  <thead>\n",
       "    <tr style=\"text-align: right;\">\n",
       "      <th></th>\n",
       "      <th>Id</th>\n",
       "      <th>SalePrice</th>\n",
       "    </tr>\n",
       "  </thead>\n",
       "  <tbody>\n",
       "    <tr>\n",
       "      <th>0</th>\n",
       "      <td>1461</td>\n",
       "      <td>2669.634521</td>\n",
       "    </tr>\n",
       "    <tr>\n",
       "      <th>1</th>\n",
       "      <td>1462</td>\n",
       "      <td>3305.508789</td>\n",
       "    </tr>\n",
       "    <tr>\n",
       "      <th>2</th>\n",
       "      <td>1463</td>\n",
       "      <td>3025.123047</td>\n",
       "    </tr>\n",
       "    <tr>\n",
       "      <th>3</th>\n",
       "      <td>1464</td>\n",
       "      <td>2594.464355</td>\n",
       "    </tr>\n",
       "    <tr>\n",
       "      <th>4</th>\n",
       "      <td>1465</td>\n",
       "      <td>4546.343262</td>\n",
       "    </tr>\n",
       "  </tbody>\n",
       "</table>\n",
       "</div>"
      ],
      "text/plain": [
       "     Id    SalePrice\n",
       "0  1461  2669.634521\n",
       "1  1462  3305.508789\n",
       "2  1463  3025.123047\n",
       "3  1464  2594.464355\n",
       "4  1465  4546.343262"
      ]
     },
     "execution_count": 14,
     "metadata": {},
     "output_type": "execute_result"
    }
   ],
   "source": [
    "submission = pd.concat([dataset_test['Id'], dataset_test['SalePrice']], axis = 1)\n",
    "submission.to_csv(\"submission.csv\", index = False, mode=\"w\")\n",
    "submission.head()"
   ]
  },
  {
   "cell_type": "code",
   "execution_count": 15,
   "metadata": {
    "ExecuteTime": {
     "end_time": "2019-08-27T03:12:51.422030Z",
     "start_time": "2019-08-27T03:12:51.114792Z"
    }
   },
   "outputs": [
    {
     "data": {
      "text/plain": [
       "<matplotlib.collections.PathCollection at 0x12a42a080>"
      ]
     },
     "execution_count": 15,
     "metadata": {},
     "output_type": "execute_result"
    },
    {
     "data": {
      "image/png": "[encoded data removed]",
      "text/plain": [
       "<Figure size 576x576 with 1 Axes>"
      ]
     },
     "metadata": {
      "needs_background": "light"
     },
     "output_type": "display_data"
    }
   ],
   "source": [
    "#compare to sample_submission\n",
    "df_sample_submission = pd.read_csv('sample_submission.csv')\n",
    "\n",
    "y_submission = results\n",
    "y_submission_sample = df_sample_submission['SalePrice']\n",
    "plt.figure(figsize=(8, 8))\n",
    "# plt.xlim(40000, 1000000)\n",
    "# plt.ylim(40000, 1000000)\n",
    "# plt.plot([0, 1000000], [0, 1000000])\n",
    "plt.xlabel('y_results')\n",
    "plt.ylabel('y_sample')\n",
    "plt.scatter(y_submission, y_submission_sample)"
   ]
  },
  {
   "cell_type": "code",
   "execution_count": null,
   "metadata": {},
   "outputs": [],
   "source": []
  }
 ],
 "metadata": {
  "kernelspec": {
   "display_name": "Python 3",
   "language": "python",
   "name": "python3"
  },
  "language_info": {
   "codemirror_mode": {
    "name": "ipython",
    "version": 3
   },
   "file_extension": ".py",
   "mimetype": "text/x-python",
   "name": "python",
   "nbconvert_exporter": "python",
   "pygments_lexer": "ipython3",
   "version": "3.7.2"
  },
  "latex_envs": {
   "LaTeX_envs_menu_present": true,
   "autoclose": false,
   "autocomplete": true,
   "bibliofile": "biblio.bib",
   "cite_by": "apalike",
   "current_citInitial": 1,
   "eqLabelWithNumbers": true,
   "eqNumInitial": 1,
   "hotkeys": {
    "equation": "Ctrl-E",
    "itemize": "Ctrl-I"
   },
   "labels_anchors": true,
   "latex_user_defs": true,
   "report_style_numbering": false,
   "user_envs_cfg": false
  },
  "toc": {
   "base_numbering": 1,
   "nav_menu": {},
   "number_sections": true,
   "sideBar": true,
   "skip_h1_title": false,
   "title_cell": "Table of Contents",
   "title_sidebar": "Contents",
   "toc_cell": false,
   "toc_position": {
    "height": "calc(100% - 180px)",
    "left": "10px",
    "top": "150px",
    "width": "284px"
   },
   "toc_section_display": true,
   "toc_window_display": true
  },
  "varInspector": {
   "cols": {
    "lenName": 16,
    "lenType": 16,
    "lenVar": 40
   },
   "kernels_config": {
    "python": {
     "delete_cmd_postfix": "",
     "delete_cmd_prefix": "del ",
     "library": "var_list.py",
     "varRefreshCmd": "print(var_dic_list())"
    },
    "r": {
     "delete_cmd_postfix": ") ",
     "delete_cmd_prefix": "rm(",
     "library": "var_list.r",
     "varRefreshCmd": "cat(var_dic_list()) "
    }
   },
   "position": {
    "height": "446px",
    "left": "404px",
    "right": "20px",
    "top": "149px",
    "width": "795px"
   },
   "types_to_exclude": [
    "module",
    "function",
    "builtin_function_or_method",
    "instance",
    "_Feature"
   ],
   "window_display": false
  }
 },
 "nbformat": 4,
 "nbformat_minor": 2
}
