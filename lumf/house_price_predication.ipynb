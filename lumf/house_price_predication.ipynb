{
 "cells": [
  {
   "cell_type": "markdown",
   "metadata": {},
   "source": [
    "# import lib"
   ]
  },
  {
   "cell_type": "code",
   "execution_count": 123,
   "metadata": {
    "ExecuteTime": {
     "end_time": "2019-07-22T09:31:38.353791Z",
     "start_time": "2019-07-22T09:31:38.344117Z"
    }
   },
   "outputs": [],
   "source": [
    "#dataset is  'https://www.kaggle.com/c/house-prices-advanced-regression-techniques'\n",
    "#refer https://www.kaggle.com/marsggbo/kaggle/comments#%E4%BA%8C%E3%80%81%E8%A7%82%E5%AF%9F%E5%90%84%E9%A1%B9%E4%B8%BB%E8%A6%81%E7%89%B9%E5%BE%81%E4%B8%8E%E6%88%BF%E5%B1%8B%E5%94%AE%E4%BB%B7%E7%9A%84%E5%85%B3%E7%B3%BB"
   ]
  },
  {
   "cell_type": "code",
   "execution_count": 1,
   "metadata": {
    "ExecuteTime": {
     "end_time": "2019-07-23T07:31:38.764069Z",
     "start_time": "2019-07-23T07:31:35.010882Z"
    }
   },
   "outputs": [],
   "source": [
    "import pandas as pd\n",
    "import numpy as np\n",
    "from sklearn import preprocessing\n",
    "import matplotlib.pyplot as plt\n",
    "import seaborn as sns\n",
    "\n",
    "# !pip3 install -q tensorflow==2.0.0-beta1\n",
    "import tensorflow as tf\n",
    "\n",
    "\n",
    "# import sklearn.preprocessing"
   ]
  },
  {
   "cell_type": "code",
   "execution_count": 125,
   "metadata": {
    "ExecuteTime": {
     "end_time": "2019-07-22T09:31:42.361316Z",
     "start_time": "2019-07-22T09:31:42.353413Z"
    }
   },
   "outputs": [
    {
     "name": "stdout",
     "output_type": "stream",
     "text": [
      "1.13.1\n"
     ]
    }
   ],
   "source": [
    "print(tf.__version__)"
   ]
  },
  {
   "cell_type": "markdown",
   "metadata": {},
   "source": [
    "# load data"
   ]
  },
  {
   "cell_type": "code",
   "execution_count": 2,
   "metadata": {
    "ExecuteTime": {
     "end_time": "2019-07-23T07:31:38.851020Z",
     "start_time": "2019-07-23T07:31:38.785567Z"
    }
   },
   "outputs": [],
   "source": [
    "dataset_train = pd.read_csv(\"house-prices-advanced-regression-techniques/train.csv\")\n",
    "dataset_test = pd.read_csv(\"house-prices-advanced-regression-techniques/test.csv\")\n",
    "\n",
    "\n",
    "# dataset_train.describe()\n"
   ]
  },
  {
   "cell_type": "code",
   "execution_count": 3,
   "metadata": {
    "ExecuteTime": {
     "end_time": "2019-07-23T07:31:40.706063Z",
     "start_time": "2019-07-23T07:31:40.691523Z"
    }
   },
   "outputs": [
    {
     "data": {
      "text/html": [
       "<div>\n",
       "<style scoped>\n",
       "    .dataframe tbody tr th:only-of-type {\n",
       "        vertical-align: middle;\n",
       "    }\n",
       "\n",
       "    .dataframe tbody tr th {\n",
       "        vertical-align: top;\n",
       "    }\n",
       "\n",
       "    .dataframe thead th {\n",
       "        text-align: right;\n",
       "    }\n",
       "</style>\n",
       "<table border=\"1\" class=\"dataframe\">\n",
       "  <thead>\n",
       "    <tr style=\"text-align: right;\">\n",
       "      <th></th>\n",
       "      <th>Neighborhood</th>\n",
       "      <th>CentralAir</th>\n",
       "    </tr>\n",
       "  </thead>\n",
       "  <tbody>\n",
       "    <tr>\n",
       "      <th>0</th>\n",
       "      <td>CollgCr</td>\n",
       "      <td>Y</td>\n",
       "    </tr>\n",
       "    <tr>\n",
       "      <th>1</th>\n",
       "      <td>Veenker</td>\n",
       "      <td>Y</td>\n",
       "    </tr>\n",
       "    <tr>\n",
       "      <th>2</th>\n",
       "      <td>CollgCr</td>\n",
       "      <td>Y</td>\n",
       "    </tr>\n",
       "    <tr>\n",
       "      <th>3</th>\n",
       "      <td>Crawfor</td>\n",
       "      <td>Y</td>\n",
       "    </tr>\n",
       "    <tr>\n",
       "      <th>4</th>\n",
       "      <td>NoRidge</td>\n",
       "      <td>Y</td>\n",
       "    </tr>\n",
       "  </tbody>\n",
       "</table>\n",
       "</div>"
      ],
      "text/plain": [
       "  Neighborhood CentralAir\n",
       "0      CollgCr          Y\n",
       "1      Veenker          Y\n",
       "2      CollgCr          Y\n",
       "3      Crawfor          Y\n",
       "4      NoRidge          Y"
      ]
     },
     "execution_count": 3,
     "metadata": {},
     "output_type": "execute_result"
    }
   ],
   "source": [
    "# dataset_train.head()\n",
    "dataset_train[['Neighborhood', 'CentralAir']].head()"
   ]
  },
  {
   "cell_type": "code",
   "execution_count": 4,
   "metadata": {
    "ExecuteTime": {
     "end_time": "2019-07-23T07:31:43.857092Z",
     "start_time": "2019-07-23T07:31:43.467793Z"
    }
   },
   "outputs": [
    {
     "data": {
      "text/plain": [
       "<matplotlib.axes._subplots.AxesSubplot at 0x10a9c8080>"
      ]
     },
     "execution_count": 4,
     "metadata": {},
     "output_type": "execute_result"
    },
    {
     "data": {
      "image/png": "[encoded data removed]",
      "text/plain": [
       "<Figure size 432x288 with 1 Axes>"
      ]
     },
     "metadata": {
      "needs_background": "light"
     },
     "output_type": "display_data"
    }
   ],
   "source": [
    "# show distirbution of sale price\n",
    "sns.distplot(dataset_train['SalePrice'])"
   ]
  },
  {
   "cell_type": "code",
   "execution_count": 5,
   "metadata": {
    "ExecuteTime": {
     "end_time": "2019-07-23T07:31:47.562860Z",
     "start_time": "2019-07-23T07:31:47.527567Z"
    }
   },
   "outputs": [
    {
     "data": {
      "text/html": [
       "<div>\n",
       "<style scoped>\n",
       "    .dataframe tbody tr th:only-of-type {\n",
       "        vertical-align: middle;\n",
       "    }\n",
       "\n",
       "    .dataframe tbody tr th {\n",
       "        vertical-align: top;\n",
       "    }\n",
       "\n",
       "    .dataframe thead th {\n",
       "        text-align: right;\n",
       "    }\n",
       "</style>\n",
       "<table border=\"1\" class=\"dataframe\">\n",
       "  <thead>\n",
       "    <tr style=\"text-align: right;\">\n",
       "      <th></th>\n",
       "      <th>Alley</th>\n",
       "      <th>BldgType</th>\n",
       "      <th>BsmtCond</th>\n",
       "      <th>BsmtExposure</th>\n",
       "      <th>BsmtFinType1</th>\n",
       "      <th>BsmtFinType2</th>\n",
       "      <th>BsmtQual</th>\n",
       "      <th>CentralAir</th>\n",
       "      <th>Condition1</th>\n",
       "      <th>Condition2</th>\n",
       "      <th>...</th>\n",
       "      <th>MiscFeature</th>\n",
       "      <th>Neighborhood</th>\n",
       "      <th>PavedDrive</th>\n",
       "      <th>PoolQC</th>\n",
       "      <th>RoofMatl</th>\n",
       "      <th>RoofStyle</th>\n",
       "      <th>SaleCondition</th>\n",
       "      <th>SaleType</th>\n",
       "      <th>Street</th>\n",
       "      <th>Utilities</th>\n",
       "    </tr>\n",
       "  </thead>\n",
       "  <tbody>\n",
       "    <tr>\n",
       "      <th>0</th>\n",
       "      <td>NaN</td>\n",
       "      <td>1Fam</td>\n",
       "      <td>TA</td>\n",
       "      <td>No</td>\n",
       "      <td>GLQ</td>\n",
       "      <td>Unf</td>\n",
       "      <td>Gd</td>\n",
       "      <td>Y</td>\n",
       "      <td>Norm</td>\n",
       "      <td>Norm</td>\n",
       "      <td>...</td>\n",
       "      <td>NaN</td>\n",
       "      <td>CollgCr</td>\n",
       "      <td>Y</td>\n",
       "      <td>NaN</td>\n",
       "      <td>CompShg</td>\n",
       "      <td>Gable</td>\n",
       "      <td>Normal</td>\n",
       "      <td>WD</td>\n",
       "      <td>Pave</td>\n",
       "      <td>AllPub</td>\n",
       "    </tr>\n",
       "    <tr>\n",
       "      <th>1</th>\n",
       "      <td>NaN</td>\n",
       "      <td>1Fam</td>\n",
       "      <td>TA</td>\n",
       "      <td>Gd</td>\n",
       "      <td>ALQ</td>\n",
       "      <td>Unf</td>\n",
       "      <td>Gd</td>\n",
       "      <td>Y</td>\n",
       "      <td>Feedr</td>\n",
       "      <td>Norm</td>\n",
       "      <td>...</td>\n",
       "      <td>NaN</td>\n",
       "      <td>Veenker</td>\n",
       "      <td>Y</td>\n",
       "      <td>NaN</td>\n",
       "      <td>CompShg</td>\n",
       "      <td>Gable</td>\n",
       "      <td>Normal</td>\n",
       "      <td>WD</td>\n",
       "      <td>Pave</td>\n",
       "      <td>AllPub</td>\n",
       "    </tr>\n",
       "    <tr>\n",
       "      <th>2</th>\n",
       "      <td>NaN</td>\n",
       "      <td>1Fam</td>\n",
       "      <td>TA</td>\n",
       "      <td>Mn</td>\n",
       "      <td>GLQ</td>\n",
       "      <td>Unf</td>\n",
       "      <td>Gd</td>\n",
       "      <td>Y</td>\n",
       "      <td>Norm</td>\n",
       "      <td>Norm</td>\n",
       "      <td>...</td>\n",
       "      <td>NaN</td>\n",
       "      <td>CollgCr</td>\n",
       "      <td>Y</td>\n",
       "      <td>NaN</td>\n",
       "      <td>CompShg</td>\n",
       "      <td>Gable</td>\n",
       "      <td>Normal</td>\n",
       "      <td>WD</td>\n",
       "      <td>Pave</td>\n",
       "      <td>AllPub</td>\n",
       "    </tr>\n",
       "    <tr>\n",
       "      <th>3</th>\n",
       "      <td>NaN</td>\n",
       "      <td>1Fam</td>\n",
       "      <td>Gd</td>\n",
       "      <td>No</td>\n",
       "      <td>ALQ</td>\n",
       "      <td>Unf</td>\n",
       "      <td>TA</td>\n",
       "      <td>Y</td>\n",
       "      <td>Norm</td>\n",
       "      <td>Norm</td>\n",
       "      <td>...</td>\n",
       "      <td>NaN</td>\n",
       "      <td>Crawfor</td>\n",
       "      <td>Y</td>\n",
       "      <td>NaN</td>\n",
       "      <td>CompShg</td>\n",
       "      <td>Gable</td>\n",
       "      <td>Abnorml</td>\n",
       "      <td>WD</td>\n",
       "      <td>Pave</td>\n",
       "      <td>AllPub</td>\n",
       "    </tr>\n",
       "    <tr>\n",
       "      <th>4</th>\n",
       "      <td>NaN</td>\n",
       "      <td>1Fam</td>\n",
       "      <td>TA</td>\n",
       "      <td>Av</td>\n",
       "      <td>GLQ</td>\n",
       "      <td>Unf</td>\n",
       "      <td>Gd</td>\n",
       "      <td>Y</td>\n",
       "      <td>Norm</td>\n",
       "      <td>Norm</td>\n",
       "      <td>...</td>\n",
       "      <td>NaN</td>\n",
       "      <td>NoRidge</td>\n",
       "      <td>Y</td>\n",
       "      <td>NaN</td>\n",
       "      <td>CompShg</td>\n",
       "      <td>Gable</td>\n",
       "      <td>Normal</td>\n",
       "      <td>WD</td>\n",
       "      <td>Pave</td>\n",
       "      <td>AllPub</td>\n",
       "    </tr>\n",
       "    <tr>\n",
       "      <th>5</th>\n",
       "      <td>NaN</td>\n",
       "      <td>1Fam</td>\n",
       "      <td>TA</td>\n",
       "      <td>No</td>\n",
       "      <td>GLQ</td>\n",
       "      <td>Unf</td>\n",
       "      <td>Gd</td>\n",
       "      <td>Y</td>\n",
       "      <td>Norm</td>\n",
       "      <td>Norm</td>\n",
       "      <td>...</td>\n",
       "      <td>Shed</td>\n",
       "      <td>Mitchel</td>\n",
       "      <td>Y</td>\n",
       "      <td>NaN</td>\n",
       "      <td>CompShg</td>\n",
       "      <td>Gable</td>\n",
       "      <td>Normal</td>\n",
       "      <td>WD</td>\n",
       "      <td>Pave</td>\n",
       "      <td>AllPub</td>\n",
       "    </tr>\n",
       "    <tr>\n",
       "      <th>6</th>\n",
       "      <td>NaN</td>\n",
       "      <td>1Fam</td>\n",
       "      <td>TA</td>\n",
       "      <td>Av</td>\n",
       "      <td>GLQ</td>\n",
       "      <td>Unf</td>\n",
       "      <td>Ex</td>\n",
       "      <td>Y</td>\n",
       "      <td>Norm</td>\n",
       "      <td>Norm</td>\n",
       "      <td>...</td>\n",
       "      <td>NaN</td>\n",
       "      <td>Somerst</td>\n",
       "      <td>Y</td>\n",
       "      <td>NaN</td>\n",
       "      <td>CompShg</td>\n",
       "      <td>Gable</td>\n",
       "      <td>Normal</td>\n",
       "      <td>WD</td>\n",
       "      <td>Pave</td>\n",
       "      <td>AllPub</td>\n",
       "    </tr>\n",
       "    <tr>\n",
       "      <th>7</th>\n",
       "      <td>NaN</td>\n",
       "      <td>1Fam</td>\n",
       "      <td>TA</td>\n",
       "      <td>Mn</td>\n",
       "      <td>ALQ</td>\n",
       "      <td>BLQ</td>\n",
       "      <td>Gd</td>\n",
       "      <td>Y</td>\n",
       "      <td>PosN</td>\n",
       "      <td>Norm</td>\n",
       "      <td>...</td>\n",
       "      <td>Shed</td>\n",
       "      <td>NWAmes</td>\n",
       "      <td>Y</td>\n",
       "      <td>NaN</td>\n",
       "      <td>CompShg</td>\n",
       "      <td>Gable</td>\n",
       "      <td>Normal</td>\n",
       "      <td>WD</td>\n",
       "      <td>Pave</td>\n",
       "      <td>AllPub</td>\n",
       "    </tr>\n",
       "    <tr>\n",
       "      <th>8</th>\n",
       "      <td>NaN</td>\n",
       "      <td>1Fam</td>\n",
       "      <td>TA</td>\n",
       "      <td>No</td>\n",
       "      <td>Unf</td>\n",
       "      <td>Unf</td>\n",
       "      <td>TA</td>\n",
       "      <td>Y</td>\n",
       "      <td>Artery</td>\n",
       "      <td>Norm</td>\n",
       "      <td>...</td>\n",
       "      <td>NaN</td>\n",
       "      <td>OldTown</td>\n",
       "      <td>Y</td>\n",
       "      <td>NaN</td>\n",
       "      <td>CompShg</td>\n",
       "      <td>Gable</td>\n",
       "      <td>Abnorml</td>\n",
       "      <td>WD</td>\n",
       "      <td>Pave</td>\n",
       "      <td>AllPub</td>\n",
       "    </tr>\n",
       "    <tr>\n",
       "      <th>9</th>\n",
       "      <td>NaN</td>\n",
       "      <td>2fmCon</td>\n",
       "      <td>TA</td>\n",
       "      <td>No</td>\n",
       "      <td>GLQ</td>\n",
       "      <td>Unf</td>\n",
       "      <td>TA</td>\n",
       "      <td>Y</td>\n",
       "      <td>Artery</td>\n",
       "      <td>Artery</td>\n",
       "      <td>...</td>\n",
       "      <td>NaN</td>\n",
       "      <td>BrkSide</td>\n",
       "      <td>Y</td>\n",
       "      <td>NaN</td>\n",
       "      <td>CompShg</td>\n",
       "      <td>Gable</td>\n",
       "      <td>Normal</td>\n",
       "      <td>WD</td>\n",
       "      <td>Pave</td>\n",
       "      <td>AllPub</td>\n",
       "    </tr>\n",
       "  </tbody>\n",
       "</table>\n",
       "<p>10 rows × 43 columns</p>\n",
       "</div>"
      ],
      "text/plain": [
       "  Alley BldgType BsmtCond BsmtExposure BsmtFinType1 BsmtFinType2 BsmtQual  \\\n",
       "0   NaN     1Fam       TA           No          GLQ          Unf       Gd   \n",
       "1   NaN     1Fam       TA           Gd          ALQ          Unf       Gd   \n",
       "2   NaN     1Fam       TA           Mn          GLQ          Unf       Gd   \n",
       "3   NaN     1Fam       Gd           No          ALQ          Unf       TA   \n",
       "4   NaN     1Fam       TA           Av          GLQ          Unf       Gd   \n",
       "5   NaN     1Fam       TA           No          GLQ          Unf       Gd   \n",
       "6   NaN     1Fam       TA           Av          GLQ          Unf       Ex   \n",
       "7   NaN     1Fam       TA           Mn          ALQ          BLQ       Gd   \n",
       "8   NaN     1Fam       TA           No          Unf          Unf       TA   \n",
       "9   NaN   2fmCon       TA           No          GLQ          Unf       TA   \n",
       "\n",
       "  CentralAir Condition1 Condition2  ... MiscFeature Neighborhood PavedDrive  \\\n",
       "0          Y       Norm       Norm  ...         NaN      CollgCr          Y   \n",
       "1          Y      Feedr       Norm  ...         NaN      Veenker          Y   \n",
       "2          Y       Norm       Norm  ...         NaN      CollgCr          Y   \n",
       "3          Y       Norm       Norm  ...         NaN      Crawfor          Y   \n",
       "4          Y       Norm       Norm  ...         NaN      NoRidge          Y   \n",
       "5          Y       Norm       Norm  ...        Shed      Mitchel          Y   \n",
       "6          Y       Norm       Norm  ...         NaN      Somerst          Y   \n",
       "7          Y       PosN       Norm  ...        Shed       NWAmes          Y   \n",
       "8          Y     Artery       Norm  ...         NaN      OldTown          Y   \n",
       "9          Y     Artery     Artery  ...         NaN      BrkSide          Y   \n",
       "\n",
       "  PoolQC RoofMatl RoofStyle SaleCondition SaleType Street Utilities  \n",
       "0    NaN  CompShg     Gable        Normal       WD   Pave    AllPub  \n",
       "1    NaN  CompShg     Gable        Normal       WD   Pave    AllPub  \n",
       "2    NaN  CompShg     Gable        Normal       WD   Pave    AllPub  \n",
       "3    NaN  CompShg     Gable       Abnorml       WD   Pave    AllPub  \n",
       "4    NaN  CompShg     Gable        Normal       WD   Pave    AllPub  \n",
       "5    NaN  CompShg     Gable        Normal       WD   Pave    AllPub  \n",
       "6    NaN  CompShg     Gable        Normal       WD   Pave    AllPub  \n",
       "7    NaN  CompShg     Gable        Normal       WD   Pave    AllPub  \n",
       "8    NaN  CompShg     Gable       Abnorml       WD   Pave    AllPub  \n",
       "9    NaN  CompShg     Gable        Normal       WD   Pave    AllPub  \n",
       "\n",
       "[10 rows x 43 columns]"
      ]
     },
     "execution_count": 5,
     "metadata": {},
     "output_type": "execute_result"
    }
   ],
   "source": [
    "#find all category features\n",
    "columns_numberic = dataset_train.dtypes[dataset_train.dtypes != 'object'].index\n",
    "# print(columns_numberic)\n",
    "columns_string = dataset_train.columns.difference(columns_numberic)\n",
    "dataset_train[columns_string].head(10)\n",
    "# dataset_train[columns_string].head()\n",
    "\n",
    "# for column in columns_string:\n",
    "#     label_encoder = preprocessing.LabelEncoder()\n",
    "#     dataset_train[column] = label_encoder.fit_transform(dataset_train[column])\n",
    "\n",
    "# dataset_train.head()"
   ]
  },
  {
   "cell_type": "code",
   "execution_count": 6,
   "metadata": {
    "ExecuteTime": {
     "end_time": "2019-07-23T07:31:53.032282Z",
     "start_time": "2019-07-23T07:31:51.895633Z"
    },
    "scrolled": true
   },
   "outputs": [
    {
     "data": {
      "text/plain": [
       "<matplotlib.axes._subplots.AxesSubplot at 0x10a9abcf8>"
      ]
     },
     "execution_count": 6,
     "metadata": {},
     "output_type": "execute_result"
    },
    {
     "data": {
      "image/png": "[encoded data removed]",
      "text/plain": [
       "<Figure size 1440x648 with 2 Axes>"
      ]
     },
     "metadata": {
      "needs_background": "light"
     },
     "output_type": "display_data"
    }
   ],
   "source": [
    "columns_string=['Neighborhood', 'CentralAir']\n",
    "for column in columns_string:\n",
    "    label_encoder = preprocessing.LabelEncoder()\n",
    "    dataset_train[column] = label_encoder.fit_transform(dataset_train[column])\n",
    "    \n",
    "corrmat = dataset_train.corr()\n",
    "f, ax = plt.subplots(figsize=(20, 9))\n",
    "sns.heatmap(corrmat, vmax=0.8, square=True)"
   ]
  },
  {
   "cell_type": "code",
   "execution_count": 7,
   "metadata": {
    "ExecuteTime": {
     "end_time": "2019-07-23T07:32:03.185381Z",
     "start_time": "2019-07-23T07:32:03.168317Z"
    }
   },
   "outputs": [
    {
     "data": {
      "text/html": [
       "<div>\n",
       "<style scoped>\n",
       "    .dataframe tbody tr th:only-of-type {\n",
       "        vertical-align: middle;\n",
       "    }\n",
       "\n",
       "    .dataframe tbody tr th {\n",
       "        vertical-align: top;\n",
       "    }\n",
       "\n",
       "    .dataframe thead th {\n",
       "        text-align: right;\n",
       "    }\n",
       "</style>\n",
       "<table border=\"1\" class=\"dataframe\">\n",
       "  <thead>\n",
       "    <tr style=\"text-align: right;\">\n",
       "      <th></th>\n",
       "      <th>Neighborhood</th>\n",
       "      <th>CentralAir</th>\n",
       "    </tr>\n",
       "  </thead>\n",
       "  <tbody>\n",
       "    <tr>\n",
       "      <th>0</th>\n",
       "      <td>5</td>\n",
       "      <td>1</td>\n",
       "    </tr>\n",
       "    <tr>\n",
       "      <th>1</th>\n",
       "      <td>24</td>\n",
       "      <td>1</td>\n",
       "    </tr>\n",
       "    <tr>\n",
       "      <th>2</th>\n",
       "      <td>5</td>\n",
       "      <td>1</td>\n",
       "    </tr>\n",
       "    <tr>\n",
       "      <th>3</th>\n",
       "      <td>6</td>\n",
       "      <td>1</td>\n",
       "    </tr>\n",
       "    <tr>\n",
       "      <th>4</th>\n",
       "      <td>15</td>\n",
       "      <td>1</td>\n",
       "    </tr>\n",
       "  </tbody>\n",
       "</table>\n",
       "</div>"
      ],
      "text/plain": [
       "   Neighborhood  CentralAir\n",
       "0             5           1\n",
       "1            24           1\n",
       "2             5           1\n",
       "3             6           1\n",
       "4            15           1"
      ]
     },
     "execution_count": 7,
     "metadata": {},
     "output_type": "execute_result"
    }
   ],
   "source": [
    "dataset_train[columns_string].head()"
   ]
  },
  {
   "cell_type": "markdown",
   "metadata": {},
   "source": [
    "# preprocess data"
   ]
  },
  {
   "cell_type": "code",
   "execution_count": 8,
   "metadata": {
    "ExecuteTime": {
     "end_time": "2019-07-23T07:32:06.217761Z",
     "start_time": "2019-07-23T07:32:06.043989Z"
    }
   },
   "outputs": [],
   "source": [
    "#concat train and test after filter column 'saleprice' in train , and remove column 'id'\n",
    "dataset_all = pd.concat([dataset_train.iloc[:,1:-1], dataset_test.iloc[:,1:]], axis=0, ignore_index=True)\n",
    "\n",
    "#normalize numberic variable\n",
    "features_numberic = dataset_all.dtypes[dataset_all.dtypes != 'object'].index\n",
    "dataset_all[features_numberic] = dataset_all[features_numberic].apply(lambda x : ((x - x.mean()) / x.std()))\n",
    "dataset_all[features_numberic] = dataset_all[features_numberic].fillna(0)\n",
    "\n",
    "#hot-encode discreted varaibale\n",
    "dataset_all = pd.get_dummies(dataset_all, dummy_na=True)"
   ]
  },
  {
   "cell_type": "code",
   "execution_count": null,
   "metadata": {},
   "outputs": [],
   "source": []
  },
  {
   "cell_type": "code",
   "execution_count": 9,
   "metadata": {
    "ExecuteTime": {
     "end_time": "2019-07-23T07:32:11.216626Z",
     "start_time": "2019-07-23T07:32:11.199506Z"
    }
   },
   "outputs": [
    {
     "name": "stdout",
     "output_type": "stream",
     "text": [
      "train_labels.shape= 1460\n",
      "train_X.shape= (1460, 358)\n",
      "test_X.shape= (1459, 358)\n"
     ]
    }
   ],
   "source": [
    "#split train and label dataset\n",
    "train_labels_origin = dataset_train['SalePrice']\n",
    "\n",
    "train_labels_mean = train_labels_origin.mean()\n",
    "train_labels_std = train_labels_origin.std()\n",
    "\n",
    "#normalize train label\n",
    "train_labels = (train_labels_origin - train_labels_mean ) / train_labels_std\n",
    "\n",
    "n_train = train_labels.shape[0]\n",
    "print(\"train_labels.shape=\", n_train)\n",
    "train_X = dataset_all.iloc[0:n_train, :]\n",
    "print(\"train_X.shape=\", train_X.shape)\n",
    "\n",
    "test_X = dataset_all.iloc[n_train: , :]\n",
    "print(\"test_X.shape=\", test_X.shape)"
   ]
  },
  {
   "cell_type": "code",
   "execution_count": 82,
   "metadata": {
    "ExecuteTime": {
     "end_time": "2019-07-22T09:21:25.303459Z",
     "start_time": "2019-07-22T09:21:25.296561Z"
    }
   },
   "outputs": [
    {
     "name": "stdout",
     "output_type": "stream",
     "text": [
      "331\n"
     ]
    }
   ],
   "source": [
    "# num_features = train_X.shape[1]\n",
    "# train_X.head()\n",
    "# print(num_features)"
   ]
  },
  {
   "cell_type": "markdown",
   "metadata": {},
   "source": [
    "# define model"
   ]
  },
  {
   "cell_type": "code",
   "execution_count": 20,
   "metadata": {
    "ExecuteTime": {
     "end_time": "2019-07-23T07:33:55.560898Z",
     "start_time": "2019-07-23T07:33:55.404170Z"
    },
    "scrolled": true
   },
   "outputs": [
    {
     "name": "stdout",
     "output_type": "stream",
     "text": [
      "_________________________________________________________________\n",
      "Layer (type)                 Output Shape              Param #   \n",
      "=================================================================\n",
      "dense_8 (Dense)              (None, 64)                22976     \n",
      "_________________________________________________________________\n",
      "dropout_4 (Dropout)          (None, 64)                0         \n",
      "_________________________________________________________________\n",
      "dense_9 (Dense)              (None, 1)                 65        \n",
      "=================================================================\n",
      "Total params: 23,041\n",
      "Trainable params: 23,041\n",
      "Non-trainable params: 0\n",
      "_________________________________________________________________\n"
     ]
    }
   ],
   "source": [
    "\n",
    "# print('{} num_features'.format(num_features))\n",
    "model = tf.keras.models.Sequential()\n",
    "model.add(tf.keras.layers.Dense(64, input_shape=(train_X.shape[1], ), activation=\"relu\"))\n",
    "model.add(tf.keras.layers.Dropout(0.7))\n",
    "model.add(tf.keras.layers.Dense(1))\n",
    "\n",
    "optimizer = tf.keras.optimizers.Adam()\n",
    "model.compile(optimizer, loss=\"mse\") #平均均方对数误差\n",
    "# model.compile(optimizer, loss=tf.keras.losses.MeanSquaredLogarithmicError()) #rmsle\n",
    "model.summary()"
   ]
  },
  {
   "cell_type": "markdown",
   "metadata": {},
   "source": [
    "# train model"
   ]
  },
  {
   "cell_type": "code",
   "execution_count": 21,
   "metadata": {
    "ExecuteTime": {
     "end_time": "2019-07-23T07:34:01.937500Z",
     "start_time": "2019-07-23T07:33:58.174287Z"
    }
   },
   "outputs": [
    {
     "name": "stdout",
     "output_type": "stream",
     "text": [
      "Train on 876 samples, validate on 584 samples\n",
      "Epoch 1/100\n",
      "876/876 [==============================] - 0s 442us/sample - loss: 1.7533 - val_loss: 0.5589\n",
      "Epoch 2/100\n",
      "876/876 [==============================] - 0s 34us/sample - loss: 0.9976 - val_loss: 0.3332\n",
      "Epoch 3/100\n",
      "876/876 [==============================] - 0s 36us/sample - loss: 0.6953 - val_loss: 0.2880\n",
      "Epoch 4/100\n",
      "876/876 [==============================] - 0s 33us/sample - loss: 0.4597 - val_loss: 0.2758\n",
      "Epoch 5/100\n",
      "876/876 [==============================] - 0s 27us/sample - loss: 0.5205 - val_loss: 0.2725\n",
      "Epoch 6/100\n",
      "876/876 [==============================] - 0s 34us/sample - loss: 0.4265 - val_loss: 0.2682\n",
      "Epoch 7/100\n",
      "876/876 [==============================] - 0s 39us/sample - loss: 0.4272 - val_loss: 0.2585\n",
      "Epoch 8/100\n",
      "876/876 [==============================] - 0s 48us/sample - loss: 0.3320 - val_loss: 0.2474\n",
      "Epoch 9/100\n",
      "876/876 [==============================] - 0s 39us/sample - loss: 0.3473 - val_loss: 0.2438\n",
      "Epoch 10/100\n",
      "876/876 [==============================] - 0s 39us/sample - loss: 0.3492 - val_loss: 0.2422\n",
      "Epoch 11/100\n",
      "876/876 [==============================] - 0s 37us/sample - loss: 0.3172 - val_loss: 0.2469\n",
      "Epoch 12/100\n",
      "876/876 [==============================] - 0s 42us/sample - loss: 0.3614 - val_loss: 0.2488\n",
      "Epoch 13/100\n",
      "876/876 [==============================] - 0s 38us/sample - loss: 0.3342 - val_loss: 0.2454\n",
      "Epoch 14/100\n",
      "876/876 [==============================] - 0s 37us/sample - loss: 0.2984 - val_loss: 0.2414\n",
      "Epoch 15/100\n",
      "876/876 [==============================] - 0s 30us/sample - loss: 0.2692 - val_loss: 0.2354\n",
      "Epoch 16/100\n",
      "876/876 [==============================] - 0s 33us/sample - loss: 0.2713 - val_loss: 0.2363\n",
      "Epoch 17/100\n",
      "876/876 [==============================] - 0s 27us/sample - loss: 0.2640 - val_loss: 0.2340\n",
      "Epoch 18/100\n",
      "876/876 [==============================] - 0s 28us/sample - loss: 0.3195 - val_loss: 0.2378\n",
      "Epoch 19/100\n",
      "876/876 [==============================] - 0s 29us/sample - loss: 0.2575 - val_loss: 0.2374\n",
      "Epoch 20/100\n",
      "876/876 [==============================] - 0s 43us/sample - loss: 0.3057 - val_loss: 0.2301\n",
      "Epoch 21/100\n",
      "876/876 [==============================] - 0s 41us/sample - loss: 0.2654 - val_loss: 0.2283\n",
      "Epoch 22/100\n",
      "876/876 [==============================] - 0s 38us/sample - loss: 0.2739 - val_loss: 0.2268\n",
      "Epoch 23/100\n",
      "876/876 [==============================] - 0s 36us/sample - loss: 0.2452 - val_loss: 0.2265\n",
      "Epoch 24/100\n",
      "876/876 [==============================] - 0s 38us/sample - loss: 0.2521 - val_loss: 0.2241\n",
      "Epoch 25/100\n",
      "876/876 [==============================] - 0s 39us/sample - loss: 0.3008 - val_loss: 0.2227\n",
      "Epoch 26/100\n",
      "876/876 [==============================] - 0s 34us/sample - loss: 0.2959 - val_loss: 0.2173\n",
      "Epoch 27/100\n",
      "876/876 [==============================] - 0s 34us/sample - loss: 0.2295 - val_loss: 0.2153\n",
      "Epoch 28/100\n",
      "876/876 [==============================] - 0s 34us/sample - loss: 0.2392 - val_loss: 0.2132\n",
      "Epoch 29/100\n",
      "876/876 [==============================] - 0s 53us/sample - loss: 0.2148 - val_loss: 0.2132\n",
      "Epoch 30/100\n",
      "876/876 [==============================] - 0s 40us/sample - loss: 0.2257 - val_loss: 0.2131\n",
      "Epoch 31/100\n",
      "876/876 [==============================] - 0s 34us/sample - loss: 0.2354 - val_loss: 0.2093\n",
      "Epoch 32/100\n",
      "876/876 [==============================] - 0s 34us/sample - loss: 0.2067 - val_loss: 0.2060\n",
      "Epoch 33/100\n",
      "876/876 [==============================] - 0s 31us/sample - loss: 0.2610 - val_loss: 0.2032\n",
      "Epoch 34/100\n",
      "876/876 [==============================] - 0s 33us/sample - loss: 0.1855 - val_loss: 0.2073\n",
      "Epoch 35/100\n",
      "876/876 [==============================] - 0s 31us/sample - loss: 0.2036 - val_loss: 0.2058\n",
      "Epoch 36/100\n",
      "876/876 [==============================] - 0s 30us/sample - loss: 0.2004 - val_loss: 0.2029\n",
      "Epoch 37/100\n",
      "876/876 [==============================] - 0s 35us/sample - loss: 0.2060 - val_loss: 0.1992\n",
      "Epoch 38/100\n",
      "876/876 [==============================] - 0s 30us/sample - loss: 0.2013 - val_loss: 0.2001\n",
      "Epoch 39/100\n",
      "876/876 [==============================] - 0s 29us/sample - loss: 0.3049 - val_loss: 0.2007\n",
      "Epoch 40/100\n",
      "876/876 [==============================] - 0s 27us/sample - loss: 0.2099 - val_loss: 0.1962\n",
      "Epoch 41/100\n",
      "876/876 [==============================] - 0s 29us/sample - loss: 0.1965 - val_loss: 0.1937\n",
      "Epoch 42/100\n",
      "876/876 [==============================] - 0s 32us/sample - loss: 0.2257 - val_loss: 0.1928\n",
      "Epoch 43/100\n",
      "876/876 [==============================] - 0s 31us/sample - loss: 0.2159 - val_loss: 0.1936\n",
      "Epoch 44/100\n",
      "876/876 [==============================] - 0s 42us/sample - loss: 0.2108 - val_loss: 0.1916\n",
      "Epoch 45/100\n",
      "876/876 [==============================] - 0s 36us/sample - loss: 0.2149 - val_loss: 0.1867\n",
      "Epoch 46/100\n",
      "876/876 [==============================] - 0s 34us/sample - loss: 0.2077 - val_loss: 0.1883\n",
      "Epoch 47/100\n",
      "876/876 [==============================] - 0s 34us/sample - loss: 0.2137 - val_loss: 0.1882\n",
      "Epoch 48/100\n",
      "876/876 [==============================] - 0s 35us/sample - loss: 0.2097 - val_loss: 0.1854\n",
      "Epoch 49/100\n",
      "876/876 [==============================] - 0s 37us/sample - loss: 0.1856 - val_loss: 0.1815\n",
      "Epoch 50/100\n",
      "876/876 [==============================] - 0s 29us/sample - loss: 0.2000 - val_loss: 0.1830\n",
      "Epoch 51/100\n",
      "876/876 [==============================] - 0s 36us/sample - loss: 0.1850 - val_loss: 0.1807\n",
      "Epoch 52/100\n",
      "876/876 [==============================] - 0s 37us/sample - loss: 0.1935 - val_loss: 0.1821\n",
      "Epoch 53/100\n",
      "876/876 [==============================] - 0s 37us/sample - loss: 0.2369 - val_loss: 0.1915\n",
      "Epoch 54/100\n",
      "876/876 [==============================] - 0s 40us/sample - loss: 0.1980 - val_loss: 0.1908\n",
      "Epoch 55/100\n",
      "876/876 [==============================] - 0s 36us/sample - loss: 0.1851 - val_loss: 0.1813\n",
      "Epoch 56/100\n",
      "876/876 [==============================] - 0s 41us/sample - loss: 0.2031 - val_loss: 0.1820\n",
      "Epoch 57/100\n",
      "876/876 [==============================] - 0s 32us/sample - loss: 0.2085 - val_loss: 0.1859\n",
      "Epoch 58/100\n",
      "876/876 [==============================] - 0s 29us/sample - loss: 0.1443 - val_loss: 0.1848\n",
      "Epoch 59/100\n",
      "876/876 [==============================] - 0s 28us/sample - loss: 0.1969 - val_loss: 0.1855\n",
      "Epoch 60/100\n",
      "876/876 [==============================] - 0s 29us/sample - loss: 0.1663 - val_loss: 0.1845\n",
      "Epoch 61/100\n",
      "876/876 [==============================] - 0s 30us/sample - loss: 0.1791 - val_loss: 0.1852\n",
      "Epoch 62/100\n",
      "876/876 [==============================] - ETA: 0s - loss: 0.130 - 0s 28us/sample - loss: 0.1700 - val_loss: 0.1855\n",
      "Epoch 63/100\n",
      "876/876 [==============================] - 0s 31us/sample - loss: 0.1709 - val_loss: 0.1844\n",
      "Epoch 64/100\n",
      "876/876 [==============================] - 0s 33us/sample - loss: 0.1861 - val_loss: 0.1856\n",
      "Epoch 65/100\n",
      "876/876 [==============================] - 0s 30us/sample - loss: 0.1967 - val_loss: 0.1873\n",
      "Epoch 66/100\n",
      "876/876 [==============================] - 0s 37us/sample - loss: 0.1678 - val_loss: 0.1818\n",
      "Epoch 67/100\n",
      "876/876 [==============================] - 0s 35us/sample - loss: 0.1838 - val_loss: 0.1797\n",
      "Epoch 68/100\n",
      "876/876 [==============================] - 0s 36us/sample - loss: 0.1941 - val_loss: 0.1823\n",
      "Epoch 69/100\n",
      "876/876 [==============================] - 0s 28us/sample - loss: 0.1702 - val_loss: 0.1895\n",
      "Epoch 70/100\n",
      "876/876 [==============================] - 0s 35us/sample - loss: 0.1879 - val_loss: 0.1794\n",
      "Epoch 71/100\n",
      "876/876 [==============================] - 0s 43us/sample - loss: 0.1515 - val_loss: 0.1735\n",
      "Epoch 72/100\n",
      "876/876 [==============================] - 0s 42us/sample - loss: 0.1783 - val_loss: 0.1768\n",
      "Epoch 73/100\n",
      "876/876 [==============================] - 0s 42us/sample - loss: 0.1732 - val_loss: 0.1815\n",
      "Epoch 74/100\n",
      "876/876 [==============================] - 0s 33us/sample - loss: 0.1990 - val_loss: 0.1775\n",
      "Epoch 75/100\n",
      "876/876 [==============================] - 0s 48us/sample - loss: 0.1604 - val_loss: 0.1751\n",
      "Epoch 76/100\n",
      "876/876 [==============================] - 0s 45us/sample - loss: 0.1561 - val_loss: 0.1735\n",
      "Epoch 77/100\n",
      "876/876 [==============================] - 0s 35us/sample - loss: 0.1609 - val_loss: 0.1764\n",
      "Epoch 78/100\n"
     ]
    },
    {
     "name": "stdout",
     "output_type": "stream",
     "text": [
      "876/876 [==============================] - 0s 37us/sample - loss: 0.1631 - val_loss: 0.1778\n",
      "Epoch 79/100\n",
      "876/876 [==============================] - 0s 32us/sample - loss: 0.1529 - val_loss: 0.1742\n",
      "Epoch 80/100\n",
      "876/876 [==============================] - 0s 30us/sample - loss: 0.1581 - val_loss: 0.1730\n",
      "Epoch 81/100\n",
      "876/876 [==============================] - 0s 32us/sample - loss: 0.1726 - val_loss: 0.1768\n",
      "Epoch 82/100\n",
      "876/876 [==============================] - 0s 31us/sample - loss: 0.1498 - val_loss: 0.1769\n",
      "Epoch 83/100\n",
      "876/876 [==============================] - 0s 28us/sample - loss: 0.1654 - val_loss: 0.1709\n",
      "Epoch 84/100\n",
      "876/876 [==============================] - 0s 30us/sample - loss: 0.1504 - val_loss: 0.1708\n",
      "Epoch 85/100\n",
      "876/876 [==============================] - 0s 31us/sample - loss: 0.1405 - val_loss: 0.1743\n",
      "Epoch 86/100\n",
      "876/876 [==============================] - 0s 28us/sample - loss: 0.1517 - val_loss: 0.1754\n",
      "Epoch 87/100\n",
      "876/876 [==============================] - 0s 29us/sample - loss: 0.1666 - val_loss: 0.1700\n",
      "Epoch 88/100\n",
      "876/876 [==============================] - 0s 31us/sample - loss: 0.1425 - val_loss: 0.1751\n",
      "Epoch 89/100\n",
      "876/876 [==============================] - 0s 26us/sample - loss: 0.1560 - val_loss: 0.1789\n",
      "Epoch 90/100\n",
      "876/876 [==============================] - 0s 33us/sample - loss: 0.1610 - val_loss: 0.1778\n",
      "Epoch 91/100\n",
      "876/876 [==============================] - 0s 31us/sample - loss: 0.1527 - val_loss: 0.1720\n",
      "Epoch 92/100\n",
      "876/876 [==============================] - 0s 24us/sample - loss: 0.1555 - val_loss: 0.1726\n",
      "Epoch 93/100\n",
      "876/876 [==============================] - 0s 34us/sample - loss: 0.1534 - val_loss: 0.1719\n",
      "Epoch 94/100\n",
      "876/876 [==============================] - 0s 23us/sample - loss: 0.1355 - val_loss: 0.1706\n",
      "Epoch 95/100\n",
      "876/876 [==============================] - 0s 26us/sample - loss: 0.1527 - val_loss: 0.1707\n",
      "Epoch 96/100\n",
      "876/876 [==============================] - 0s 32us/sample - loss: 0.1560 - val_loss: 0.1727\n",
      "Epoch 97/100\n",
      "876/876 [==============================] - 0s 26us/sample - loss: 0.1345 - val_loss: 0.1716\n",
      "Epoch 98/100\n",
      "876/876 [==============================] - 0s 31us/sample - loss: 0.1727 - val_loss: 0.1725\n",
      "Epoch 99/100\n",
      "876/876 [==============================] - 0s 28us/sample - loss: 0.1644 - val_loss: 0.1730\n",
      "Epoch 100/100\n",
      "876/876 [==============================] - 0s 30us/sample - loss: 0.1440 - val_loss: 0.1705\n"
     ]
    }
   ],
   "source": [
    "history = model.fit(train_X, train_labels, batch_size=128, epochs=100, validation_split=0.4)"
   ]
  },
  {
   "cell_type": "code",
   "execution_count": 22,
   "metadata": {
    "ExecuteTime": {
     "end_time": "2019-07-23T07:34:20.270778Z",
     "start_time": "2019-07-23T07:34:20.065404Z"
    }
   },
   "outputs": [
    {
     "data": {
      "image/png": "[encoded data removed]",
      "text/plain": [
       "<Figure size 432x288 with 1 Axes>"
      ]
     },
     "metadata": {
      "needs_background": "light"
     },
     "output_type": "display_data"
    }
   ],
   "source": [
    "df_his = pd.DataFrame(history.history)\n",
    "df_his.plot()\n",
    "plt.show()"
   ]
  },
  {
   "cell_type": "code",
   "execution_count": 306,
   "metadata": {
    "ExecuteTime": {
     "end_time": "2019-07-23T07:19:20.276720Z",
     "start_time": "2019-07-23T07:19:19.622955Z"
    }
   },
   "outputs": [],
   "source": [
    "train_label_predicted = model.predict(train_X) \n",
    "train_label_predicted = train_label_predicted * train_labels_std + train_labels_mean\n",
    "\n"
   ]
  },
  {
   "cell_type": "code",
   "execution_count": 307,
   "metadata": {
    "ExecuteTime": {
     "end_time": "2019-07-23T07:19:22.540050Z",
     "start_time": "2019-07-23T07:19:22.314820Z"
    }
   },
   "outputs": [
    {
     "data": {
      "image/png": "[encoded data removed]",
      "text/plain": [
       "<Figure size 432x288 with 1 Axes>"
      ]
     },
     "metadata": {
      "needs_background": "light"
     },
     "output_type": "display_data"
    }
   ],
   "source": [
    "plt.figure()\n",
    "plt.scatter(train_labels_origin, train_label_predicted)\n",
    "plt.xlabel(\"train_labels\")\n",
    "plt.ylabel(\"train_label_predicted\")\n",
    "plt.plot()\n",
    "plt.show()"
   ]
  },
  {
   "cell_type": "markdown",
   "metadata": {},
   "source": [
    "# predict "
   ]
  },
  {
   "cell_type": "code",
   "execution_count": 308,
   "metadata": {
    "ExecuteTime": {
     "end_time": "2019-07-23T07:19:28.336010Z",
     "start_time": "2019-07-23T07:19:28.259708Z"
    }
   },
   "outputs": [],
   "source": [
    "results = model.predict(test_X) \n",
    "results  = results * train_labels_std + train_labels_mean "
   ]
  },
  {
   "cell_type": "code",
   "execution_count": 309,
   "metadata": {
    "ExecuteTime": {
     "end_time": "2019-07-23T07:19:30.711262Z",
     "start_time": "2019-07-23T07:19:30.702683Z"
    }
   },
   "outputs": [
    {
     "name": "stdout",
     "output_type": "stream",
     "text": [
      "test_x.shape=1459,  result.shape=1459\n"
     ]
    }
   ],
   "source": [
    "results = results.reshape(1,-1)[0]\n",
    "print('test_x.shape={},  result.shape={}'.format(test_X.shape[0], len(results)))\n",
    "dataset_test[\"SalePrice\"] = pd.Series(results)"
   ]
  },
  {
   "cell_type": "code",
   "execution_count": 311,
   "metadata": {
    "ExecuteTime": {
     "end_time": "2019-07-23T07:19:59.126776Z",
     "start_time": "2019-07-23T07:19:59.101156Z"
    }
   },
   "outputs": [
    {
     "data": {
      "text/html": [
       "<div>\n",
       "<style scoped>\n",
       "    .dataframe tbody tr th:only-of-type {\n",
       "        vertical-align: middle;\n",
       "    }\n",
       "\n",
       "    .dataframe tbody tr th {\n",
       "        vertical-align: top;\n",
       "    }\n",
       "\n",
       "    .dataframe thead th {\n",
       "        text-align: right;\n",
       "    }\n",
       "</style>\n",
       "<table border=\"1\" class=\"dataframe\">\n",
       "  <thead>\n",
       "    <tr style=\"text-align: right;\">\n",
       "      <th></th>\n",
       "      <th>Id</th>\n",
       "      <th>SalePrice</th>\n",
       "    </tr>\n",
       "  </thead>\n",
       "  <tbody>\n",
       "    <tr>\n",
       "      <th>0</th>\n",
       "      <td>1461</td>\n",
       "      <td>131284.656250</td>\n",
       "    </tr>\n",
       "    <tr>\n",
       "      <th>1</th>\n",
       "      <td>1462</td>\n",
       "      <td>173873.750000</td>\n",
       "    </tr>\n",
       "    <tr>\n",
       "      <th>2</th>\n",
       "      <td>1463</td>\n",
       "      <td>178591.421875</td>\n",
       "    </tr>\n",
       "    <tr>\n",
       "      <th>3</th>\n",
       "      <td>1464</td>\n",
       "      <td>184028.656250</td>\n",
       "    </tr>\n",
       "    <tr>\n",
       "      <th>4</th>\n",
       "      <td>1465</td>\n",
       "      <td>174770.406250</td>\n",
       "    </tr>\n",
       "  </tbody>\n",
       "</table>\n",
       "</div>"
      ],
      "text/plain": [
       "     Id      SalePrice\n",
       "0  1461  131284.656250\n",
       "1  1462  173873.750000\n",
       "2  1463  178591.421875\n",
       "3  1464  184028.656250\n",
       "4  1465  174770.406250"
      ]
     },
     "execution_count": 311,
     "metadata": {},
     "output_type": "execute_result"
    }
   ],
   "source": [
    "submission = pd.concat([dataset_test['Id'], dataset_test['SalePrice']], axis = 1)\n",
    "submission.to_csv(\"submission.csv\", index = False, mode=\"w\")\n",
    "submission.head()"
   ]
  },
  {
   "cell_type": "code",
   "execution_count": null,
   "metadata": {},
   "outputs": [],
   "source": []
  }
 ],
 "metadata": {
  "kernelspec": {
   "display_name": "Python 3",
   "language": "python",
   "name": "python3"
  },
  "language_info": {
   "codemirror_mode": {
    "name": "ipython",
    "version": 3
   },
   "file_extension": ".py",
   "mimetype": "text/x-python",
   "name": "python",
   "nbconvert_exporter": "python",
   "pygments_lexer": "ipython3",
   "version": "3.7.2"
  },
  "toc": {
   "base_numbering": 1,
   "nav_menu": {},
   "number_sections": true,
   "sideBar": true,
   "skip_h1_title": false,
   "title_cell": "Table of Contents",
   "title_sidebar": "Contents",
   "toc_cell": false,
   "toc_position": {},
   "toc_section_display": true,
   "toc_window_display": true
  },
  "varInspector": {
   "cols": {
    "lenName": 16,
    "lenType": 16,
    "lenVar": 40
   },
   "kernels_config": {
    "python": {
     "delete_cmd_postfix": "",
     "delete_cmd_prefix": "del ",
     "library": "var_list.py",
     "varRefreshCmd": "print(var_dic_list())"
    },
    "r": {
     "delete_cmd_postfix": ") ",
     "delete_cmd_prefix": "rm(",
     "library": "var_list.r",
     "varRefreshCmd": "cat(var_dic_list()) "
    }
   },
   "position": {
    "height": "407px",
    "left": "1049px",
    "right": "20px",
    "top": "122px",
    "width": "350px"
   },
   "types_to_exclude": [
    "module",
    "function",
    "builtin_function_or_method",
    "instance",
    "_Feature"
   ],
   "window_display": false
  }
 },
 "nbformat": 4,
 "nbformat_minor": 2
}
